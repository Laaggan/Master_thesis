{
  "nbformat": 4,
  "nbformat_minor": 0,
  "metadata": {
    "accelerator": "TPU",
    "colab": {
      "name": "segmentation_brats_colab.ipynb",
      "provenance": [],
      "collapsed_sections": [],
      "toc_visible": true,
      "machine_shape": "hm"
    },
    "kernelspec": {
      "display_name": "Python 3",
      "language": "python",
      "name": "python3"
    },
    "language_info": {
      "codemirror_mode": {
        "name": "ipython",
        "version": 3
      },
      "file_extension": ".py",
      "mimetype": "text/x-python",
      "name": "python",
      "nbconvert_exporter": "python",
      "pygments_lexer": "ipython3",
      "version": "3.6.9"
    }
  },
  "cells": [
    {
      "cell_type": "code",
      "metadata": {
        "colab_type": "code",
        "id": "uDKIINKU_HFe",
        "outputId": "ebb20940-b721-4ca5-c7b2-12c3f8a1bc6f",
        "colab": {
          "base_uri": "https://localhost:8080/",
          "height": 88
        }
      },
      "source": [
        "# Install package to be able to save keras weights\n",
        "pip install h5py"
      ],
      "execution_count": 1,
      "outputs": [
        {
          "output_type": "stream",
          "text": [
            "Requirement already satisfied: h5py in /usr/local/lib/python3.6/dist-packages (2.8.0)\n",
            "Requirement already satisfied: six in /usr/local/lib/python3.6/dist-packages (from h5py) (1.12.0)\n",
            "Requirement already satisfied: numpy>=1.7 in /usr/local/lib/python3.6/dist-packages (from h5py) (1.16.5)\n"
          ],
          "name": "stdout"
        }
      ]
    },
    {
      "cell_type": "code",
      "metadata": {
        "colab_type": "code",
        "id": "L06f9hdTEJVq",
        "outputId": "ae85972a-74c9-4be1-8874-3e6fbf2f7c5c",
        "colab": {
          "base_uri": "https://localhost:8080/",
          "height": 85
        }
      },
      "source": [
        "pip install nibabel"
      ],
      "execution_count": 0,
      "outputs": [
        {
          "output_type": "stream",
          "text": [
            "Requirement already satisfied: nibabel in /usr/local/lib/python3.6/dist-packages (2.3.3)\n",
            "Requirement already satisfied: numpy>=1.7.1 in /usr/local/lib/python3.6/dist-packages (from nibabel) (1.16.5)\n",
            "Requirement already satisfied: six>=1.3 in /usr/local/lib/python3.6/dist-packages (from nibabel) (1.12.0)\n",
            "Requirement already satisfied: bz2file in /usr/local/lib/python3.6/dist-packages (from nibabel) (0.98)\n"
          ],
          "name": "stdout"
        }
      ]
    },
    {
      "cell_type": "code",
      "metadata": {
        "colab_type": "code",
        "id": "5et-JeLXj3BG",
        "outputId": "93bf9c88-7cdb-43a4-af01-dc9978e792f0",
        "colab": {
          "base_uri": "https://localhost:8080/",
          "height": 122
        }
      },
      "source": [
        "# Mount google drive\n",
        "from google.colab import drive\n",
        "import os\n",
        "drive.mount('my_drive', force_remount=True)"
      ],
      "execution_count": 0,
      "outputs": [
        {
          "output_type": "stream",
          "text": [
            "Go to this URL in a browser: https://accounts.google.com/o/oauth2/auth?client_id=947318989803-6bn6qk8qdgf4n4g3pfee6491hc0brc4i.apps.googleusercontent.com&redirect_uri=urn%3Aietf%3Awg%3Aoauth%3A2.0%3Aoob&scope=email%20https%3A%2F%2Fwww.googleapis.com%2Fauth%2Fdocs.test%20https%3A%2F%2Fwww.googleapis.com%2Fauth%2Fdrive%20https%3A%2F%2Fwww.googleapis.com%2Fauth%2Fdrive.photos.readonly%20https%3A%2F%2Fwww.googleapis.com%2Fauth%2Fpeopleapi.readonly&response_type=code\n",
            "\n",
            "Enter your authorization code:\n",
            "··········\n",
            "Mounted at my_drive\n"
          ],
          "name": "stdout"
        }
      ]
    },
    {
      "cell_type": "code",
      "metadata": {
        "colab_type": "code",
        "id": "pyBuiXMrbjPF",
        "outputId": "c0800cd5-f2c6-4ae8-b89d-d4a898cc1b75",
        "colab": {
          "base_uri": "https://localhost:8080/",
          "height": 34
        }
      },
      "source": [
        "from keras.callbacks import Callback\n",
        "\n",
        "# What value maps to what class\n",
        "mapping = {\n",
        "    0: \"Null class\",\n",
        "    1: \"Necrotic and non-enhancing tumor core\",\n",
        "    2: \"Edema\",\n",
        "    4: \"GD-enhancing tumor\"\n",
        "}\n",
        "\n",
        "# fixme: skulle gå att göra bättre igenom att skicka med en tex tuple med titlarna\n",
        "# och returnera ett matplotlib-objekt istället för då hade man inte behövt ha olika\n",
        "# funktioner för \"plot_modalities\" och \"plt_OHE\" och också kunna ha två stycken figurer med \n",
        "# 2*2 subplots i en cell.\n",
        "def plot_modalities(x):\n",
        "    # Make sure input data is of correct shape\n",
        "    assert x.shape == (240, 240, 4), 'Shape of input data is incorrect'\n",
        "    \n",
        "    plt.subplot('221')\n",
        "    plt.imshow(x[:,:,0])\n",
        "    plt.axis('off')\n",
        "    plt.title('T1')\n",
        "    plt.colorbar()\n",
        "\n",
        "    plt.subplot('222')\n",
        "    plt.imshow(x[:,:,1])\n",
        "    plt.axis('off')\n",
        "    plt.title('T1ce')\n",
        "    plt.colorbar()\n",
        "\n",
        "    plt.subplot('223')\n",
        "    plt.imshow(x[:,:,2])\n",
        "    plt.axis('off')\n",
        "    plt.title('T2')\n",
        "    plt.colorbar()\n",
        "\n",
        "    plt.subplot('224')\n",
        "    plt.imshow(x[:,:,3])\n",
        "    plt.axis('off')\n",
        "    plt.title('FLAIR')\n",
        "    plt.colorbar()\n",
        "\n",
        "def plot_OHE(y):\n",
        "    # Make sure input data is of correct shape\n",
        "    assert y.shape == (240, 240, 4), 'Shape of input data is incorrect'\n",
        "    \n",
        "    plt.subplot('221')\n",
        "    plt.imshow(y[:,:,0])\n",
        "    plt.axis('off')\n",
        "    plt.title('Null')\n",
        "    plt.colorbar()\n",
        "\n",
        "    plt.subplot('222')\n",
        "    plt.imshow(y[:,:,1])\n",
        "    plt.axis('off')\n",
        "    plt.title('\"Necrotic and non-enhancing tumor core\"')\n",
        "    plt.colorbar()\n",
        "\n",
        "    plt.subplot('223')\n",
        "    plt.imshow(y[:,:,2])\n",
        "    plt.axis('off')\n",
        "    plt.title('Edema')\n",
        "    plt.colorbar()\n",
        "\n",
        "    plt.subplot('224')\n",
        "    plt.imshow(y[:,:,3])\n",
        "    plt.axis('off')\n",
        "    plt.title('GD-enhancing tumor')\n",
        "    plt.colorbar()\n",
        "\n",
        "def shift_and_scale(x):\n",
        "    assert len(x.shape) == 2, 'The input must be 2 dimensional'\n",
        "    result = x - np.mean(x)\n",
        "    result /= np.max(x)\n",
        "    return result\n",
        "\n",
        "def OHE(Y, mapping):\n",
        "    '''\n",
        "    Takes in a picture as a matrix with labels and returns a one hot encoded tensor\n",
        "    \n",
        "    Parameters:\n",
        "    Y is the picture\n",
        "    Mapping is what value corresponds to what label\n",
        "    \n",
        "    Returns:\n",
        "    A tensor with a channel for each label.\n",
        "    '''\n",
        "    shape = Y.shape\n",
        "    labels = mapping.keys()\n",
        "    one_hot_enc = np.zeros(list(shape) + [len(labels)])\n",
        "    \n",
        "    for i, label in enumerate(labels):\n",
        "        temp = np.zeros(shape)\n",
        "        ind = Y == label\n",
        "        temp[ind] = 1\n",
        "        one_hot_enc[:, :, i] = temp\n",
        "    return one_hot_enc\n",
        "\n",
        "#fixme: I don't know if providing this mapping is necessary\n",
        "# probably could be provided inside function instead.\n",
        "def OHE_uncoding(y, mapping):\n",
        "    result = np.argmax(y, axis=2)\n",
        "    labels = mapping.keys()\n",
        "    temp = np.zeros(result.shape)\n",
        "    for i, label in enumerate(labels):\n",
        "        ind = result == i\n",
        "        temp[ind] = label\n",
        "    return temp\n",
        "\n",
        "def IoU_wholeTumor(y_true, y_pred):\n",
        "    values = np.array([0., 1.])\n",
        "    unique_y_pred = np.unique(y_pred)\n",
        "    unique_y_true = np.unique(y_true)\n",
        "    assert np.array_equal(y_pred.shape, y_true.shape), 'Prediction and ground truth must have same shape'\n",
        "    assert np.array_equal(values, unique_y_pred), 'yhat and y must be one hot encodings'\n",
        "    assert np.array_equal(values, unique_y_true), 'yhat and y must be one hot encodings'\n",
        "    \n",
        "    \n",
        "    y_pred[:,:,0] = np.logical_not(y_pred[:,:,0]) \n",
        "    y_true[:,:,0] = np.logical_not(y_true[:,:,0])\n",
        "    \n",
        "    intersection = np.logical_and(y_pred[:,:,0], y_true[:,:,0])\n",
        "    union = np.logical_or(y_true[:,:,0], y_pred[:,:,0])\n",
        "    \n",
        "    size_int = np.count_nonzero(intersection)\n",
        "    size_uni = np.count_nonzero(union)\n",
        "    \n",
        "    return size_int/size_uni\n",
        "\n",
        "def dice_coefficient(y_true, y_pred):\n",
        "    y_true_f = K.flatten(y_true)\n",
        "    y_pred_f = K.flatten(y_pred)\n",
        "    intersection = K.sum(K.abs(y_true_f * y_pred_f), axis=-1)\n",
        "    return (2. * intersection) / (\n",
        "        K.sum(K.square(y_true_f), -1) + K.sum(K.square(y_pred_f), -1) + 1e-8)\n",
        "\n",
        "class CallbackJSON(Callback):\n",
        "    \"\"\" CallbackJSON descends from Callback\n",
        "        and is used to write the number of training samples that the model has been trained on\n",
        "        and the loss for a epoch\n",
        "    \"\"\"\n",
        "    def __init__(self, config):\n",
        "        \"\"\"Save params in constructor\n",
        "        config: Is a dictionary loaded from a JSON file which is used to keep track of training\n",
        "        \"\"\"\n",
        "        self.config = config\n",
        "        self.config_path = config['config_path']\n",
        "\n",
        "    def on_epoch_end(self, epoch, logs):\n",
        "        \"\"\"\n",
        "        Updates the history of the config dict and saves it to a file\n",
        "        \"\"\"\n",
        "        # How many effective training samples have been used\n",
        "        self.config['history']['training_samples_used'] += self.config['samples_used']\n",
        "        \n",
        "        # Logs the loss of the current epoch\n",
        "        self.config['history']['loss'].append(logs['loss'])\n",
        "        #fixme: add the same code but for \"val_loss\"\n",
        "        # Save new config file\n",
        "        with open(self.config_path, \"w\") as f:\n",
        "            f.write(json.dumps(self.config))\n",
        "\n",
        "print('Finished')"
      ],
      "execution_count": 3,
      "outputs": [
        {
          "output_type": "stream",
          "text": [
            "Finished\n"
          ],
          "name": "stdout"
        }
      ]
    },
    {
      "cell_type": "code",
      "metadata": {
        "colab_type": "code",
        "id": "oFoad5sFb_GU",
        "outputId": "3bceaba4-7698-46dd-9551-982a79454b6c",
        "colab": {
          "base_uri": "https://localhost:8080/",
          "height": 54
        }
      },
      "source": [
        "print(config)"
      ],
      "execution_count": 0,
      "outputs": [
        {
          "output_type": "stream",
          "text": [
            "{'weights_path': '/content/my_drive/My Drive/EXJOBB/training_sessions/Session_0/session_0_weights.h5', 'config_path': '/content/my_drive/My Drive/EXJOBB/training_sessions/Session_0/config_0.json', 'samples_used': 1, 'keep_training': True, 'history': {'training_samples_used': 4, 'loss': [nan, nan, nan, nan], 'val_loss': []}}\n"
          ],
          "name": "stdout"
        }
      ]
    },
    {
      "cell_type": "code",
      "metadata": {
        "colab_type": "code",
        "id": "uQxVcTuGEDHc",
        "outputId": "2a060718-da8e-4d3b-c21f-425c3905a950",
        "colab": {
          "base_uri": "https://localhost:8080/",
          "height": 51
        }
      },
      "source": [
        "import nibabel as nib\n",
        "import matplotlib.pyplot as plt\n",
        "import numpy as np\n",
        "import glob\n",
        "from os import listdir\n",
        "\n",
        "path_t1 = glob.glob(\"/content/my_drive/My Drive/Plugg/EXJOBB/MICCAI_BraTS_2019_Data_Training/HGG/*/*t1.nii.gz\")\n",
        "path_t1ce = glob.glob(\"/content/my_drive/My Drive/Plugg/EXJOBB/MICCAI_BraTS_2019_Data_Training/HGG/*/*t1ce.nii.gz\")\n",
        "path_t2 = glob.glob(\"/content/my_drive/My Drive/Plugg/EXJOBB/MICCAI_BraTS_2019_Data_Training/HGG/*/*t2.nii.gz\")\n",
        "path_flair = glob.glob(\"/content/my_drive/My Drive/Plugg/EXJOBB/MICCAI_BraTS_2019_Data_Training/HGG/*/*flair.nii.gz\")\n",
        "path_gt = glob.glob(\"/content/my_drive/My Drive/Plugg/EXJOBB/MICCAI_BraTS_2019_Data_Training/HGG/*/*seg.nii.gz\")\n",
        "img = (path_t1)\n",
        "\n",
        "img_t1 = nib.load(path_t1[1])\n",
        "img_t1ce = nib.load(path_t1ce[1])\n",
        "img_t2 = nib.load(path_t2[1])\n",
        "img_flair = nib.load(path_flair[1])\n",
        "img_gt = nib.load(path_gt[1])\n",
        "\n",
        "img_t1 = img_t1.get_fdata()\n",
        "img_t1ce = img_t1ce.get_fdata()\n",
        "img_t2 = img_t2.get_fdata()\n",
        "img_flair = img_flair.get_fdata()\n",
        "img_gt = img_gt.get_fdata()\n",
        "\n",
        "# I have here chosen to do shift and scale per image, which is not the only way to do it.\n",
        "for i in range(img_t1.shape[2]):\n",
        "    # shift and scale data\n",
        "    img_t1[:, :, i] = shift_and_scale(img_t1[:, :, i])\n",
        "    img_t1ce[:, :, i] = shift_and_scale(img_t1ce[:, :, i])\n",
        "    img_t2[:, :, i] = shift_and_scale(img_t2[:, :, i])\n",
        "    img_flair[:, :, i] = shift_and_scale(img_flair[:, :, i])\n",
        "    \n",
        "uncorrected_data = np.zeros((155, 240, 240, 4))\n",
        "\n",
        "# The last axis will become the first axis\n",
        "uncorrected_data[:, :, :, 0] = np.moveaxis(img_t1, -1, 0)\n",
        "uncorrected_data[:, :, :, 1] = np.moveaxis(img_t1ce, -1, 0)\n",
        "uncorrected_data[:, :, :, 2] = np.moveaxis(img_t2, -1, 0)\n",
        "uncorrected_data[:, :, :, 3] = np.moveaxis(img_flair, -1, 0)\n",
        "\n",
        "num_slices = 155\n",
        "uncorrected_OHE_labels = np.zeros((num_slices, 240, 240, 4))\n",
        "\n",
        "for j in range(num_slices):\n",
        "    uncorrected_OHE_labels[j, :, :, :] = OHE(img_gt[:, :, j], mapping)\n",
        "print('Finished')"
      ],
      "execution_count": 0,
      "outputs": [
        {
          "output_type": "stream",
          "text": [
            "/usr/local/lib/python3.6/dist-packages/ipykernel_launcher.py:74: RuntimeWarning: invalid value encountered in true_divide\n"
          ],
          "name": "stderr"
        },
        {
          "output_type": "stream",
          "text": [
            "Finished\n"
          ],
          "name": "stdout"
        }
      ]
    },
    {
      "cell_type": "code",
      "metadata": {
        "colab_type": "code",
        "id": "0S7IhnjEHMWA",
        "colab": {}
      },
      "source": [
        "# Load numpy data and necessary packages\n",
        "import matplotlib.pyplot as plt\n",
        "import numpy as np\n",
        "import pandas as pd\n",
        "\n",
        "#path_data = \"/content/my_drive/My Drive/Exjobb2/numpy_data.npy\"\n",
        "##path_labels = \"/content/my_drive/My Drive/Exjobb2/numpy_labels.npy\"\n",
        "#data = np.load(path_data)\n",
        "#OHE_labels = np.load(path_labels)"
      ],
      "execution_count": 0,
      "outputs": []
    },
    {
      "cell_type": "code",
      "metadata": {
        "colab_type": "code",
        "id": "f8uUm5OMbjPQ",
        "outputId": "efdbc59b-a889-4046-e3e7-cdf809ae4cab",
        "colab": {
          "base_uri": "https://localhost:8080/",
          "height": 281
        }
      },
      "source": [
        "# This will show a slice of a patient\n",
        "ind = 70\n",
        "\n",
        "plot_modalities(uncorrected_data[ind, :, :, :])"
      ],
      "execution_count": 0,
      "outputs": [
        {
          "output_type": "display_data",
          "data": {
            "image/png": "[encoded data removed]",
            "text/plain": [
              "<Figure size 432x288 with 8 Axes>"
            ]
          },
          "metadata": {
            "tags": []
          }
        }
      ]
    },
    {
      "cell_type": "code",
      "metadata": {
        "colab_type": "code",
        "id": "5zkievcDbjPc",
        "colab": {}
      },
      "source": [
        "import numpy as np\n",
        "import os\n",
        "import skimage.io as io\n",
        "import skimage.transform as trans\n",
        "import numpy as np\n",
        "from keras.models import *\n",
        "from keras.layers import *\n",
        "from keras.activations import *\n",
        "from keras.optimizers import *\n",
        "from keras.callbacks import ModelCheckpoint, LearningRateScheduler\n",
        "from keras import backend as keras\n",
        "\n",
        "def unet(pretrained_weights = None, input_size = (256, 256, 1), num_classes=1):\n",
        "  inputs = Input(input_size)\n",
        "  conv1 = Conv2D(64, 3, activation = 'relu', padding = 'same', kernel_initializer = 'he_normal')(inputs)\n",
        "  conv1 = Conv2D(64, 3, activation = 'relu', padding = 'same', kernel_initializer = 'he_normal')(conv1)\n",
        "  pool1 = MaxPooling2D(pool_size = (2, 2))(conv1)\n",
        "  \n",
        "  conv2 = Conv2D(128, 3, activation = 'relu', padding = 'same', kernel_initializer = 'he_normal')(pool1)\n",
        "  conv2 = Conv2D(128, 3, activation = 'relu', padding = 'same', kernel_initializer = 'he_normal')(conv2)\n",
        "  pool2 = MaxPooling2D(pool_size = (2, 2))(conv2)\n",
        "  \n",
        "  conv3 = Conv2D(256, 3, activation = 'relu', padding = 'same', kernel_initializer = 'he_normal')(pool2)\n",
        "  conv3 = Conv2D(256, 3, activation = 'relu', padding = 'same', kernel_initializer = 'he_normal')(conv3)\n",
        "  pool3 = MaxPooling2D(pool_size = (2, 2))(conv3)\n",
        "  \n",
        "  conv4 = Conv2D(512, 3, activation = 'relu', padding = 'same', kernel_initializer = 'he_normal')(pool3)\n",
        "  conv4 = Conv2D(512, 3, activation = 'relu', padding = 'same', kernel_initializer = 'he_normal')(conv4)\n",
        "  drop4 = Dropout(0.5)(conv4)\n",
        "  pool4 = MaxPooling2D(pool_size = (2, 2))(drop4)\n",
        "  \n",
        "  conv5 = Conv2D(1024, 3, activation = 'relu', padding = 'same', kernel_initializer = 'he_normal')(pool4)\n",
        "  conv5 = Conv2D(1024, 3, activation = 'relu', padding = 'same', kernel_initializer = 'he_normal')(conv5)\n",
        "  drop5 = Dropout(0.5)(conv5)\n",
        "  \n",
        "  up6 = Conv2D(512, 2, activation = 'relu', padding = 'same', kernel_initializer = 'he_normal')(UpSampling2D(size = (2, 2))(drop5))\n",
        "  merge6 = concatenate([drop4, up6], axis = 3)\n",
        "  conv6 = Conv2D(512, 3, activation = 'relu', padding = 'same', kernel_initializer = 'he_normal')(merge6)\n",
        "  conv6 = Conv2D(512, 3, activation = 'relu', padding = 'same', kernel_initializer = 'he_normal')(conv6)\n",
        "  \n",
        "  up7 = Conv2D(256, 2, activation = 'relu', padding = 'same', kernel_initializer = 'he_normal')(UpSampling2D(size = (2, 2))(conv6))\n",
        "  merge7 = concatenate([conv3, up7], axis = 3)\n",
        "  conv7 = Conv2D(256, 3, activation = 'relu', padding = 'same', kernel_initializer = 'he_normal')(merge7)\n",
        "  conv7 = Conv2D(256, 3, activation = 'relu', padding = 'same', kernel_initializer = 'he_normal')(conv7)\n",
        "  \n",
        "  up8 = Conv2D(128, 2, activation = 'relu', padding = 'same', kernel_initializer = 'he_normal')(UpSampling2D(size = (2, 2))(conv7))\n",
        "  merge8 = concatenate([conv2, up8], axis = 3)\n",
        "  conv8 = Conv2D(128, 3, activation = 'relu', padding = 'same', kernel_initializer = 'he_normal')(merge8)\n",
        "  conv8 = Conv2D(128, 3, activation = 'relu', padding = 'same', kernel_initializer = 'he_normal')(conv8)\n",
        "  \n",
        "  up9 = Conv2D(64, 2, activation = 'relu', padding = 'same', kernel_initializer = 'he_normal')(UpSampling2D(size = (2, 2))(conv8))\n",
        "  merge9 = concatenate([conv1, up9], axis = 3)\n",
        "  conv9 = Conv2D(64, 3, activation = 'relu', padding = 'same', kernel_initializer = 'he_normal')(merge9)\n",
        "  conv9 = Conv2D(64, 3, activation = 'relu', padding = 'same', kernel_initializer = 'he_normal')(conv9)\n",
        "  conv9 = Conv2D(num_classes, 3, activation = 'relu', padding = 'same', kernel_initializer = 'he_normal')(conv9)\n",
        "  \n",
        "  reshape = Reshape((num_classes, input_size[0] * input_size[1]), input_shape = (num_classes, input_size[0], input_size[1]))(conv9)\n",
        "  permute = Permute((2, 1))(reshape)\n",
        "  activation = Softmax(axis=-1)(permute)\n",
        "  \n",
        "  model = Model(input = inputs, output = activation)\n",
        "  model.compile(optimizer = Adam(lr=0.001), loss = 'categorical_crossentropy', metrics=[dice_coefficient])\n",
        "  if (pretrained_weights):\n",
        "    model.load_weights(pretrained_weights)\n",
        "  return model"
      ],
      "execution_count": 0,
      "outputs": []
    },
    {
      "cell_type": "markdown",
      "metadata": {
        "colab_type": "text",
        "id": "3705e3NYZ5ln"
      },
      "source": [
        "# Main training cell"
      ]
    },
    {
      "cell_type": "code",
      "metadata": {
        "colab_type": "code",
        "id": "oFp9Vq4udUGo",
        "outputId": "a5c3eb65-5ce6-4458-9563-723853d60cc4",
        "colab": {
          "base_uri": "https://localhost:8080/",
          "height": 445
        }
      },
      "source": [
        "# The path to where to save weights and initialize ModelCheckpoint\n",
        "#weights_path = config['weights_path']\n",
        "from keras.callbacks import ModelCheckpoint\n",
        "#MyModelCheckPoint = ModelCheckpoint(weights_path, verbose=0, save_weights_only=True)\n",
        "\n",
        "#if config['keep_training'] == True:\n",
        "    # Keep training on the old weights\n",
        "#    my_unet.load_weights(weights_path)\n",
        "#else:\n",
        "    # Initialize network\n",
        "#    my_unet = unet(input_size = (240, 240, 4), num_classes = 4)\n",
        "#    config['keep_training'] = True\n",
        "my_unet = unet(input_size = (240, 240, 4), num_classes = 4)\n",
        "\n",
        "samples_used = 100\n",
        " #i = 70 has all labels present in the image\n",
        "n = uncorrected_data.shape[0]\n",
        "i = np.random.randint(n, size=[samples_used,])\n",
        "x = uncorrected_data[i, :, :, :].reshape(samples_used, 240, 240, 4)\n",
        "y = uncorrected_OHE_labels[i, :, :, :].reshape(samples_used, -1, 4)\n",
        "\n",
        "#x = x[0, :, :, :].reshape(1, 240, 240, 4)\n",
        "# You have to reshape the output in this hacky way for keras to be able to use softmax in last layer\n",
        "#y = y[0, :, :, :].reshape(1, -1, 4)\n",
        "\n",
        "# Returns an object with accuracy and loss\n",
        "history = my_unet.fit(x=x, \n",
        "                      y=y, \n",
        "                      batch_size=None,\n",
        "                      epochs=4, \n",
        "                      verbose=1, \n",
        "                      #callbacks=[CallbackJSON(config=config), MyModelCheckPoint],\n",
        "                      validation_split=0.0, \n",
        "                      validation_data=None, \n",
        "                      shuffle=True, \n",
        "                      class_weight=None, \n",
        "                      sample_weight=None, \n",
        "                      initial_epoch=0, \n",
        "                      steps_per_epoch=1, \n",
        "                      validation_steps=None, \n",
        "                      validation_freq=1)\n"
      ],
      "execution_count": 0,
      "outputs": [
        {
          "output_type": "stream",
          "text": [
            "WARNING:tensorflow:From /usr/local/lib/python3.6/dist-packages/keras/backend/tensorflow_backend.py:66: The name tf.get_default_graph is deprecated. Please use tf.compat.v1.get_default_graph instead.\n",
            "\n",
            "WARNING:tensorflow:From /usr/local/lib/python3.6/dist-packages/keras/backend/tensorflow_backend.py:541: The name tf.placeholder is deprecated. Please use tf.compat.v1.placeholder instead.\n",
            "\n",
            "WARNING:tensorflow:From /usr/local/lib/python3.6/dist-packages/keras/backend/tensorflow_backend.py:4479: The name tf.truncated_normal is deprecated. Please use tf.random.truncated_normal instead.\n",
            "\n",
            "WARNING:tensorflow:From /usr/local/lib/python3.6/dist-packages/keras/backend/tensorflow_backend.py:4267: The name tf.nn.max_pool is deprecated. Please use tf.nn.max_pool2d instead.\n",
            "\n",
            "WARNING:tensorflow:From /usr/local/lib/python3.6/dist-packages/keras/backend/tensorflow_backend.py:148: The name tf.placeholder_with_default is deprecated. Please use tf.compat.v1.placeholder_with_default instead.\n",
            "\n",
            "WARNING:tensorflow:From /usr/local/lib/python3.6/dist-packages/keras/backend/tensorflow_backend.py:3733: calling dropout (from tensorflow.python.ops.nn_ops) with keep_prob is deprecated and will be removed in a future version.\n",
            "Instructions for updating:\n",
            "Please use `rate` instead of `keep_prob`. Rate should be set to `rate = 1 - keep_prob`.\n",
            "WARNING:tensorflow:From /usr/local/lib/python3.6/dist-packages/keras/backend/tensorflow_backend.py:2239: The name tf.image.resize_nearest_neighbor is deprecated. Please use tf.compat.v1.image.resize_nearest_neighbor instead.\n",
            "\n",
            "WARNING:tensorflow:From /usr/local/lib/python3.6/dist-packages/keras/optimizers.py:793: The name tf.train.Optimizer is deprecated. Please use tf.compat.v1.train.Optimizer instead.\n",
            "\n",
            "WARNING:tensorflow:From /usr/local/lib/python3.6/dist-packages/keras/backend/tensorflow_backend.py:3576: The name tf.log is deprecated. Please use tf.math.log instead.\n",
            "\n"
          ],
          "name": "stdout"
        },
        {
          "output_type": "stream",
          "text": [
            "/usr/local/lib/python3.6/dist-packages/ipykernel_launcher.py:61: UserWarning: Update your `Model` call to the Keras 2 API: `Model(inputs=Tensor(\"in..., outputs=Tensor(\"so...)`\n"
          ],
          "name": "stderr"
        },
        {
          "output_type": "stream",
          "text": [
            "WARNING:tensorflow:From /usr/local/lib/python3.6/dist-packages/tensorflow/python/ops/math_grad.py:1250: add_dispatch_support.<locals>.wrapper (from tensorflow.python.ops.array_ops) is deprecated and will be removed in a future version.\n",
            "Instructions for updating:\n",
            "Use tf.where in 2.0, which has the same broadcast rule as np.where\n",
            "Epoch 1/4\n"
          ],
          "name": "stdout"
        }
      ]
    },
    {
      "cell_type": "code",
      "metadata": {
        "colab_type": "code",
        "id": "PdNTStvqbIFh",
        "outputId": "5a53d424-0ae2-48ac-a950-cf163210b27c",
        "colab": {
          "base_uri": "https://localhost:8080/",
          "height": 198
        }
      },
      "source": [
        "#loss = config['history']['loss']\n",
        "print(history.history)\n",
        "\n",
        "plt.plot(history.history['loss'])"
      ],
      "execution_count": 0,
      "outputs": [
        {
          "output_type": "error",
          "ename": "NameError",
          "evalue": "ignored",
          "traceback": [
            "\u001b[0;31m---------------------------------------------------------------------------\u001b[0m",
            "\u001b[0;31mNameError\u001b[0m                                 Traceback (most recent call last)",
            "\u001b[0;32m<ipython-input-1-ccc3fad5bbef>\u001b[0m in \u001b[0;36m<module>\u001b[0;34m()\u001b[0m\n\u001b[0;32m----> 1\u001b[0;31m \u001b[0mprint\u001b[0m\u001b[0;34m(\u001b[0m\u001b[0mhistory\u001b[0m\u001b[0;34m.\u001b[0m\u001b[0mhistory\u001b[0m\u001b[0;34m)\u001b[0m\u001b[0;34m\u001b[0m\u001b[0;34m\u001b[0m\u001b[0m\n\u001b[0m\u001b[1;32m      2\u001b[0m \u001b[0;34m\u001b[0m\u001b[0m\n\u001b[1;32m      3\u001b[0m \u001b[0mplt\u001b[0m\u001b[0;34m.\u001b[0m\u001b[0mplot\u001b[0m\u001b[0;34m(\u001b[0m\u001b[0mhistory\u001b[0m\u001b[0;34m.\u001b[0m\u001b[0mhistory\u001b[0m\u001b[0;34m[\u001b[0m\u001b[0;34m'loss'\u001b[0m\u001b[0;34m]\u001b[0m\u001b[0;34m)\u001b[0m\u001b[0;34m\u001b[0m\u001b[0;34m\u001b[0m\u001b[0m\n",
            "\u001b[0;31mNameError\u001b[0m: name 'history' is not defined"
          ]
        }
      ]
    },
    {
      "cell_type": "code",
      "metadata": {
        "id": "baV4E1AJub-B",
        "colab_type": "code",
        "colab": {}
      },
      "source": [
        "yhat = my_unet.predict(x)"
      ],
      "execution_count": 0,
      "outputs": []
    },
    {
      "cell_type": "code",
      "metadata": {
        "id": "j832yGCJuAUt",
        "colab_type": "code",
        "colab": {}
      },
      "source": [
        "print(yhat.shape)"
      ],
      "execution_count": 0,
      "outputs": []
    },
    {
      "cell_type": "code",
      "metadata": {
        "id": "hri5mWChuswd",
        "colab_type": "code",
        "colab": {}
      },
      "source": [
        "re_yhat = yhat.reshape(240,240,4)"
      ],
      "execution_count": 0,
      "outputs": []
    },
    {
      "cell_type": "code",
      "metadata": {
        "id": "iR23jlc5uzzt",
        "colab_type": "code",
        "colab": {}
      },
      "source": [
        "plot_OHE(re_yhat)"
      ],
      "execution_count": 0,
      "outputs": []
    },
    {
      "cell_type": "code",
      "metadata": {
        "id": "sVjDGzesu3_N",
        "colab_type": "code",
        "colab": {}
      },
      "source": [
        ""
      ],
      "execution_count": 0,
      "outputs": []
    }
  ]
}