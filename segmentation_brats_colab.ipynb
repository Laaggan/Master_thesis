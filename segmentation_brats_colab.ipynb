{
 "cells": [
  {
   "cell_type": "markdown",
   "metadata": {
    "colab_type": "text",
    "id": "pc0e7NjANKvB"
   },
   "source": [
    "Linus code"
   ]
  },
  {
   "cell_type": "code",
   "execution_count": 1,
   "metadata": {
    "colab": {
     "base_uri": "https://localhost:8080/",
     "height": 68
    },
    "colab_type": "code",
    "executionInfo": {
     "elapsed": 4245,
     "status": "ok",
     "timestamp": 1571900254797,
     "user": {
      "displayName": "Linus Lagergren",
      "photoUrl": "",
      "userId": "10069920663213268691"
     },
     "user_tz": -60
    },
    "id": "uDKIINKU_HFe",
    "outputId": "707becce-fda6-4c98-f133-0e2d16781638"
   },
   "outputs": [
    {
     "name": "stdout",
     "output_type": "stream",
     "text": [
      "Requirement already satisfied: h5py in /usr/local/lib/python3.6/dist-packages (2.8.0)\n",
      "Requirement already satisfied: numpy>=1.7 in /usr/local/lib/python3.6/dist-packages (from h5py) (1.16.5)\n",
      "Requirement already satisfied: six in /usr/local/lib/python3.6/dist-packages (from h5py) (1.12.0)\n"
     ]
    }
   ],
   "source": [
    "# Install package to be able to save keras weights\n",
    "pip install h5py"
   ]
  },
  {
   "cell_type": "code",
   "execution_count": 2,
   "metadata": {
    "colab": {
     "base_uri": "https://localhost:8080/",
     "height": 85
    },
    "colab_type": "code",
    "executionInfo": {
     "elapsed": 6781,
     "status": "ok",
     "timestamp": 1571900257347,
     "user": {
      "displayName": "Linus Lagergren",
      "photoUrl": "",
      "userId": "10069920663213268691"
     },
     "user_tz": -60
    },
    "id": "L06f9hdTEJVq",
    "outputId": "2286fbc3-6317-44b3-af24-247834ff9f9f"
   },
   "outputs": [
    {
     "name": "stdout",
     "output_type": "stream",
     "text": [
      "Requirement already satisfied: nibabel in /usr/local/lib/python3.6/dist-packages (2.3.3)\n",
      "Requirement already satisfied: six>=1.3 in /usr/local/lib/python3.6/dist-packages (from nibabel) (1.12.0)\n",
      "Requirement already satisfied: numpy>=1.7.1 in /usr/local/lib/python3.6/dist-packages (from nibabel) (1.16.5)\n",
      "Requirement already satisfied: bz2file in /usr/local/lib/python3.6/dist-packages (from nibabel) (0.98)\n"
     ]
    }
   ],
   "source": [
    "pip install nibabel"
   ]
  },
  {
   "cell_type": "code",
   "execution_count": 3,
   "metadata": {
    "colab": {
     "base_uri": "https://localhost:8080/",
     "height": 34
    },
    "colab_type": "code",
    "executionInfo": {
     "elapsed": 8960,
     "status": "ok",
     "timestamp": 1571900259551,
     "user": {
      "displayName": "Linus Lagergren",
      "photoUrl": "",
      "userId": "10069920663213268691"
     },
     "user_tz": -60
    },
    "id": "5et-JeLXj3BG",
    "outputId": "276bd8e9-a060-4ea6-8195-11d998621178"
   },
   "outputs": [
    {
     "name": "stdout",
     "output_type": "stream",
     "text": [
      "Mounted at my_drive\n"
     ]
    }
   ],
   "source": [
    "# Mount google drive\n",
    "from google.colab import drive\n",
    "import os\n",
    "drive.mount('my_drive', force_remount=True)"
   ]
  },
  {
   "cell_type": "code",
   "execution_count": 6,
   "metadata": {
    "colab": {
     "base_uri": "https://localhost:8080/",
     "height": 68
    },
    "colab_type": "code",
    "executionInfo": {
     "elapsed": 17822,
     "status": "ok",
     "timestamp": 1571900268457,
     "user": {
      "displayName": "Linus Lagergren",
      "photoUrl": "",
      "userId": "10069920663213268691"
     },
     "user_tz": -60
    },
    "id": "XN2r9qPvNKvJ",
    "outputId": "ba8ef823-4a05-4cae-bddb-a17e2e09c519"
   },
   "outputs": [
    {
     "name": "stdout",
     "output_type": "stream",
     "text": [
      "Finished\n",
      "1.549692928\n"
     ]
    }
   ],
   "source": [
    "import numpy as np\n",
    "import matplotlib.pyplot as plt\n",
    "from keras.callbacks import Callback\n",
    "import keras.backend as K\n",
    "import json\n",
    "import psutil\n",
    "import glob\n",
    "import nibabel as nib\n",
    "import os\n",
    "import skimage.io as io\n",
    "import skimage.transform as trans\n",
    "from keras.models import *\n",
    "from keras.layers import *\n",
    "from keras.activations import *\n",
    "from keras.optimizers import *\n",
    "from keras.callbacks import ModelCheckpoint, LearningRateScheduler\n",
    "from keras import backend as keras\n",
    "\n",
    "def print_memory_use():\n",
    "    '''\n",
    "    Function which prints current python memory usage\n",
    "    '''\n",
    "    process = psutil.Process(os.getpid())\n",
    "    print(process.memory_info().rss/1e9)\n",
    "\n",
    "# What value maps to what class\n",
    "mapping = {\n",
    "    0: \"Null class\",\n",
    "    1: \"Necrotic and non-enhancing tumor core\",\n",
    "    2: \"Edema\",\n",
    "    4: \"GD-enhancing tumor\"\n",
    "}\n",
    "\n",
    "# fixme: skulle gå att göra bättre igenom att skicka med en tex tuple med titlarna\n",
    "# och returnera ett matplotlib-objekt istället för då hade man inte behövt ha olika\n",
    "# funktioner för \"plot_modalities\" och \"plt_OHE\" och också kunna ha två stycken figurer med \n",
    "# 2*2 subplots i en cell.\n",
    "def plot_modalities(x):\n",
    "    # Make sure input data is of correct shape\n",
    "    assert x.shape == (240, 240, 4), 'Shape of input data is incorrect'\n",
    "    \n",
    "    plt.subplot('221')\n",
    "    plt.imshow(x[:,:,0])\n",
    "    plt.axis('off')\n",
    "    plt.title('T1')\n",
    "    plt.colorbar()\n",
    "\n",
    "    plt.subplot('222')\n",
    "    plt.imshow(x[:,:,1])\n",
    "    plt.axis('off')\n",
    "    plt.title('T1ce')\n",
    "    plt.colorbar()\n",
    "\n",
    "    plt.subplot('223')\n",
    "    plt.imshow(x[:,:,2])\n",
    "    plt.axis('off')\n",
    "    plt.title('T2')\n",
    "    plt.colorbar()\n",
    "\n",
    "    plt.subplot('224')\n",
    "    plt.imshow(x[:,:,3])\n",
    "    plt.axis('off')\n",
    "    plt.title('FLAIR')\n",
    "    plt.colorbar()\n",
    "    plt.show()\n",
    "\n",
    "def plot_OHE(y):\n",
    "    # Make sure input data is of correct shape\n",
    "    assert y.shape == (240, 240, 4), 'Shape of input data is incorrect'\n",
    "    \n",
    "    plt.subplot('221')\n",
    "    plt.imshow(y[:,:,0])\n",
    "    plt.axis('off')\n",
    "    plt.title('Null')\n",
    "    plt.colorbar()\n",
    "\n",
    "    plt.subplot('222')\n",
    "    plt.imshow(y[:,:,1])\n",
    "    plt.axis('off')\n",
    "    plt.title('\"Necrotic and non-enhancing tumor core\"')\n",
    "    plt.colorbar()\n",
    "\n",
    "    plt.subplot('223')\n",
    "    plt.imshow(y[:,:,2])\n",
    "    plt.axis('off')\n",
    "    plt.title('Edema')\n",
    "    plt.colorbar()\n",
    "\n",
    "    plt.subplot('224')\n",
    "    plt.imshow(y[:,:,3])\n",
    "    plt.axis('off')\n",
    "    plt.title('GD-enhancing tumor')\n",
    "    plt.colorbar()\n",
    "    plt.show()\n",
    "\n",
    "def shift_and_scale(x):\n",
    "    assert len(x.shape) == 2, 'The input must be 2 dimensional'\n",
    "    #assert np.std(x) != 0, 'Cant divide by zero'\n",
    "    result = x - np.mean(x)\n",
    "    \n",
    "    # This is a really ugly hack\n",
    "    if np.std(x) == 0:\n",
    "      result /= 1\n",
    "    else:\n",
    "      result /= np.std(x)\n",
    "    return result\n",
    "\n",
    "def OHE(Y, mapping):\n",
    "    '''\n",
    "    Takes in a picture as a matrix with labels and returns a one hot encoded tensor\n",
    "    \n",
    "    Parameters:\n",
    "    Y is the picture\n",
    "    Mapping is what value corresponds to what label\n",
    "    \n",
    "    Returns:\n",
    "    A tensor with a channel for each label.\n",
    "    '''\n",
    "    shape = Y.shape\n",
    "    labels = mapping.keys()\n",
    "    one_hot_enc = np.zeros(list(shape) + [len(labels)])\n",
    "    \n",
    "    for i, label in enumerate(labels):\n",
    "        temp = np.zeros(shape)\n",
    "        ind = Y == label\n",
    "        temp[ind] = 1\n",
    "        one_hot_enc[:, :, i] = temp\n",
    "    return one_hot_enc\n",
    "\n",
    "#fixme: I don't know if providing this mapping is necessary\n",
    "# probably could be provided inside function instead.\n",
    "def OHE_uncoding(y, mapping):\n",
    "    result = np.argmax(y, axis=2)\n",
    "    labels = mapping.keys()\n",
    "    temp = np.zeros(result.shape)\n",
    "    for i, label in enumerate(labels):\n",
    "        ind = result == i\n",
    "        temp[ind] = label\n",
    "    return temp\n",
    "\n",
    "def IoU_wholeTumor(y_true, y_pred):\n",
    "    values = np.array([0., 1.])\n",
    "    unique_y_pred = np.unique(y_pred)\n",
    "    unique_y_true = np.unique(y_true)\n",
    "    assert np.array_equal(y_pred.shape, y_true.shape), 'Prediction and ground truth must have same shape'\n",
    "    assert np.array_equal(values, unique_y_pred), 'yhat and y must be one hot encodings'\n",
    "    assert np.array_equal(values, unique_y_true), 'yhat and y must be one hot encodings'\n",
    "    \n",
    "    \n",
    "    y_pred[:,:,0] = np.logical_not(y_pred[:,:,0]) \n",
    "    y_true[:,:,0] = np.logical_not(y_true[:,:,0])\n",
    "    \n",
    "    intersection = np.logical_and(y_pred[:,:,0], y_true[:,:,0])\n",
    "    union = np.logical_or(y_true[:,:,0], y_pred[:,:,0])\n",
    "    \n",
    "    size_int = np.count_nonzero(intersection)\n",
    "    size_uni = np.count_nonzero(union)\n",
    "    \n",
    "    return size_int/size_uni\n",
    "\n",
    "def dice_coefficient(y_true, y_pred):\n",
    "    y_true_f = K.flatten(y_true)\n",
    "    y_pred_f = K.flatten(y_pred)\n",
    "    intersection = K.sum(K.abs(y_true_f * y_pred_f), axis=-1)\n",
    "    return (2. * intersection) / (\n",
    "        K.sum(K.square(y_true_f), -1) + K.sum(K.square(y_pred_f), -1) + 1e-8)\n",
    "\n",
    "def confusion_matrix(y_true, y_pred):\n",
    "    values = np.array([0., 1.])\n",
    "    unique_y_pred = np.unique(y_pred)\n",
    "    unique_y_true = np.unique(y_true)\n",
    "    assert np.array_equal(y_pred.shape, y_true.shape), 'Prediction and ground truth must have same shape'\n",
    "    assert np.array_equal(values, unique_y_pred), 'yhat and y must be one hot encodings'\n",
    "    assert np.array_equal(values, unique_y_true), 'yhat and y must be one hot encodings'\n",
    "    \n",
    "    p_00 = np.count_nonzero(np.logical_and(y_pred[:,:,0], y_true[:,:,0]))\n",
    "    p_11 = np.count_nonzero(np.logical_and(y_pred[:,:,1], y_true[:,:,1]))\n",
    "    p_22 = np.count_nonzero(np.logical_and(y_pred[:,:,2], y_true[:,:,2]))\n",
    "    p_33 = np.count_nonzero(np.logical_and(y_pred[:,:,3], y_true[:,:,3]))\n",
    "\n",
    "    f_10 = np.count_nonzero(np.logical_and(y_pred[:,:,0], y_true[:,:,1]))\n",
    "    f_20 = np.count_nonzero(np.logical_and(y_pred[:,:,0], y_true[:,:,2]))\n",
    "    f_30 = np.count_nonzero(np.logical_and(y_pred[:,:,0], y_true[:,:,3]))\n",
    "\n",
    "    f_01 = np.count_nonzero(np.logical_and(y_pred[:,:,1], y_true[:,:,0]))\n",
    "    f_21 = np.count_nonzero(np.logical_and(y_pred[:,:,1], y_true[:,:,2]))\n",
    "    f_31 = np.count_nonzero(np.logical_and(y_pred[:,:,1], y_true[:,:,3]))\n",
    "\n",
    "    f_02 = np.count_nonzero(np.logical_and(y_pred[:,:,2], y_true[:,:,0]))\n",
    "    f_12 = np.count_nonzero(np.logical_and(y_pred[:,:,2], y_true[:,:,1]))\n",
    "    f_32 = np.count_nonzero(np.logical_and(y_pred[:,:,2], y_true[:,:,3]))\n",
    "\n",
    "    f_03 = np.count_nonzero(np.logical_and(y_pred[:,:,3], y_true[:,:,0]))\n",
    "    f_13 = np.count_nonzero(np.logical_and(y_pred[:,:,3], y_true[:,:,1]))\n",
    "    f_23 = np.count_nonzero(np.logical_and(y_pred[:,:,3], y_true[:,:,2]))\n",
    "\n",
    "    conf_matrix = np.array([p_00, f_01, f_02, f_03,\n",
    "                            f_10,p_11, f_12, f_13, \n",
    "                            f_20, f_21, p_22, f_23, \n",
    "                            f_30, f_31, f_32, p_33])\n",
    "    conf_matrix = conf_matrix.reshape(4,4)\n",
    "    \n",
    "    return conf_matrix\n",
    "\n",
    "def reset_config(config, config_path=None, weights_path=None):\n",
    "    new_config = config\n",
    "    if weights_path:\n",
    "        assert type(weights_path) == str, 'The weight path must be a string'\n",
    "        new_config['weights_path'] = weights_path\n",
    "    if config_path:\n",
    "        assert type(config_path) == str, 'The config path must be a string'\n",
    "        new_config['config_path'] = config_path\n",
    "    new_config['history']['training_samples_used'] = 0\n",
    "    new_config['history']['loss'] = []\n",
    "    new_config['history']['val_loss'] = []\n",
    "    new_config['keep_training'] = False\n",
    "\n",
    "class CallbackJSON(Callback):\n",
    "    \"\"\" CallbackJSON descends from Callback\n",
    "        and is used to write the number of training samples that the model has been trained on\n",
    "        and the loss for a epoch\n",
    "    \"\"\"\n",
    "    def __init__(self, config):\n",
    "        \"\"\"Save params in constructor\n",
    "        config: Is a dictionary loaded from a JSON file which is used to keep track of training\n",
    "        \"\"\"\n",
    "        self.config = config\n",
    "        self.config_path = config['config_path']\n",
    "\n",
    "    def on_epoch_end(self, epoch, logs):\n",
    "        \"\"\"\n",
    "        Updates the history of the config dict and saves it to a file\n",
    "        \"\"\"\n",
    "        # How many effective training samples have been used\n",
    "        self.config['history']['training_samples_used'] += self.config['samples_used']\n",
    "        \n",
    "        # Logs the loss of the current epoch\n",
    "        self.config['history']['loss'].append(logs['loss'])\n",
    "        #fixme: add the same code but for \"val_loss\"\n",
    "        self.config['history']['val_loss'].append(logs['val_loss'])\n",
    "        \n",
    "        print_memory_use()\n",
    "        # Save new config file\n",
    "        with open(self.config_path, \"w\") as f:\n",
    "            f.write(json.dumps(self.config))\n",
    "\n",
    "def load_patients(i, j, num_classes, base_path=\"\"):\n",
    "    assert j >= i, 'j>i has to be true, you have given an invalid range of patients.'\n",
    "    \n",
    "    path = base_path + \"MICCAI_BraTS_2019_Data_Training/*/*/*\"\n",
    "    \n",
    "    wild_t1 = path + \"_t1.nii.gz\"\n",
    "    wild_t1ce = path + \"_t1ce.nii.gz\"\n",
    "    wild_t2 = path + \"_t2.nii.gz\"\n",
    "    wild_flair = path + \"_flair.nii.gz\"\n",
    "    wild_gt = path + \"_seg.nii.gz\"\n",
    "    \n",
    "    t1_paths = glob.glob(wild_t1)\n",
    "    t1ce_paths = glob.glob(wild_t1ce)\n",
    "    t2_paths = glob.glob(wild_t2)\n",
    "    flair_paths = glob.glob(wild_flair)\n",
    "    gt_paths = glob.glob(wild_gt)\n",
    "\n",
    "    num_patients = j - i\n",
    "    ind = []\n",
    "    num_non_empty_slices = 0\n",
    "\n",
    "    for i in range(i, i + num_patients):\n",
    "      path_gt = gt_paths[i]\n",
    "      img_gt = nib.load(path_gt)\n",
    "      img_gt = img_gt.get_fdata()\n",
    "\n",
    "      curr_patient = []\n",
    "      # quick and dirty way to only get slices with tumor\n",
    "      for j in range(img_gt.shape[-1]):\n",
    "        if len(np.unique(img_gt[:,:,j])) >= num_classes:\n",
    "            curr_patient.append(j)\n",
    "            num_non_empty_slices += 1\n",
    "      ind.append(curr_patient)\n",
    "\n",
    "    image_data = np.zeros((4, 240, 240, num_non_empty_slices))\n",
    "    labels = np.zeros((num_non_empty_slices, 240, 240))\n",
    "    OHE_labels = np.zeros((num_non_empty_slices, 240, 240, 4))\n",
    "    next_ind = 0\n",
    "\n",
    "    for i in range(num_patients):\n",
    "      print('Patient: ' + str(i))\n",
    "      curr_ind = ind[i]\n",
    "\n",
    "      path_t1 = t1_paths[i]\n",
    "      path_t1ce = t1ce_paths[i]\n",
    "      path_t2 = t2_paths[i]\n",
    "      path_flair = flair_paths[i]\n",
    "      path_gt = gt_paths[i]\n",
    "\n",
    "      img_t1 = nib.load(path_t1)\n",
    "      img_t1ce = nib.load(path_t1ce)\n",
    "      img_t2 = nib.load(path_t2)\n",
    "      img_flair = nib.load(path_flair)\n",
    "      img_gt = nib.load(path_gt)\n",
    "\n",
    "      img_t1 = img_t1.get_fdata()\n",
    "      img_t1ce = img_t1ce.get_fdata()\n",
    "      img_t2 = img_t2.get_fdata()\n",
    "      img_flair = img_flair.get_fdata()\n",
    "      img_gt = img_gt.get_fdata()\n",
    "\n",
    "      temp = 0\n",
    "      for i, x in enumerate(curr_ind):\n",
    "        image_data[0, :, :, next_ind + i] = img_t1[:,:,x]\n",
    "        image_data[1, :, :, next_ind + i] = img_t1ce[:,:,x]\n",
    "        image_data[2, :, :, next_ind + i] = img_t2[:,:,x]\n",
    "        image_data[3, :, :, next_ind + i] = img_flair[:,:,x]\n",
    "        labels[next_ind + i,:,:] = img_gt[:,:,x]\n",
    "        temp += 1\n",
    "      next_ind += temp\n",
    "\n",
    "    # I have here chosen to do shift and scale per image, \n",
    "    # which is not the only way to do normalization.\n",
    "    for j in range(num_non_empty_slices):\n",
    "        # shift and scale data\n",
    "        image_data[0, :, :, j] = shift_and_scale(image_data[0, :, :, j])\n",
    "        image_data[1, :, :, j] = shift_and_scale(image_data[1, :, :, j])\n",
    "        image_data[2, :, :, j] = shift_and_scale(image_data[2, :, :, j])\n",
    "        image_data[3, :, :, j] = shift_and_scale(image_data[3, :, :, j])\n",
    "\n",
    "        OHE_labels[j, :, :, :] = OHE(labels[j, :, :], mapping)\n",
    "\n",
    "    # The last axis will become the first axis\n",
    "    image_data = np.moveaxis(image_data, -1, 0)\n",
    "    image_data = np.moveaxis(image_data, 1, 3)\n",
    "    return (image_data, OHE_labels)\n",
    "\n",
    "def unet(pretrained_weights = None, input_size = (256, 256, 1), num_classes=1, learning_rate=1e-4):\n",
    "  inputs = Input(input_size)\n",
    "  conv1 = Conv2D(64, 3, activation = 'relu', padding = 'same', kernel_initializer = 'he_normal')(inputs)\n",
    "  conv1 = Conv2D(64, 3, activation = 'relu', padding = 'same', kernel_initializer = 'he_normal')(conv1)\n",
    "  pool1 = MaxPooling2D(pool_size = (2, 2))(conv1)\n",
    "  \n",
    "  conv2 = Conv2D(128, 3, activation = 'relu', padding = 'same', kernel_initializer = 'he_normal')(pool1)\n",
    "  conv2 = Conv2D(128, 3, activation = 'relu', padding = 'same', kernel_initializer = 'he_normal')(conv2)\n",
    "  pool2 = MaxPooling2D(pool_size = (2, 2))(conv2)\n",
    "  \n",
    "  conv3 = Conv2D(256, 3, activation = 'relu', padding = 'same', kernel_initializer = 'he_normal')(pool2)\n",
    "  conv3 = Conv2D(256, 3, activation = 'relu', padding = 'same', kernel_initializer = 'he_normal')(conv3)\n",
    "  pool3 = MaxPooling2D(pool_size = (2, 2))(conv3)\n",
    "  \n",
    "  conv4 = Conv2D(512, 3, activation = 'relu', padding = 'same', kernel_initializer = 'he_normal')(pool3)\n",
    "  conv4 = Conv2D(512, 3, activation = 'relu', padding = 'same', kernel_initializer = 'he_normal')(conv4)\n",
    "  drop4 = Dropout(0.5)(conv4)\n",
    "  pool4 = MaxPooling2D(pool_size = (2, 2))(drop4)\n",
    "  \n",
    "  conv5 = Conv2D(1024, 3, activation = 'relu', padding = 'same', kernel_initializer = 'he_normal')(pool4)\n",
    "  conv5 = Conv2D(1024, 3, activation = 'relu', padding = 'same', kernel_initializer = 'he_normal')(conv5)\n",
    "  drop5 = Dropout(0.5)(conv5)\n",
    "  \n",
    "  up6 = Conv2D(512, 2, activation = 'relu', padding = 'same', kernel_initializer = 'he_normal')(UpSampling2D(size = (2, 2))(drop5))\n",
    "  merge6 = concatenate([drop4, up6], axis = 3)\n",
    "  conv6 = Conv2D(512, 3, activation = 'relu', padding = 'same', kernel_initializer = 'he_normal')(merge6)\n",
    "  conv6 = Conv2D(512, 3, activation = 'relu', padding = 'same', kernel_initializer = 'he_normal')(conv6)\n",
    "  \n",
    "  up7 = Conv2D(256, 2, activation = 'relu', padding = 'same', kernel_initializer = 'he_normal')(UpSampling2D(size = (2, 2))(conv6))\n",
    "  merge7 = concatenate([conv3, up7], axis = 3)\n",
    "  conv7 = Conv2D(256, 3, activation = 'relu', padding = 'same', kernel_initializer = 'he_normal')(merge7)\n",
    "  conv7 = Conv2D(256, 3, activation = 'relu', padding = 'same', kernel_initializer = 'he_normal')(conv7)\n",
    "  \n",
    "  up8 = Conv2D(128, 2, activation = 'relu', padding = 'same', kernel_initializer = 'he_normal')(UpSampling2D(size = (2, 2))(conv7))\n",
    "  merge8 = concatenate([conv2, up8], axis = 3)\n",
    "  conv8 = Conv2D(128, 3, activation = 'relu', padding = 'same', kernel_initializer = 'he_normal')(merge8)\n",
    "  conv8 = Conv2D(128, 3, activation = 'relu', padding = 'same', kernel_initializer = 'he_normal')(conv8)\n",
    "  \n",
    "  up9 = Conv2D(64, 2, activation = 'relu', padding = 'same', kernel_initializer = 'he_normal')(UpSampling2D(size = (2, 2))(conv8))\n",
    "  merge9 = concatenate([conv1, up9], axis = 3)\n",
    "  conv9 = Conv2D(64, 3, activation = 'relu', padding = 'same', kernel_initializer = 'he_normal')(merge9)\n",
    "  conv9 = Conv2D(64, 3, activation = 'relu', padding = 'same', kernel_initializer = 'he_normal')(conv9)\n",
    "  conv9 = Conv2D(num_classes, 3, activation = 'relu', padding = 'same', kernel_initializer = 'he_normal')(conv9)\n",
    "  \n",
    "  reshape = Reshape((num_classes, input_size[0] * input_size[1]), input_shape = (num_classes, input_size[0], input_size[1]))(conv9)\n",
    "  permute = Permute((2, 1))(reshape)\n",
    "  activation = Softmax(axis=-1)(permute)\n",
    "  \n",
    "  model = Model(input = inputs, output = activation)\n",
    "  model.compile(optimizer = Adam(lr=learning_rate), loss = 'categorical_crossentropy', metrics=[dice_coefficient])\n",
    "  if (pretrained_weights):\n",
    "    model.load_weights(pretrained_weights)\n",
    "  return model\n",
    "\n",
    "from keras.models import *\n",
    "from keras.layers import *\n",
    "from keras.activations import *\n",
    "from keras.optimizers import *\n",
    "from keras.callbacks import ModelCheckpoint, LearningRateScheduler\n",
    "from keras import backend as keras\n",
    "\n",
    "def unet_res(pretrained_weights = None, input_size = (256, 256, 4), num_classes=4, learning_rate=1e-4, dropout=0.5, this_activation='relu'):\n",
    "    inputs = Input(input_size)\n",
    "    conv1 = Conv2D(64, 3, activation = this_activation, padding = 'same', kernel_initializer = 'he_normal')(inputs)\n",
    "    conv1 = Conv2D(64, 3, activation = this_activation, padding = 'same', kernel_initializer = 'he_normal')(conv1)\n",
    "    conv1 = Conv2D(input_size[-1], 1, activation = 'linear', padding = 'same', kernel_initializer = 'he_normal')(conv1)\n",
    "    merge1 = Add()([inputs, conv1])\n",
    "    merge1 = BatchNormalization()(merge1)\n",
    "    merge1 = Activation(this_activation)(merge1)\n",
    "    pool1 = MaxPooling2D(pool_size = (2, 2))(merge1)\n",
    "    \n",
    "    conv2 = Conv2D(128, 3, activation = this_activation, padding = 'same', kernel_initializer = 'he_normal')(pool1)\n",
    "    conv2 = Conv2D(128, 3, activation = this_activation, padding = 'same', kernel_initializer = 'he_normal')(conv2)\n",
    "    conv2 = Conv2D(input_size[-1], 1, activation = 'linear', padding = 'same', kernel_initializer = 'he_normal')(conv2)\n",
    "    merge2 = Add()([pool1, conv2])\n",
    "    merge2 = BatchNormalization()(merge2)\n",
    "    merge2 = Activation(this_activation)(merge2)\n",
    "    pool2 = MaxPooling2D(pool_size = (2, 2))(merge2)\n",
    "    \n",
    "    conv3 = Conv2D(256, 3, activation = this_activation, padding = 'same', kernel_initializer = 'he_normal')(pool2)\n",
    "    conv3 = Conv2D(256, 3, activation = this_activation, padding = 'same', kernel_initializer = 'he_normal')(conv3)\n",
    "    conv3 = Conv2D(input_size[-1], 1, activation = 'linear', padding = 'same', kernel_initializer = 'he_normal')(conv3)\n",
    "    merge3 = Add()([pool2, conv3])\n",
    "    merge3 = BatchNormalization()(merge3)\n",
    "    merge3 = Activation(this_activation)(merge3)\n",
    "    pool3 = MaxPooling2D(pool_size = (2, 2))(merge3)\n",
    "    \n",
    "    conv4 = Conv2D(512, 3, activation = this_activation, padding = 'same', kernel_initializer = 'he_normal')(pool3)\n",
    "    conv4 = Conv2D(512, 3, activation = this_activation, padding = 'same', kernel_initializer = 'he_normal')(conv4)\n",
    "    drop4 = Dropout(dropout)(conv4)\n",
    "    drop4 = Conv2D(input_size[-1], 1, activation = 'linear', padding = 'same', kernel_initializer = 'he_normal')(drop4)\n",
    "    merge4 = Add()([pool3, drop4])\n",
    "    merge4 = BatchNormalization()(merge4)\n",
    "    merge4 = Activation(this_activation)(merge4)\n",
    "    pool4 = MaxPooling2D(pool_size = (2, 2))(merge4)\n",
    "    \n",
    "    conv5 = Conv2D(1024, 3, activation = this_activation, padding = 'same', kernel_initializer = 'he_normal')(pool4)\n",
    "    conv5 = Conv2D(1024, 3, activation = this_activation, padding = 'same', kernel_initializer = 'he_normal')(conv5)\n",
    "    drop5 = Dropout(dropout)(conv5)\n",
    "    drop5 = Conv2D(input_size[-1], 1, activation = 'linear', padding = 'same', kernel_initializer = 'he_normal')(drop5)\n",
    "    merge5 = Add()([pool4, drop5])\n",
    "    merge5 = BatchNormalization()(merge5)\n",
    "    merge5 = Activation(this_activation)(merge5)\n",
    "    \n",
    "    up6 = Conv2D(input_size[-1], 2, activation = this_activation, padding = 'same', kernel_initializer = 'he_normal')(UpSampling2D(size = (2, 2))(merge5))\n",
    "    merge6 = concatenate([merge4, up6], axis = 3)\n",
    "    conv6 = Conv2D(512, 3, activation = this_activation, padding = 'same', kernel_initializer = 'he_normal')(merge6)\n",
    "    conv6 = Conv2D(512, 3, activation = this_activation, padding = 'same', kernel_initializer = 'he_normal')(conv6)\n",
    "    conv6 = Conv2D(2*input_size[-1], 1, activation = 'linear', padding = 'same', kernel_initializer = 'he_normal')(conv6)\n",
    "    merge6 = Add()([merge6, conv6])\n",
    "    merge6 = BatchNormalization()(merge6)\n",
    "    merge6 = Activation(this_activation)(merge6)\n",
    "    \n",
    "    up7 = Conv2D(input_size[-1], 2, activation = this_activation, padding = 'same', kernel_initializer = 'he_normal')(UpSampling2D(size = (2, 2))(merge6))\n",
    "    merge7 = concatenate([merge3, up7], axis = 3)\n",
    "    conv7 = Conv2D(256, 3, activation = this_activation, padding = 'same', kernel_initializer = 'he_normal')(merge7)\n",
    "    conv7 = Conv2D(256, 3, activation = this_activation, padding = 'same', kernel_initializer = 'he_normal')(conv7)\n",
    "    conv7 = Conv2D(2*input_size[-1], 1, activation = 'linear', padding = 'same', kernel_initializer = 'he_normal')(conv7)\n",
    "    merge7 = Add()([merge7, conv7])\n",
    "    merge7 = BatchNormalization()(merge7)\n",
    "    merge7 = Activation(this_activation)(merge7)\n",
    "    \n",
    "    up8 = Conv2D(input_size[-1], 2, activation = this_activation, padding = 'same', kernel_initializer = 'he_normal')(UpSampling2D(size = (2, 2))(merge7))\n",
    "    merge8 = concatenate([merge2, up8], axis = 3)\n",
    "    conv8 = Conv2D(128, 3, activation = this_activation, padding = 'same', kernel_initializer = 'he_normal')(merge8)\n",
    "    conv8 = Conv2D(128, 3, activation = this_activation, padding = 'same', kernel_initializer = 'he_normal')(conv8)\n",
    "    conv8 = Conv2D(2*input_size[-1], 1, activation = 'linear', padding = 'same', kernel_initializer = 'he_normal')(conv8)\n",
    "    merge8 = Add()([merge8, conv8])\n",
    "    merge8 = BatchNormalization()(merge8)\n",
    "    merge8 = Activation(this_activation)(merge8)\n",
    "    \n",
    "    up9 = Conv2D(input_size[-1], 2, activation = this_activation, padding = 'same', kernel_initializer = 'he_normal')(UpSampling2D(size = (2, 2))(merge8))\n",
    "    merge9 = concatenate([merge1, up9], axis = 3)\n",
    "    conv9 = Conv2D(64, 3, activation = this_activation, padding = 'same', kernel_initializer = 'he_normal')(merge9)\n",
    "    conv9 = Conv2D(64, 3, activation = this_activation, padding = 'same', kernel_initializer = 'he_normal')(conv9)\n",
    "    conv9 = Conv2D(num_classes, 3, activation = this_activation, padding = 'same', kernel_initializer = 'he_normal')(conv9)\n",
    "    conv9 = Conv2D(2*input_size[-1], 1, activation = 'linear', padding = 'same', kernel_initializer = 'he_normal')(conv9)\n",
    "    merge9 = Add()([merge9, conv9])\n",
    "    merge9 = BatchNormalization()(merge9)\n",
    "    merge9 = Activation(this_activation)(merge9)\n",
    "    \n",
    "    merge10 = Conv2D(input_size[-1], 1, activation = 'linear', padding ='same', kernel_initializer = 'he_normal')(merge9)\n",
    "    \n",
    "    reshape = Reshape((num_classes, input_size[0] * input_size[1]), input_shape = (num_classes, input_size[0], input_size[1]))(merge10)\n",
    "    permute = Permute((2, 1))(reshape)\n",
    "    activation = Softmax(axis=-1)(permute)\n",
    "    \n",
    "    model = Model(input = inputs, output = activation)\n",
    "    model.compile(optimizer = Adam(lr=learning_rate), loss = 'categorical_crossentropy', metrics=['accuracy'])\n",
    "    if (pretrained_weights):\n",
    "        model.load_weights(pretrained_weights)\n",
    "    return model\n",
    "\n",
    "print('Finished')\n",
    "print_memory_use()"
   ]
  },
  {
   "cell_type": "code",
   "execution_count": 2,
   "metadata": {
    "colab": {
     "base_uri": "https://localhost:8080/",
     "height": 1000
    },
    "colab_type": "code",
    "executionInfo": {
     "elapsed": 321898,
     "status": "ok",
     "timestamp": 1571900572557,
     "user": {
      "displayName": "Linus Lagergren",
      "photoUrl": "",
      "userId": "10069920663213268691"
     },
     "user_tz": -60
    },
    "id": "9lAteXmGZPqL",
    "outputId": "5a4c1e0c-0b03-4203-c40d-5d91bf7a445e"
   },
   "outputs": [
    {
     "name": "stdout",
     "output_type": "stream",
     "text": [
      "Patient: 0\n",
      "Patient: 1\n",
      "Patient: 0\n",
      "Finished\n",
      "1.189240832\n"
     ]
    }
   ],
   "source": [
    "#from my_lib import *\n",
    "from os import listdir\n",
    "import os\n",
    "\n",
    "# Set name of who is running the script to determine which path to use\n",
    "name = \"linus\"\n",
    "\n",
    "# Code snippet to fix that colab notebook and local notebook access data\n",
    "# through different paths\n",
    "var = os.uname()\n",
    "run_on_colab = var[0] == \"Linux\"\n",
    "\n",
    "carl_path = \"/content/my_drive/My Drive/Plugg/\"\n",
    "linus_path = \"/content/my_drive/My Drive/\"\n",
    "\n",
    "if name == \"linus\":\n",
    "  path = linus_path\n",
    "else:\n",
    "  path = carl_path\n",
    "\n",
    "if run_on_colab:\n",
    "    base_path = path + \"EXJOBB/\"\n",
    "else:\n",
    "    base_path = ''\n",
    "\n",
    "# Much cleaner loading of patients\n",
    "train_data = load_patients(i=0, j=2, num_classes=4, base_path=base_path)\n",
    "val_data = load_patients(i=3, j=4, num_classes=4, base_path=base_path)\n",
    "#test_data = load_patients(i=285, j=334, num_classes=4)\n",
    "print('Finished')\n",
    "print_memory_use()"
   ]
  },
  {
   "cell_type": "markdown",
   "metadata": {
    "colab_type": "text",
    "id": "SCUKXYxiZPqO"
   },
   "source": [
    "Separate input and labels and validate that the loading of the data has been done correctly"
   ]
  },
  {
   "cell_type": "code",
   "execution_count": 3,
   "metadata": {
    "colab": {
     "base_uri": "https://localhost:8080/",
     "height": 545
    },
    "colab_type": "code",
    "executionInfo": {
     "elapsed": 322733,
     "status": "ok",
     "timestamp": 1571900573402,
     "user": {
      "displayName": "Linus Lagergren",
      "photoUrl": "",
      "userId": "10069920663213268691"
     },
     "user_tz": -60
    },
    "id": "PidEBsLpNKvT",
    "outputId": "0ec470eb-be35-48c0-b6dc-1ad0999119d2"
   },
   "outputs": [
    {
     "data": {
      "image/png": "[encoded data removed]",
      "text/plain": [
       "<Figure size 432x288 with 8 Axes>"
      ]
     },
     "metadata": {
      "needs_background": "light"
     },
     "output_type": "display_data"
    },
    {
     "data": {
      "image/png": "[encoded data removed]",
      "text/plain": [
       "<Figure size 432x288 with 8 Axes>"
      ]
     },
     "metadata": {
      "needs_background": "light"
     },
     "output_type": "display_data"
    }
   ],
   "source": [
    "X_train = train_data[0]\n",
    "Y_train = train_data[1]\n",
    "\n",
    "X_val = val_data[0]\n",
    "Y_val = val_data[1]\n",
    "\n",
    "# This will show a slice of a patient\n",
    "ind = 48\n",
    "patient = X_train[ind, :, :, :]\n",
    "patient_labels = Y_train[ind, :, :, :]\n",
    "plot_modalities(patient)\n",
    "plot_OHE(patient_labels)\n"
   ]
  },
  {
   "cell_type": "markdown",
   "metadata": {
    "colab_type": "text",
    "id": "3705e3NYZ5ln"
   },
   "source": [
    "# New main training cell"
   ]
  },
  {
   "cell_type": "code",
   "execution_count": 4,
   "metadata": {
    "colab": {
     "base_uri": "https://localhost:8080/",
     "height": 54
    },
    "colab_type": "code",
    "executionInfo": {
     "elapsed": 322717,
     "status": "ok",
     "timestamp": 1571900573403,
     "user": {
      "displayName": "Linus Lagergren",
      "photoUrl": "",
      "userId": "10069920663213268691"
     },
     "user_tz": -60
    },
    "id": "8JHoeyzwFW9T",
    "outputId": "e17f795a-1cc1-4fd3-b4da-9f45045fbaf8"
   },
   "outputs": [
    {
     "name": "stdout",
     "output_type": "stream",
     "text": [
      "{'weights_path': 'Training_session_0/session_0_weights.h5', 'config_path': 'Training_session_0/config_1.json', 'samples_used': 90, 'keep_training': False, 'history': {'training_samples_used': 0, 'loss': [], 'val_loss': []}}\n"
     ]
    }
   ],
   "source": [
    "# Load config file to session here\n",
    "if run_on_colab:\n",
    "    config_path = path + \"EXJOBB/training_sessions/trainin_tumor_slices_only/config.json\"\n",
    "    weights_path = path + \"EXJOBB/training_sessions/trainin_tumor_slices_only/weights.json\"\n",
    "    config_path = \"/content/my_drive/My Drive/EXJOBB/training_sessions/tumor_slices_with_all_classes/config.json\"\n",
    "else:\n",
    "    config_path = \"config_0.json\"\n",
    "\n",
    "with open(config_path, 'r') as config_file:\n",
    "    config = json.load(config_file)\n",
    "\n",
    "# Reset file to empty loss-values and/or change paths to config and weights\n",
    "#weights_path = \"/content/my_drive/My Drive/EXJOBB/training_sessions/tumor_slices_with_all_classes/weights.h5\"\n",
    "#reset_config(config, config_path = config_path, weights_path=weights_path)\n",
    "\n",
    "print(config)"
   ]
  },
  {
   "cell_type": "code",
   "execution_count": 5,
   "metadata": {
    "colab": {
     "base_uri": "https://localhost:8080/",
     "height": 751
    },
    "colab_type": "code",
    "executionInfo": {
     "elapsed": 10416089,
     "status": "error",
     "timestamp": 1570728343243,
     "user": {
      "displayName": "Linus Lagergren",
      "photoUrl": "",
      "userId": "10069920663213268691"
     },
     "user_tz": -120
    },
    "id": "oFp9Vq4udUGo",
    "outputId": "e619def7-c222-44d2-cdbf-710499bcd746"
   },
   "outputs": [
    {
     "name": "stderr",
     "output_type": "stream",
     "text": [
      "WARNING: Logging before flag parsing goes to stderr.\n",
      "W1029 14:34:28.503205 4664780224 deprecation_wrapper.py:119] From /Users/linuslagergren/anaconda/lib/python3.6/site-packages/keras/backend/tensorflow_backend.py:66: The name tf.get_default_graph is deprecated. Please use tf.compat.v1.get_default_graph instead.\n",
      "\n",
      "W1029 14:34:28.529118 4664780224 deprecation_wrapper.py:119] From /Users/linuslagergren/anaconda/lib/python3.6/site-packages/keras/backend/tensorflow_backend.py:541: The name tf.placeholder is deprecated. Please use tf.compat.v1.placeholder instead.\n",
      "\n",
      "W1029 14:34:28.541888 4664780224 deprecation_wrapper.py:119] From /Users/linuslagergren/anaconda/lib/python3.6/site-packages/keras/backend/tensorflow_backend.py:4479: The name tf.truncated_normal is deprecated. Please use tf.random.truncated_normal instead.\n",
      "\n",
      "W1029 14:34:28.673285 4664780224 deprecation_wrapper.py:119] From /Users/linuslagergren/anaconda/lib/python3.6/site-packages/keras/backend/tensorflow_backend.py:190: The name tf.get_default_session is deprecated. Please use tf.compat.v1.get_default_session instead.\n",
      "\n",
      "W1029 14:34:28.674004 4664780224 deprecation_wrapper.py:119] From /Users/linuslagergren/anaconda/lib/python3.6/site-packages/keras/backend/tensorflow_backend.py:197: The name tf.ConfigProto is deprecated. Please use tf.compat.v1.ConfigProto instead.\n",
      "\n",
      "W1029 14:34:28.722311 4664780224 deprecation_wrapper.py:119] From /Users/linuslagergren/anaconda/lib/python3.6/site-packages/keras/backend/tensorflow_backend.py:2041: The name tf.nn.fused_batch_norm is deprecated. Please use tf.compat.v1.nn.fused_batch_norm instead.\n",
      "\n",
      "W1029 14:34:28.794441 4664780224 deprecation_wrapper.py:119] From /Users/linuslagergren/anaconda/lib/python3.6/site-packages/keras/backend/tensorflow_backend.py:4267: The name tf.nn.max_pool is deprecated. Please use tf.nn.max_pool2d instead.\n",
      "\n",
      "W1029 14:34:29.025131 4664780224 deprecation.py:506] From /Users/linuslagergren/anaconda/lib/python3.6/site-packages/keras/backend/tensorflow_backend.py:3733: calling dropout (from tensorflow.python.ops.nn_ops) with keep_prob is deprecated and will be removed in a future version.\n",
      "Instructions for updating:\n",
      "Please use `rate` instead of `keep_prob`. Rate should be set to `rate = 1 - keep_prob`.\n",
      "W1029 14:34:29.260272 4664780224 deprecation_wrapper.py:119] From /Users/linuslagergren/anaconda/lib/python3.6/site-packages/keras/backend/tensorflow_backend.py:2239: The name tf.image.resize_nearest_neighbor is deprecated. Please use tf.compat.v1.image.resize_nearest_neighbor instead.\n",
      "\n",
      "/Users/linuslagergren/anaconda/lib/python3.6/site-packages/ipykernel_launcher.py:457: UserWarning: Update your `Model` call to the Keras 2 API: `Model(inputs=Tensor(\"in..., outputs=Tensor(\"so...)`\n",
      "W1029 14:34:29.589468 4664780224 deprecation_wrapper.py:119] From /Users/linuslagergren/anaconda/lib/python3.6/site-packages/keras/optimizers.py:793: The name tf.train.Optimizer is deprecated. Please use tf.compat.v1.train.Optimizer instead.\n",
      "\n",
      "W1029 14:34:29.737482 4664780224 deprecation.py:323] From /Users/linuslagergren/anaconda/lib/python3.6/site-packages/tensorflow/python/ops/math_grad.py:1250: add_dispatch_support.<locals>.wrapper (from tensorflow.python.ops.array_ops) is deprecated and will be removed in a future version.\n",
      "Instructions for updating:\n",
      "Use tf.where in 2.0, which has the same broadcast rule as np.where\n"
     ]
    },
    {
     "name": "stdout",
     "output_type": "stream",
     "text": [
      "Train on 73 samples, validate on 63 samples\n",
      "Epoch 1/100\n",
      "73/73 [==============================] - 280s 4s/step - loss: 2.3006 - acc: 0.3815 - val_loss: 1.3868 - val_acc: 0.7865\n",
      "1.461690368\n"
     ]
    },
    {
     "ename": "FileNotFoundError",
     "evalue": "[Errno 2] No such file or directory: 'Training_session_0/config_1.json'",
     "output_type": "error",
     "traceback": [
      "\u001b[0;31m---------------------------------------------------------------------------\u001b[0m",
      "\u001b[0;31mFileNotFoundError\u001b[0m                         Traceback (most recent call last)",
      "\u001b[0;32m<ipython-input-5-cc61c4d2d9a7>\u001b[0m in \u001b[0;36m<module>\u001b[0;34m\u001b[0m\n\u001b[1;32m     35\u001b[0m                       \u001b[0msteps_per_epoch\u001b[0m\u001b[0;34m=\u001b[0m\u001b[0;32mNone\u001b[0m\u001b[0;34m,\u001b[0m\u001b[0;34m\u001b[0m\u001b[0;34m\u001b[0m\u001b[0m\n\u001b[1;32m     36\u001b[0m                       \u001b[0mvalidation_steps\u001b[0m\u001b[0;34m=\u001b[0m\u001b[0;32mNone\u001b[0m\u001b[0;34m,\u001b[0m\u001b[0;34m\u001b[0m\u001b[0;34m\u001b[0m\u001b[0m\n\u001b[0;32m---> 37\u001b[0;31m                       validation_freq=1)\n\u001b[0m",
      "\u001b[0;32m~/anaconda/lib/python3.6/site-packages/keras/engine/training.py\u001b[0m in \u001b[0;36mfit\u001b[0;34m(self, x, y, batch_size, epochs, verbose, callbacks, validation_split, validation_data, shuffle, class_weight, sample_weight, initial_epoch, steps_per_epoch, validation_steps, validation_freq, max_queue_size, workers, use_multiprocessing, **kwargs)\u001b[0m\n\u001b[1;32m   1176\u001b[0m                                         \u001b[0msteps_per_epoch\u001b[0m\u001b[0;34m=\u001b[0m\u001b[0msteps_per_epoch\u001b[0m\u001b[0;34m,\u001b[0m\u001b[0;34m\u001b[0m\u001b[0;34m\u001b[0m\u001b[0m\n\u001b[1;32m   1177\u001b[0m                                         \u001b[0mvalidation_steps\u001b[0m\u001b[0;34m=\u001b[0m\u001b[0mvalidation_steps\u001b[0m\u001b[0;34m,\u001b[0m\u001b[0;34m\u001b[0m\u001b[0;34m\u001b[0m\u001b[0m\n\u001b[0;32m-> 1178\u001b[0;31m                                         validation_freq=validation_freq)\n\u001b[0m\u001b[1;32m   1179\u001b[0m \u001b[0;34m\u001b[0m\u001b[0m\n\u001b[1;32m   1180\u001b[0m     def evaluate(self,\n",
      "\u001b[0;32m~/anaconda/lib/python3.6/site-packages/keras/engine/training_arrays.py\u001b[0m in \u001b[0;36mfit_loop\u001b[0;34m(model, fit_function, fit_inputs, out_labels, batch_size, epochs, verbose, callbacks, val_function, val_inputs, shuffle, callback_metrics, initial_epoch, steps_per_epoch, validation_steps, validation_freq)\u001b[0m\n\u001b[1;32m    222\u001b[0m                         \u001b[0mepoch_logs\u001b[0m\u001b[0;34m[\u001b[0m\u001b[0;34m'val_'\u001b[0m \u001b[0;34m+\u001b[0m \u001b[0ml\u001b[0m\u001b[0;34m]\u001b[0m \u001b[0;34m=\u001b[0m \u001b[0mo\u001b[0m\u001b[0;34m\u001b[0m\u001b[0;34m\u001b[0m\u001b[0m\n\u001b[1;32m    223\u001b[0m \u001b[0;34m\u001b[0m\u001b[0m\n\u001b[0;32m--> 224\u001b[0;31m         \u001b[0mcallbacks\u001b[0m\u001b[0;34m.\u001b[0m\u001b[0mon_epoch_end\u001b[0m\u001b[0;34m(\u001b[0m\u001b[0mepoch\u001b[0m\u001b[0;34m,\u001b[0m \u001b[0mepoch_logs\u001b[0m\u001b[0;34m)\u001b[0m\u001b[0;34m\u001b[0m\u001b[0;34m\u001b[0m\u001b[0m\n\u001b[0m\u001b[1;32m    225\u001b[0m         \u001b[0;32mif\u001b[0m \u001b[0mcallbacks\u001b[0m\u001b[0;34m.\u001b[0m\u001b[0mmodel\u001b[0m\u001b[0;34m.\u001b[0m\u001b[0mstop_training\u001b[0m\u001b[0;34m:\u001b[0m\u001b[0;34m\u001b[0m\u001b[0;34m\u001b[0m\u001b[0m\n\u001b[1;32m    226\u001b[0m             \u001b[0;32mbreak\u001b[0m\u001b[0;34m\u001b[0m\u001b[0;34m\u001b[0m\u001b[0m\n",
      "\u001b[0;32m~/anaconda/lib/python3.6/site-packages/keras/callbacks.py\u001b[0m in \u001b[0;36mon_epoch_end\u001b[0;34m(self, epoch, logs)\u001b[0m\n\u001b[1;32m    150\u001b[0m         \u001b[0mlogs\u001b[0m \u001b[0;34m=\u001b[0m \u001b[0mlogs\u001b[0m \u001b[0;32mor\u001b[0m \u001b[0;34m{\u001b[0m\u001b[0;34m}\u001b[0m\u001b[0;34m\u001b[0m\u001b[0;34m\u001b[0m\u001b[0m\n\u001b[1;32m    151\u001b[0m         \u001b[0;32mfor\u001b[0m \u001b[0mcallback\u001b[0m \u001b[0;32min\u001b[0m \u001b[0mself\u001b[0m\u001b[0;34m.\u001b[0m\u001b[0mcallbacks\u001b[0m\u001b[0;34m:\u001b[0m\u001b[0;34m\u001b[0m\u001b[0;34m\u001b[0m\u001b[0m\n\u001b[0;32m--> 152\u001b[0;31m             \u001b[0mcallback\u001b[0m\u001b[0;34m.\u001b[0m\u001b[0mon_epoch_end\u001b[0m\u001b[0;34m(\u001b[0m\u001b[0mepoch\u001b[0m\u001b[0;34m,\u001b[0m \u001b[0mlogs\u001b[0m\u001b[0;34m)\u001b[0m\u001b[0;34m\u001b[0m\u001b[0;34m\u001b[0m\u001b[0m\n\u001b[0m\u001b[1;32m    153\u001b[0m \u001b[0;34m\u001b[0m\u001b[0m\n\u001b[1;32m    154\u001b[0m     \u001b[0;32mdef\u001b[0m \u001b[0mon_train_batch_begin\u001b[0m\u001b[0;34m(\u001b[0m\u001b[0mself\u001b[0m\u001b[0;34m,\u001b[0m \u001b[0mbatch\u001b[0m\u001b[0;34m,\u001b[0m \u001b[0mlogs\u001b[0m\u001b[0;34m=\u001b[0m\u001b[0;32mNone\u001b[0m\u001b[0;34m)\u001b[0m\u001b[0;34m:\u001b[0m\u001b[0;34m\u001b[0m\u001b[0;34m\u001b[0m\u001b[0m\n",
      "\u001b[0;32m<ipython-input-1-86f77bef0e3f>\u001b[0m in \u001b[0;36mon_epoch_end\u001b[0;34m(self, epoch, logs)\u001b[0m\n\u001b[1;32m    242\u001b[0m         \u001b[0mprint_memory_use\u001b[0m\u001b[0;34m(\u001b[0m\u001b[0;34m)\u001b[0m\u001b[0;34m\u001b[0m\u001b[0;34m\u001b[0m\u001b[0m\n\u001b[1;32m    243\u001b[0m         \u001b[0;31m# Save new config file\u001b[0m\u001b[0;34m\u001b[0m\u001b[0;34m\u001b[0m\u001b[0;34m\u001b[0m\u001b[0m\n\u001b[0;32m--> 244\u001b[0;31m         \u001b[0;32mwith\u001b[0m \u001b[0mopen\u001b[0m\u001b[0;34m(\u001b[0m\u001b[0mself\u001b[0m\u001b[0;34m.\u001b[0m\u001b[0mconfig_path\u001b[0m\u001b[0;34m,\u001b[0m \u001b[0;34m\"w\"\u001b[0m\u001b[0;34m)\u001b[0m \u001b[0;32mas\u001b[0m \u001b[0mf\u001b[0m\u001b[0;34m:\u001b[0m\u001b[0;34m\u001b[0m\u001b[0;34m\u001b[0m\u001b[0m\n\u001b[0m\u001b[1;32m    245\u001b[0m             \u001b[0mf\u001b[0m\u001b[0;34m.\u001b[0m\u001b[0mwrite\u001b[0m\u001b[0;34m(\u001b[0m\u001b[0mjson\u001b[0m\u001b[0;34m.\u001b[0m\u001b[0mdumps\u001b[0m\u001b[0;34m(\u001b[0m\u001b[0mself\u001b[0m\u001b[0;34m.\u001b[0m\u001b[0mconfig\u001b[0m\u001b[0;34m)\u001b[0m\u001b[0;34m)\u001b[0m\u001b[0;34m\u001b[0m\u001b[0;34m\u001b[0m\u001b[0m\n\u001b[1;32m    246\u001b[0m \u001b[0;34m\u001b[0m\u001b[0m\n",
      "\u001b[0;31mFileNotFoundError\u001b[0m: [Errno 2] No such file or directory: 'Training_session_0/config_1.json'"
     ]
    }
   ],
   "source": [
    "# The path to where to save weights and initialize ModelCheckpoint\n",
    "weights_path = config['weights_path']\n",
    "from keras.callbacks import ModelCheckpoint, EarlyStopping\n",
    "MyModelCheckPoint = ModelCheckpoint(weights_path, verbose=0, save_weights_only=True, period=1)\n",
    "\n",
    "es = EarlyStopping(monitor='val_loss', mode='min', verbose=1, patience=5)\n",
    "\n",
    "if config['keep_training'] == True:\n",
    "    # Keep training on the old weights\n",
    "    my_unet = unet_res(input_size = (240, 240, 4), num_classes = 4)\n",
    "    my_unet.load_weights(weights_path)\n",
    "else:\n",
    "    # Initialize network\n",
    "    my_unet = unet_res(input_size = (240, 240, 4), num_classes = 4)\n",
    "    config['keep_training'] = True\n",
    "\n",
    "assert not np.any(np.isnan(X_train)), 'Input contain nans'\n",
    "\n",
    "Y_train = Y_train.reshape(Y_train.shape[0], -1, 4)\n",
    "validation_data = (X_val, Y_val.reshape(Y_val.shape[0], -1, 4))\n",
    "\n",
    "# Returns an object with accuracy and loss\n",
    "history = my_unet.fit(x=X_train, \n",
    "                      y=Y_train, \n",
    "                      batch_size=64,\n",
    "                      epochs=100, \n",
    "                      verbose=1, \n",
    "                      callbacks=[CallbackJSON(config=config), MyModelCheckPoint, es],\n",
    "                      validation_split=0.0, \n",
    "                      validation_data=validation_data, \n",
    "                      shuffle=True, \n",
    "                      class_weight=None, \n",
    "                      sample_weight=None, \n",
    "                      initial_epoch=0, \n",
    "                      steps_per_epoch=None, \n",
    "                      validation_steps=None, \n",
    "                      validation_freq=1)\n"
   ]
  },
  {
   "cell_type": "code",
   "execution_count": null,
   "metadata": {
    "colab": {},
    "colab_type": "code",
    "id": "qfr5L5aFNKvc"
   },
   "outputs": [],
   "source": [
    "loss = config['history']['loss']\n",
    "val_loss = config['history']['val_loss']\n",
    "plt.plot(loss)\n",
    "plt.show()\n",
    "plt.plot(val_loss)\n",
    "plt.show()"
   ]
  },
  {
   "cell_type": "code",
   "execution_count": null,
   "metadata": {
    "colab": {},
    "colab_type": "code",
    "id": "AEz-JB1iNKve"
   },
   "outputs": [],
   "source": [
    "ind = 10\n",
    "my_unet = unet(input_size = (240, 240, 4), num_classes = 4)\n",
    "my_unet.load_weights(config['weights_path'])\n",
    "\n",
    "yhat = my_unet.predict(val_data[ind, :, :, :].reshape(1, 240, 240, 4))\n",
    "\n",
    "#plot_OHE(yhat.reshape(240, 240, 4))\n",
    "\n",
    "plotable = OHE_uncoding(yhat.reshape(240, 240, 4), mapping)\n",
    "plt.imshow(plotable)\n",
    "plt.show()\n",
    "plt.imshow(val_labels[ind,:,:])"
   ]
  },
  {
   "cell_type": "code",
   "execution_count": null,
   "metadata": {
    "colab": {},
    "colab_type": "code",
    "id": "6_r-v-APucCd"
   },
   "outputs": [],
   "source": [
    "config['weights_path'] = \"/content/my_drive/My Drive/EXJOBB/training_sessions/100_epochs_10_patients_lr_1e-4/weights.h5\""
   ]
  },
  {
   "cell_type": "code",
   "execution_count": null,
   "metadata": {
    "colab": {},
    "colab_type": "code",
    "id": "1eZr43sMNKvf"
   },
   "outputs": [],
   "source": [
    "my_unet = unet(input_size = (240, 240, 4), num_classes = 4)"
   ]
  },
  {
   "cell_type": "code",
   "execution_count": 7,
   "metadata": {
    "colab": {},
    "colab_type": "code",
    "id": "TOAHUXKPZPqc"
   },
   "outputs": [],
   "source": [
    "#yhat = my_unet.predict(X_train[48].reshape(1,240,240,4))\n",
    "yhat = my_unet.predict(X_train[0:100])\n",
    "#yhat = yhat.reshape(240,240,4)\n",
    "#plot_OHE(yhat)"
   ]
  },
  {
   "cell_type": "code",
   "execution_count": null,
   "metadata": {
    "colab": {},
    "colab_type": "code",
    "id": "0eaoErIeZPqe"
   },
   "outputs": [],
   "source": [
    "\n",
    "hist = plt.hist(yhat[:,:,0].reshape(-1), bins='auto', log=True)\n",
    "plt.show()\n",
    "hist = plt.hist(yhat[:,:,1].reshape(-1), bins='auto', log=True)\n",
    "plt.show()\n",
    "hist = plt.hist(yhat[:,:,2].reshape(-1), bins='auto', log=True)\n",
    "plt.show()\n",
    "hist = plt.hist(yhat[:,:,3].reshape(-1), bins='auto', log=True)\n",
    "plt.show()"
   ]
  },
  {
   "cell_type": "code",
   "execution_count": null,
   "metadata": {
    "colab": {},
    "colab_type": "code",
    "id": "7yDcqFWqZPqg"
   },
   "outputs": [],
   "source": []
  }
 ],
 "metadata": {
  "accelerator": "TPU",
  "colab": {
   "collapsed_sections": [],
   "machine_shape": "hm",
   "name": "segmentation_brats_colab.ipynb",
   "provenance": [],
   "toc_visible": true
  },
  "kernelspec": {
   "display_name": "Python 3",
   "language": "python",
   "name": "python3"
  },
  "language_info": {
   "codemirror_mode": {
    "name": "ipython",
    "version": 3
   },
   "file_extension": ".py",
   "mimetype": "text/x-python",
   "name": "python",
   "nbconvert_exporter": "python",
   "pygments_lexer": "ipython3",
   "version": "3.6.9"
  }
 },
 "nbformat": 4,
 "nbformat_minor": 4
}
