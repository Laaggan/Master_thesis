{
  "nbformat": 4,
  "nbformat_minor": 0,
  "metadata": {
    "accelerator": "TPU",
    "colab": {
      "name": "segmentation_brats_colab.ipynb",
      "provenance": [],
      "collapsed_sections": [],
      "toc_visible": true,
      "machine_shape": "hm"
    },
    "kernelspec": {
      "display_name": "Python 3",
      "language": "python",
      "name": "python3"
    },
    "language_info": {
      "codemirror_mode": {
        "name": "ipython",
        "version": 3
      },
      "file_extension": ".py",
      "mimetype": "text/x-python",
      "name": "python",
      "nbconvert_exporter": "python",
      "pygments_lexer": "ipython3",
      "version": "3.6.9"
    }
  },
  "cells": [
    {
      "cell_type": "code",
      "metadata": {
        "colab_type": "code",
        "id": "uDKIINKU_HFe",
        "outputId": "ebb20940-b721-4ca5-c7b2-12c3f8a1bc6f",
        "colab": {
          "base_uri": "https://localhost:8080/",
          "height": 88
        }
      },
      "source": [
        "# Install package to be able to save keras weights\n",
        "pip install h5py"
      ],
      "execution_count": 1,
      "outputs": [
        {
          "output_type": "stream",
          "text": [
            "Requirement already satisfied: h5py in /usr/local/lib/python3.6/dist-packages (2.8.0)\n",
            "Requirement already satisfied: six in /usr/local/lib/python3.6/dist-packages (from h5py) (1.12.0)\n",
            "Requirement already satisfied: numpy>=1.7 in /usr/local/lib/python3.6/dist-packages (from h5py) (1.16.5)\n"
          ],
          "name": "stdout"
        }
      ]
    },
    {
      "cell_type": "code",
      "metadata": {
        "id": "L06f9hdTEJVq",
        "colab_type": "code",
        "outputId": "3f7c28c4-d611-4b89-ccfb-ec076733f74f",
        "colab": {
          "base_uri": "https://localhost:8080/",
          "height": 105
        }
      },
      "source": [
        "pip install nibabel"
      ],
      "execution_count": 2,
          "base_uri": "https://localhost:8080/",
          "height": 85
        }
      "source": [
        "pip install nibabel"
      ],
      "execution_count": 0,
      "outputs": [
        {
          "output_type": "stream",
          "text": [
            "Requirement already satisfied: nibabel in /usr/local/lib/python3.6/dist-packages (2.3.3)\n",
            "Requirement already satisfied: bz2file in /usr/local/lib/python3.6/dist-packages (from nibabel) (0.98)\n",
            "Requirement already satisfied: numpy>=1.7.1 in /usr/local/lib/python3.6/dist-packages (from nibabel) (1.16.5)\n",
            "Requirement already satisfied: six>=1.3 in /usr/local/lib/python3.6/dist-packages (from nibabel) (1.12.0)\n"
          ],
          "name": "stdout"
        }
      ]
    },
    {
      "cell_type": "code",
      "metadata": {
        "colab_type": "code",
        "id": "5et-JeLXj3BG",
        "outputId": "93bf9c88-7cdb-43a4-af01-dc9978e792f0",
        "colab": {
          "base_uri": "https://localhost:8080/",
          "height": 122
        }
      },
      "source": [
        "# Mount google drive\n",
        "from google.colab import drive\n",
        "import os\n",
        "drive.mount('my_drive', force_remount=True)\n",
        "\n",
        "import psutil\n",
        "import os\n",
        "\n",
        "process = psutil.Process(os.getpid())\n",
        "\n",
        "def print_memory_use():\n",
        "  print(process.memory_info().rss/1e9)"
      ],
      "execution_count": 22,
      "outputs": [
        {
          "output_type": "stream",
          "text": [
            "Mounted at my_drive\n"
          ],
          "name": "stdout"
        }
      ]
    },
    {
      "cell_type": "code",
      "metadata": {
        "colab_type": "code",
        "id": "pyBuiXMrbjPF",
        "outputId": "c0800cd5-f2c6-4ae8-b89d-d4a898cc1b75",
        "colab": {
          "base_uri": "https://localhost:8080/",
          "height": 34
      "source": [
        ""
      ],
      "execution_count": 0,
      "outputs": []
    },
        "colab": {
          "base_uri": "https://localhost:8080/",
          "height": 51
        }
      },
      "source": [
        "from keras.callbacks import Callback\n",
        "import json\n",
        "\n",
        "# What value maps to what class\n",
        "mapping = {\n",
        "    0: \"Null class\",\n",
        "    1: \"Necrotic and non-enhancing tumor core\",\n",
        "    2: \"Edema\",\n",
        "    4: \"GD-enhancing tumor\"\n",
        "}\n",
        "\n",
        "# fixme: skulle gå att göra bättre igenom att skicka med en tex tuple med titlarna\n",
        "# och returnera ett matplotlib-objekt istället för då hade man inte behövt ha olika\n",
        "# funktioner för \"plot_modalities\" och \"plt_OHE\" och också kunna ha två stycken figurer med \n",
        "# 2*2 subplots i en cell.\n",
        "def plot_modalities(x):\n",
        "    # Make sure input data is of correct shape\n",
        "    assert x.shape == (240, 240, 4), 'Shape of input data is incorrect'\n",
        "    \n",
        "    plt.subplot('221')\n",
        "    plt.imshow(x[:,:,0])\n",
        "    plt.axis('off')\n",
        "    plt.title('T1')\n",
        "    plt.colorbar()\n",
        "\n",
        "    plt.subplot('222')\n",
        "    plt.imshow(x[:,:,1])\n",
        "    plt.axis('off')\n",
        "    plt.title('T1ce')\n",
        "    plt.colorbar()\n",
        "\n",
        "    plt.subplot('223')\n",
        "    plt.imshow(x[:,:,2])\n",
        "    plt.axis('off')\n",
        "    plt.title('T2')\n",
        "    plt.colorbar()\n",
        "\n",
        "    plt.subplot('224')\n",
        "    plt.imshow(x[:,:,3])\n",
        "    plt.axis('off')\n",
        "    plt.title('FLAIR')\n",
        "    plt.colorbar()\n",
        "\n",
        "def plot_OHE(y):\n",
        "    # Make sure input data is of correct shape\n",
        "    assert y.shape == (240, 240, 4), 'Shape of input data is incorrect'\n",
        "    \n",
        "    plt.subplot('221')\n",
        "    plt.imshow(y[:,:,0])\n",
        "    plt.axis('off')\n",
        "    plt.title('Null')\n",
        "    plt.colorbar()\n",
        "\n",
        "    plt.subplot('222')\n",
        "    plt.imshow(y[:,:,1])\n",
        "    plt.axis('off')\n",
        "    plt.title('\"Necrotic and non-enhancing tumor core\"')\n",
        "    plt.colorbar()\n",
        "\n",
        "    plt.subplot('223')\n",
        "    plt.imshow(y[:,:,2])\n",
        "    plt.axis('off')\n",
        "    plt.title('Edema')\n",
        "    plt.colorbar()\n",
        "\n",
        "    plt.subplot('224')\n",
        "    plt.imshow(y[:,:,3])\n",
        "    plt.axis('off')\n",
        "    plt.title('GD-enhancing tumor')\n",
        "    plt.colorbar()\n",
        "\n",
        "def shift_and_scale(x):\n",
        "    assert len(x.shape) == 2, 'The input must be 2 dimensional'\n",
        "    #assert np.std(x) != 0, 'Cant divide by zero'\n",
        "    result = x - np.mean(x)\n",
        "    \n",
        "    # This is a really ugly hack\n",
        "    if np.std(x) == 0:\n",
        "      result /= 1\n",
        "    else:\n",
        "      result /= np.std(x)\n",
        "    return result\n",
        "\n",
        "def OHE(Y, mapping):\n",
        "    '''\n",
        "    Takes in a picture as a matrix with labels and returns a one hot encoded tensor\n",
        "    \n",
        "    Parameters:\n",
        "    Y is the picture\n",
        "    Mapping is what value corresponds to what label\n",
        "    \n",
        "    Returns:\n",
        "    A tensor with a channel for each label.\n",
        "    '''\n",
        "    shape = Y.shape\n",
        "    labels = mapping.keys()\n",
        "    one_hot_enc = np.zeros(list(shape) + [len(labels)])\n",
        "    \n",
        "    for i, label in enumerate(labels):\n",
        "        temp = np.zeros(shape)\n",
        "        ind = Y == label\n",
        "        temp[ind] = 1\n",
        "        one_hot_enc[:, :, i] = temp\n",
        "    return one_hot_enc\n",
        "\n",
        "#fixme: I don't know if providing this mapping is necessary\n",
        "# probably could be provided inside function instead.\n",
        "def OHE_uncoding(y, mapping):\n",
        "    result = np.argmax(y, axis=2)\n",
        "    labels = mapping.keys()\n",
        "    temp = np.zeros(result.shape)\n",
        "    for i, label in enumerate(labels):\n",
        "        ind = result == i\n",
        "        temp[ind] = label\n",
        "    return temp\n",
        "\n",
        "def IoU_wholeTumor(y_true, y_pred):\n",
        "    values = np.array([0., 1.])\n",
        "    unique_y_pred = np.unique(y_pred)\n",
        "    unique_y_true = np.unique(y_true)\n",
        "    assert np.array_equal(y_pred.shape, y_true.shape), 'Prediction and ground truth must have same shape'\n",
        "    assert np.array_equal(values, unique_y_pred), 'yhat and y must be one hot encodings'\n",
        "    assert np.array_equal(values, unique_y_true), 'yhat and y must be one hot encodings'\n",
        "    \n",
        "    \n",
        "    y_pred[:,:,0] = np.logical_not(y_pred[:,:,0]) \n",
        "    y_true[:,:,0] = np.logical_not(y_true[:,:,0])\n",
        "    \n",
        "    intersection = np.logical_and(y_pred[:,:,0], y_true[:,:,0])\n",
        "    union = np.logical_or(y_true[:,:,0], y_pred[:,:,0])\n",
        "    \n",
        "    size_int = np.count_nonzero(intersection)\n",
        "    size_uni = np.count_nonzero(union)\n",
        "    \n",
        "    return size_int/size_uni\n",
        "\n",
        "def dice_coefficient(y_true, y_pred):\n",
        "    y_true_f = K.flatten(y_true)\n",
        "    y_pred_f = K.flatten(y_pred)\n",
        "    intersection = K.sum(K.abs(y_true_f * y_pred_f), axis=-1)\n",
        "    return (2. * intersection) / (\n",
        "        K.sum(K.square(y_true_f), -1) + K.sum(K.square(y_pred_f), -1) + 1e-8)\n",
        "def reset_config(config, config_path=None, weights_path=None):\n",
        "    new_config = config\n",
        "    if weights_path:\n",
        "        assert type(weights_path) == str, 'The weight path must be a string'\n",
        "        new_config['weights_path'] = weights_path\n",
        "    if config_path:\n",
        "        assert type(config_path) == str, 'The config path must be a string'\n",
        "        new_config['config_path'] = config_path\n",
        "    new_config['history']['training_samples_used'] = 0\n",
        "    new_config['history']['loss'] = []\n",
        "    new_config['history']['val_loss'] = []\n",
        "    new_config['keep_training'] = False\n",
        "\n",
        "class CallbackJSON(Callback):\n",
        "    \"\"\" CallbackJSON descends from Callback\n",
        "        and is used to write the number of training samples that the model has been trained on\n",
        "        and the loss for a epoch\n",
        "    \"\"\"\n",
        "    def __init__(self, config):\n",
        "        \"\"\"Save params in constructor\n",
        "        config: Is a dictionary loaded from a JSON file which is used to keep track of training\n",
        "        \"\"\"\n",
        "        self.config = config\n",
        "        self.config_path = config['config_path']\n",
        "\n",
        "    def on_epoch_end(self, epoch, logs):\n",
        "        \"\"\"\n",
        "        Updates the history of the config dict and saves it to a file\n",
        "        \"\"\"\n",
        "        # How many effective training samples have been used\n",
        "        self.config['history']['training_samples_used'] += self.config['samples_used']\n",
        "        \n",
        "        # Logs the loss of the current epoch\n",
        "        self.config['history']['loss'].append(logs['loss'])\n",
        "        #fixme: add the same code but for \"val_loss\"\n",
        "        #self.config['history']['val_loss'].append(logs['val_loss'])\n",
        "        \n",
        "        print_memory_use()\n",
        "        # Save new config file\n",
        "        with open(self.config_path, \"w\") as f:\n",
        "            f.write(json.dumps(self.config))\n",
        "\n",
        "print('Finished')\n",
        "print_memory_use()"
      ],
      "execution_count": 23,
        {
          "output_type": "stream",
          "text": [
            "Finished\n"
          ],
          "name": "stdout"
        }
        "colab_type": "code",
        "id": "oFoad5sFb_GU",
        "outputId": "3bceaba4-7698-46dd-9551-982a79454b6c",
        }
      "outputs": [
        {
          "output_type": "stream",
          "text": [
            "Finished\n",
            "4.225605632\n"
          ],
          "name": "stdout"
        }
      ]
    },
    {
      "cell_type": "markdown",
      "metadata": {
        "id": "HQR3zTgY2Dnw",
        "colab_type": "text"
      },
      "source": [
        "First part gets all paths to the different modalities and second part loads them into numpy arrays"
      ]
        "colab": {
          "base_uri": "https://localhost:8080/",
          "height": 136
        }
      },
      "source": [
        "import nibabel as nib\n",
        "import matplotlib.pyplot as plt\n",
        "import numpy as np\n",
        "import glob\n",
        "from os import listdir\n",
        "\n",
        "wild_t1 = \"/content/my_drive/My Drive/EXJOBB/MICCAI_BraTS_2019_Data_Training/*/*/*_t1.nii.gz\"\n",
        "wild_t1ce = \"/content/my_drive/My Drive/EXJOBB/MICCAI_BraTS_2019_Data_Training/*/*/*_t1ce.nii.gz\"\n",
        "wild_t2 = \"/content/my_drive/My Drive/EXJOBB/MICCAI_BraTS_2019_Data_Training/*/*/*_t2.nii.gz\"\n",
        "wild_flair = \"/content/my_drive/My Drive/EXJOBB/MICCAI_BraTS_2019_Data_Training/*/*/*_flair.nii.gz\"\n",
        "wild_gt = \"/content/my_drive/My Drive/EXJOBB/MICCAI_BraTS_2019_Data_Training/*/*/*_seg.nii.gz\"\n",
        "t1_paths = glob.glob(wild_t1)\n",
        "t1ce_paths = glob.glob(wild_t1ce)\n",
        "t2_paths = glob.glob(wild_t2)\n",
        "flair_paths = glob.glob(wild_flair)\n",
        "gt_paths = glob.glob(wild_flair)\n",
        "\n",
        "num_patients = 5\n",
        "num_slices = 155\n",
        "org_shape = (4, 240, 240, 155)\n",
        "uncorrected_data = np.zeros((4, 240, 240, num_patients*num_slices))\n",
        "uncorrected_OHE_labels = np.zeros((num_patients*num_slices, 240, 240, 4))\n",
        "\n",
        "for i in range(num_patients):\n",
        "  print('Patient: ' + str(i))\n",
        "  path_t1 = t1_paths[i]\n",
        "  path_t1ce = t1ce_paths[i]\n",
        "  path_t2 = t2_paths[i]\n",
        "  path_flair = flair_paths[i]\n",
        "  path_gt = gt_paths[i]\n",
        "\n",
        "  img_t1 = nib.load(path_t1)\n",
        "  img_t1ce = nib.load(path_t1ce)\n",
        "  img_t2 = nib.load(path_t2)\n",
        "  img_flair = nib.load(path_flair)\n",
        "  img_gt = nib.load(path_gt)\n",
        "\n",
        "  img_t1 = img_t1.get_fdata()\n",
        "  img_t1ce = img_t1ce.get_fdata()\n",
        "  img_t2 = img_t2.get_fdata()\n",
        "  img_flair = img_flair.get_fdata()\n",
        "  img_gt = img_gt.get_fdata()\n",
        "\n",
        "  # I have here chosen to do shift and scale per image, \n",
        "  # which is not the only way to do normalization.\n",
        "  for j in range(img_t1.shape[2]):\n",
        "      # shift and scale data\n",
        "      img_t1[:, :, j] = shift_and_scale(img_t1[:, :, j])\n",
        "      img_t1ce[:, :, j] = shift_and_scale(img_t1ce[:, :, j])\n",
        "      img_t2[:, :, j] = shift_and_scale(img_t2[:, :, j])\n",
        "      img_flair[:, :, j] = shift_and_scale(img_flair[:, :, j])\n",
        "\n",
        "  assert not np.any(np.isnan(img_t1)), 'Inputs contain nans'\n",
        "  assert not np.any(np.isnan(img_t1ce)), 'Inputs contain nans'\n",
        "  assert not np.any(np.isnan(img_t2)), 'Inputs contain nans'\n",
        "  assert not np.any(np.isnan(img_flair)), 'Inputs contain nans'\n",
        "\n",
        "  uncorrected_data[0, :, :, i*num_slices:(i+1)*num_slices] = img_t1\n",
        "  uncorrected_data[1, :, :, i*num_slices:(i+1)*num_slices] = img_t1ce\n",
        "  uncorrected_data[2, :, :, i*num_slices:(i+1)*num_slices] = img_t2\n",
        "  uncorrected_data[3, :, :, i*num_slices:(i+1)*num_slices] = img_flair\n",
        "  \n",
        "  for j in range(num_slices):\n",
        "      uncorrected_OHE_labels[j, :, :, :] = OHE(img_gt[:, :, j], mapping)\n",
        "\n",
        "# The last axis will become the first axis\n",
        "uncorrected_data = np.moveaxis(uncorrected_data, -1, 0)\n",
        "uncorrected_data = np.moveaxis(uncorrected_data, 1, 3)\n",
        "\n",
        "print('Finished')\n",
        "print_memory_use()"
      ],
      "execution_count": 24,
      "outputs": [
        {
          "output_type": "stream",
          "text": [
            "Patient: 0\n",
            "Patient: 1\n",
            "Patient: 2\n",
            "Patient: 3\n",
            "Patient: 4\n",
            "Finished\n",
            "5.655568384\n"
          ],
          "name": "stdout"
        }
      ]
    },
    {
      "cell_type": "markdown",
      "metadata": {
        "id": "yHOIGg1Ubs1G",
        "colab_type": "text"
      },
      "source": [
        "Load the next patient and use as validation data"
      ]
    },
    {
      "cell_type": "code",
      "metadata": {
        "id": "Yo7m4W3Matrn",
        "colab_type": "code",
        "outputId": "995bbd24-700b-4829-b5b8-5f8081c8ca6b",
        "colab": {
          "base_uri": "https://localhost:8080/",
          "height": 51
        }
      },
      "source": [
        "validation_index = num_patients\n",
        "\n",
        "validation_data = np.zeros((4, 240, 240, num_slices))\n",
        "validation_OHE_labels = np.zeros((num_slices, 240, 240, 4))\n",
        "\n",
        "# Pick one patient for validation\n",
        "path_t1 = t1_paths[validation_index]\n",
        "path_t1ce = t1ce_paths[validation_index]\n",
        "path_t2 = t2_paths[validation_index]\n",
        "path_flair = flair_paths[validation_index]\n",
        "path_gt = gt_paths[validation_index]\n",
        "\n",
        "img_t1 = nib.load(path_t1)\n",
        "img_t1ce = nib.load(path_t1ce)\n",
        "img_t2 = nib.load(path_t2)\n",
        "img_flair = nib.load(path_flair)\n",
        "img_gt = nib.load(path_gt)\n",
        "\n",
        "img_t1 = img_t1.get_fdata()\n",
        "img_t1ce = img_t1ce.get_fdata()\n",
        "img_t2 = img_t2.get_fdata()\n",
        "img_flair = img_flair.get_fdata()\n",
        "img_gt = img_gt.get_fdata()\n",
        "\n",
        "# I have here chosen to do shift and scale per image, \n",
        "# which is not the only way to do normalization.\n",
        "for j in range(img_t1.shape[2]):\n",
        "    # shift and scale data\n",
        "    img_t1[:, :, j] = shift_and_scale(img_t1[:, :, j])\n",
        "    img_t1ce[:, :, j] = shift_and_scale(img_t1ce[:, :, j])\n",
        "    img_t2[:, :, j] = shift_and_scale(img_t2[:, :, j])\n",
        "    img_flair[:, :, j] = shift_and_scale(img_flair[:, :, j])\n",
        "\n",
        "assert not np.any(np.isnan(img_t1)), 'Inputs contain nans'\n",
        "assert not np.any(np.isnan(img_t1ce)), 'Inputs contain nans'\n",
        "assert not np.any(np.isnan(img_t2)), 'Inputs contain nans'\n",
        "assert not np.any(np.isnan(img_flair)), 'Inputs contain nans'\n",
        "\n",
        "validation_data[0, :, :, :] = img_t1\n",
        "validation_data[1, :, :, :] = img_t1ce\n",
        "validation_data[2, :, :, :] = img_t2\n",
        "validation_data[3, :, :, :] = img_flair\n",
        "\n",
        "for j in range(num_slices):\n",
        "    validation_OHE_labels[j, :, :, :] = OHE(img_gt[:, :, j], mapping)\n",
        "\n",
        "# The last axis will become the first axis\n",
        "validation_data = np.moveaxis(validation_data, -1, 0)\n",
        "validation_data = np.moveaxis(validation_data, 1, 3)\n",
        "\n",
        "validation_OHE_labels = validation_OHE_labels.reshape(num_slices,-1,4)\n",
        "\n",
        "print('Finished')\n",
        "print_memory_use()"
      ],
      "execution_count": 25,
      "outputs": [
        {
          "output_type": "stream",
          "text": [
            "Finished\n",
            "5.65557248\n"
          ],
          "name": "stdout"
        }
      ]
    },
    {
      "cell_type": "code",
      "metadata": {
        "id": "f8uUm5OMbjPQ",
        "colab_type": "code",
        "outputId": "d5f46280-fe66-4aa7-beab-9a364af5342f",
        "colab": {
          "base_uri": "https://localhost:8080/",
          "height": 366
        }
      },
      "source": [
        "# This will show a slice of a patient\n",
        "ind = 70\n",
        "patient = uncorrected_data[ind, :, :, :]\n",
        "print(patient.shape)\n",
        "plot_modalities(patient)\n",
        "\n",
        "for i in range(4):\n",
        "  print(\"Max:\", np.max(patient[:,:,i]), \"Min:\", np.min(patient[:,:,i]), sep=\" \" )"
      ],
      "execution_count": 26,
      "outputs": [
        {
          "output_type": "stream",
          "text": [
            "(240, 240, 4)\n",
            "Max: 3.3029682731871794 Min: -0.6656689498057047\n",
            "Max: 5.681133430170216 Min: -0.6639489891989483\n",
            "Max: 4.575245146357317 Min: -0.6434268914887027\n",
            "Max: 2.534363183406963 Min: -0.665667998966122\n"
          ],
          "name": "stdout"
        },
        {
          "output_type": "display_data",
          "data": {
            "image/png": "iVBORw0KGgoAAAANSUhEUgAAAVsAAAEICAYAAADx1Ve0AAAABHNCSVQICAgIfAhkiAAAAAlwSFlz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\n",
            "text/plain": [
              "<Figure size 432x288 with 8 Axes>"
            ]
          },
          "metadata": {
            "tags": []
          }
        }
      ]
    },
    {
      "cell_type": "code",
      "metadata": {
        "id": "5zkievcDbjPc",
        "colab_type": "code",
        "colab": {}
        "colab": {}
      },
      "source": [
        "import numpy as np\n",
        "import os\n",
        "import skimage.io as io\n",
        "import skimage.transform as trans\n",
        "import numpy as np\n",
        "from keras.models import *\n",
        "from keras.layers import *\n",
        "from keras.activations import *\n",
        "from keras.optimizers import *\n",
        "from keras.callbacks import ModelCheckpoint, LearningRateScheduler\n",
        "from keras import backend as keras\n",
        "\n",
        "def unet(pretrained_weights = None, input_size = (256, 256, 1), num_classes=1):\n",
        "  inputs = Input(input_size)\n",
        "  conv1 = Conv2D(64, 3, activation = 'relu', padding = 'same', kernel_initializer = 'he_normal')(inputs)\n",
        "  conv1 = Conv2D(64, 3, activation = 'relu', padding = 'same', kernel_initializer = 'he_normal')(conv1)\n",
        "  pool1 = MaxPooling2D(pool_size = (2, 2))(conv1)\n",
        "  \n",
        "  conv2 = Conv2D(128, 3, activation = 'relu', padding = 'same', kernel_initializer = 'he_normal')(pool1)\n",
        "  conv2 = Conv2D(128, 3, activation = 'relu', padding = 'same', kernel_initializer = 'he_normal')(conv2)\n",
        "  pool2 = MaxPooling2D(pool_size = (2, 2))(conv2)\n",
        "  \n",
        "  conv3 = Conv2D(256, 3, activation = 'relu', padding = 'same', kernel_initializer = 'he_normal')(pool2)\n",
        "  conv3 = Conv2D(256, 3, activation = 'relu', padding = 'same', kernel_initializer = 'he_normal')(conv3)\n",
        "  pool3 = MaxPooling2D(pool_size = (2, 2))(conv3)\n",
        "  \n",
        "  conv4 = Conv2D(512, 3, activation = 'relu', padding = 'same', kernel_initializer = 'he_normal')(pool3)\n",
        "  conv4 = Conv2D(512, 3, activation = 'relu', padding = 'same', kernel_initializer = 'he_normal')(conv4)\n",
        "  drop4 = Dropout(0.5)(conv4)\n",
        "  pool4 = MaxPooling2D(pool_size = (2, 2))(drop4)\n",
        "  \n",
        "  conv5 = Conv2D(1024, 3, activation = 'relu', padding = 'same', kernel_initializer = 'he_normal')(pool4)\n",
        "  conv5 = Conv2D(1024, 3, activation = 'relu', padding = 'same', kernel_initializer = 'he_normal')(conv5)\n",
        "  drop5 = Dropout(0.5)(conv5)\n",
        "  \n",
        "  up6 = Conv2D(512, 2, activation = 'relu', padding = 'same', kernel_initializer = 'he_normal')(UpSampling2D(size = (2, 2))(drop5))\n",
        "  merge6 = concatenate([drop4, up6], axis = 3)\n",
        "  conv6 = Conv2D(512, 3, activation = 'relu', padding = 'same', kernel_initializer = 'he_normal')(merge6)\n",
        "  conv6 = Conv2D(512, 3, activation = 'relu', padding = 'same', kernel_initializer = 'he_normal')(conv6)\n",
        "  \n",
        "  up7 = Conv2D(256, 2, activation = 'relu', padding = 'same', kernel_initializer = 'he_normal')(UpSampling2D(size = (2, 2))(conv6))\n",
        "  merge7 = concatenate([conv3, up7], axis = 3)\n",
        "  conv7 = Conv2D(256, 3, activation = 'relu', padding = 'same', kernel_initializer = 'he_normal')(merge7)\n",
        "  conv7 = Conv2D(256, 3, activation = 'relu', padding = 'same', kernel_initializer = 'he_normal')(conv7)\n",
        "  \n",
        "  up8 = Conv2D(128, 2, activation = 'relu', padding = 'same', kernel_initializer = 'he_normal')(UpSampling2D(size = (2, 2))(conv7))\n",
        "  merge8 = concatenate([conv2, up8], axis = 3)\n",
        "  conv8 = Conv2D(128, 3, activation = 'relu', padding = 'same', kernel_initializer = 'he_normal')(merge8)\n",
        "  conv8 = Conv2D(128, 3, activation = 'relu', padding = 'same', kernel_initializer = 'he_normal')(conv8)\n",
        "  \n",
        "  up9 = Conv2D(64, 2, activation = 'relu', padding = 'same', kernel_initializer = 'he_normal')(UpSampling2D(size = (2, 2))(conv8))\n",
        "  merge9 = concatenate([conv1, up9], axis = 3)\n",
        "  conv9 = Conv2D(64, 3, activation = 'relu', padding = 'same', kernel_initializer = 'he_normal')(merge9)\n",
        "  conv9 = Conv2D(64, 3, activation = 'relu', padding = 'same', kernel_initializer = 'he_normal')(conv9)\n",
        "  conv9 = Conv2D(num_classes, 3, activation = 'relu', padding = 'same', kernel_initializer = 'he_normal')(conv9)\n",
        "  \n",
        "  reshape = Reshape((num_classes, input_size[0] * input_size[1]), input_shape = (num_classes, input_size[0], input_size[1]))(conv9)\n",
        "  permute = Permute((2, 1))(reshape)\n",
        "  activation = Softmax(axis=-1)(permute)\n",
        "  \n",
        "  model = Model(input = inputs, output = activation)\n",
        "  model.compile(optimizer = Adam(lr=0.001), loss = 'categorical_crossentropy', metrics=[dice_coefficient])\n",
        "  if (pretrained_weights):\n",
        "    model.load_weights(pretrained_weights)\n",
        "  return model"
      ],
      "execution_count": 0,
      "outputs": []
    },
    {
      "cell_type": "code",
      "metadata": {
        "id": "r5Y5Shq3NGY4",
        "colab_type": "code",
        "colab": {
          "base_uri": "https://localhost:8080/",
          "height": 1000
        },
        "outputId": "8714973c-0110-4459-d9b2-121edfb6828b"
      },
      "source": [
        "my_unet = unet(input_size = (128, 128, 4))\n",
        "my_unet.summary()"
      ],
      "execution_count": 28,
      "outputs": [
        {
          "output_type": "stream",
          "text": [
            "Model: \"model_10\"\n",
            "__________________________________________________________________________________________________\n",
            "Layer (type)                    Output Shape         Param #     Connected to                     \n",
            "==================================================================================================\n",
            "input_15 (InputLayer)           (None, 128, 128, 4)  0                                            \n",
            "__________________________________________________________________________________________________\n",
            "conv2d_266 (Conv2D)             (None, 128, 128, 64) 2368        input_15[0][0]                   \n",
            "__________________________________________________________________________________________________\n",
            "conv2d_267 (Conv2D)             (None, 128, 128, 64) 36928       conv2d_266[0][0]                 \n",
            "__________________________________________________________________________________________________\n",
            "max_pooling2d_57 (MaxPooling2D) (None, 64, 64, 64)   0           conv2d_267[0][0]                 \n",
            "__________________________________________________________________________________________________\n",
            "conv2d_268 (Conv2D)             (None, 64, 64, 128)  73856       max_pooling2d_57[0][0]           \n",
            "__________________________________________________________________________________________________\n",
            "conv2d_269 (Conv2D)             (None, 64, 64, 128)  147584      conv2d_268[0][0]                 \n",
            "__________________________________________________________________________________________________\n",
            "max_pooling2d_58 (MaxPooling2D) (None, 32, 32, 128)  0           conv2d_269[0][0]                 \n",
            "__________________________________________________________________________________________________\n",
            "conv2d_270 (Conv2D)             (None, 32, 32, 256)  295168      max_pooling2d_58[0][0]           \n",
            "__________________________________________________________________________________________________\n",
            "conv2d_271 (Conv2D)             (None, 32, 32, 256)  590080      conv2d_270[0][0]                 \n",
            "__________________________________________________________________________________________________\n",
            "max_pooling2d_59 (MaxPooling2D) (None, 16, 16, 256)  0           conv2d_271[0][0]                 \n",
            "__________________________________________________________________________________________________\n",
            "conv2d_272 (Conv2D)             (None, 16, 16, 512)  1180160     max_pooling2d_59[0][0]           \n",
            "__________________________________________________________________________________________________\n",
            "conv2d_273 (Conv2D)             (None, 16, 16, 512)  2359808     conv2d_272[0][0]                 \n",
            "__________________________________________________________________________________________________\n",
            "dropout_29 (Dropout)            (None, 16, 16, 512)  0           conv2d_273[0][0]                 \n",
            "__________________________________________________________________________________________________\n",
            "max_pooling2d_60 (MaxPooling2D) (None, 8, 8, 512)    0           dropout_29[0][0]                 \n",
            "__________________________________________________________________________________________________\n",
            "conv2d_274 (Conv2D)             (None, 8, 8, 1024)   4719616     max_pooling2d_60[0][0]           \n",
            "__________________________________________________________________________________________________\n",
            "conv2d_275 (Conv2D)             (None, 8, 8, 1024)   9438208     conv2d_274[0][0]                 \n",
            "__________________________________________________________________________________________________\n",
            "dropout_30 (Dropout)            (None, 8, 8, 1024)   0           conv2d_275[0][0]                 \n",
            "__________________________________________________________________________________________________\n",
            "up_sampling2d_43 (UpSampling2D) (None, 16, 16, 1024) 0           dropout_30[0][0]                 \n",
            "__________________________________________________________________________________________________\n",
            "conv2d_276 (Conv2D)             (None, 16, 16, 512)  2097664     up_sampling2d_43[0][0]           \n",
            "__________________________________________________________________________________________________\n",
            "concatenate_43 (Concatenate)    (None, 16, 16, 1024) 0           dropout_29[0][0]                 \n",
            "                                                                 conv2d_276[0][0]                 \n",
            "__________________________________________________________________________________________________\n",
            "conv2d_277 (Conv2D)             (None, 16, 16, 512)  4719104     concatenate_43[0][0]             \n",
            "__________________________________________________________________________________________________\n",
            "conv2d_278 (Conv2D)             (None, 16, 16, 512)  2359808     conv2d_277[0][0]                 \n",
            "__________________________________________________________________________________________________\n",
            "up_sampling2d_44 (UpSampling2D) (None, 32, 32, 512)  0           conv2d_278[0][0]                 \n",
            "__________________________________________________________________________________________________\n",
            "conv2d_279 (Conv2D)             (None, 32, 32, 256)  524544      up_sampling2d_44[0][0]           \n",
            "__________________________________________________________________________________________________\n",
            "concatenate_44 (Concatenate)    (None, 32, 32, 512)  0           conv2d_271[0][0]                 \n",
            "                                                                 conv2d_279[0][0]                 \n",
            "__________________________________________________________________________________________________\n",
            "conv2d_280 (Conv2D)             (None, 32, 32, 256)  1179904     concatenate_44[0][0]             \n",
            "__________________________________________________________________________________________________\n",
            "conv2d_281 (Conv2D)             (None, 32, 32, 256)  590080      conv2d_280[0][0]                 \n",
            "__________________________________________________________________________________________________\n",
            "up_sampling2d_45 (UpSampling2D) (None, 64, 64, 256)  0           conv2d_281[0][0]                 \n",
            "__________________________________________________________________________________________________\n",
            "conv2d_282 (Conv2D)             (None, 64, 64, 128)  131200      up_sampling2d_45[0][0]           \n",
            "__________________________________________________________________________________________________\n",
            "concatenate_45 (Concatenate)    (None, 64, 64, 256)  0           conv2d_269[0][0]                 \n",
            "                                                                 conv2d_282[0][0]                 \n",
            "__________________________________________________________________________________________________\n",
            "conv2d_283 (Conv2D)             (None, 64, 64, 128)  295040      concatenate_45[0][0]             \n",
            "__________________________________________________________________________________________________\n",
            "conv2d_284 (Conv2D)             (None, 64, 64, 128)  147584      conv2d_283[0][0]                 \n",
            "__________________________________________________________________________________________________\n",
            "up_sampling2d_46 (UpSampling2D) (None, 128, 128, 128 0           conv2d_284[0][0]                 \n",
            "__________________________________________________________________________________________________\n",
            "conv2d_285 (Conv2D)             (None, 128, 128, 64) 32832       up_sampling2d_46[0][0]           \n",
            "__________________________________________________________________________________________________\n",
            "concatenate_46 (Concatenate)    (None, 128, 128, 128 0           conv2d_267[0][0]                 \n",
            "                                                                 conv2d_285[0][0]                 \n",
            "__________________________________________________________________________________________________\n",
            "conv2d_286 (Conv2D)             (None, 128, 128, 64) 73792       concatenate_46[0][0]             \n",
            "__________________________________________________________________________________________________\n",
            "conv2d_287 (Conv2D)             (None, 128, 128, 64) 36928       conv2d_286[0][0]                 \n",
            "__________________________________________________________________________________________________\n",
            "conv2d_288 (Conv2D)             (None, 128, 128, 1)  577         conv2d_287[0][0]                 \n",
            "__________________________________________________________________________________________________\n",
            "reshape_10 (Reshape)            (None, 1, 16384)     0           conv2d_288[0][0]                 \n",
            "__________________________________________________________________________________________________\n",
            "permute_10 (Permute)            (None, 16384, 1)     0           reshape_10[0][0]                 \n",
            "__________________________________________________________________________________________________\n",
            "softmax_10 (Softmax)            (None, 16384, 1)     0           permute_10[0][0]                 \n",
            "==================================================================================================\n",
            "Total params: 31,032,833\n",
            "Trainable params: 31,032,833\n",
            "Non-trainable params: 0\n",
            "__________________________________________________________________________________________________\n"
          ],
          "name": "stdout"
        },
        {
          "output_type": "stream",
          "text": [
            "/usr/local/lib/python3.6/dist-packages/ipykernel_launcher.py:61: UserWarning: Update your `Model` call to the Keras 2 API: `Model(inputs=Tensor(\"in..., outputs=Tensor(\"so...)`\n"
          ],
          "name": "stderr"
        }
      ]
    },
    {
      "cell_type": "markdown",
      "metadata": {
        "id": "3705e3NYZ5ln",
        "colab_type": "text"
      },
      "source": [
        "# New main training cell"
      ]
    },
    {
      "cell_type": "code",
      "metadata": {
        "id": "8JHoeyzwFW9T",
        "colab_type": "code",
        "outputId": "1ae8f5cb-ebc5-4bf0-a397-0b4a3c0d94b2",
        "colab": {
          "base_uri": "https://localhost:8080/",
          "height": 71
        }
      },
      "source": [
        "# Load config file to session here\n",
        "config_path = \"/content/my_drive/My Drive/EXJOBB/training_sessions/Session_1/config_1.json\"\n",
        "with open(config_path, 'r') as config_file:\n",
        "    config = json.load(config_file)\n",
        "print(config)\n",
        "reset_config(config)\n",
        "print(config)\n"
      ],
      "execution_count": 29,
      "outputs": [
        {
          "output_type": "stream",
          "text": [
            "{'weights_path': '/content/my_drive/My Drive/EXJOBB/training_sessions/Session_1/session_1_weights.h5', 'config_path': '/content/my_drive/My Drive/EXJOBB/training_sessions/Session_1/config_1.json', 'samples_used': 1, 'keep_training': True, 'history': {'training_samples_used': 500, 'loss': [1.1698405742645264, 2.654731512069702, 2.5402615070343018, 0.9797440767288208, 0.9912707805633545, 1.0288746356964111, 1.0036470890045166, 1.0076382160186768, 1.000347375869751, 1.0032179355621338, 1.003801703453064, 1.0102585554122925, 1.0058053731918335, 1.0018877983093262, 1.0075323581695557, 1.0125694274902344, 1.0019359588623047, 1.0092113018035889, 1.0052937269210815, 1.005597710609436, 1.0134329795837402, 1.0106346607208252, 1.0064371824264526, 1.0134329795837402, 1.009795069694519, 1.0027753114700317, 1.0052937269210815, 1.0080920457839966, 1.013664722442627, 1.00974702835083, 1.0080440044403076, 1.0116819143295288, 1.00664484500885, 1.0094431638717651, 1.007204532623291, 1.0108423233032227, 1.0083237886428833, 1.0094190835952759, 1.01165771484375, 1.0102345943450928, 1.0121452808380127, 1.0093709230422974, 1.0107460021972656, 1.0141041278839111, 1.0124009847640991, 1.0129365921020508, 1.0120489597320557, 1.0041896104812622, 1.010066032409668, 1.0116969347000122, 1.0114892721176147, 1.0086668729782104, 1.0144952535629272, 1.0094341039657593, 1.0099456310272217, 1.0149345397949219, 1.0099215507507324, 1.009009838104248, 1.013767123222351, 1.0078905820846558, 1.0157259702682495, 1.0115283727645874, 1.0072587728500366, 1.0157259702682495, 1.01201593875885, 1.0157018899917603, 1.0158613920211792, 1.0155333280563354, 1.0108002424240112, 1.0116878747940063, 1.0142545700073242, 1.0150610208511353, 1.0134150981903076, 1.0128554105758667, 1.0135897397994995, 1.0157891511917114, 1.010568618774414, 1.0153257846832275, 1.007210612297058, 1.0158613920211792, 1.013574481010437, 1.0097532272338867, 1.0108484029769897, 1.0102646350860596, 1.0149165391921997, 1.016324758529663, 1.0153017044067383, 1.0166527032852173, 1.011726975440979, 1.0162044763565063, 1.0152055025100708, 1.0128554105758667, 1.0131021738052368, 1.0176516771316528, 1.0167008638381958, 1.0107520818710327, 1.0100330114364624, 1.0046440362930298, 1.0149255990982056, 1.0105445384979248, 1.0158854722976685, 1.0147420167922974, 1.0110560655593872, 1.015533447265625, 1.0137579441070557, 1.0100330114364624, 1.015277624130249, 1.0106167793273926, 1.0138784646987915, 1.0097682476043701, 1.0166919231414795, 1.0115435123443604, 1.0058114528656006, 1.0121182203292847, 1.0161893367767334, 1.015277624130249, 1.0069307088851929, 1.0170438289642334, 1.0078665018081665, 1.0116548538208008, 1.013830304145813, 1.0082095861434937, 1.0157561302185059, 1.0128463506698608, 1.0082818269729614, 1.0158854722976685, 1.0087932348251343, 1.013622760772705, 1.0120220184326172, 1.010637879371643, 1.0108243227005005, 1.0109115839004517, 1.010631799697876, 1.0080019235610962, 1.01262366771698, 1.0160690546035767, 1.0110079050064087, 1.0165563821792603, 1.0156055688858032, 1.0170438289642334, 1.0142936706542969, 1.0093680620193481, 1.0144621133804321, 1.0100961923599243, 1.015740990638733, 1.0152053833007812, 1.0089768171310425, 1.0166436433792114, 1.0151573419570923, 1.0086729526519775, 1.0157891511917114, 1.009729027748108, 1.0135263204574585, 1.013222575187683, 1.0128945112228394, 1.014134168624878, 1.0153498649597168, 1.0075777769088745, 1.0157891511917114, 1.0057392120361328, 1.0154852867126465, 1.0129185914993286, 1.0107671022415161, 1.0141100883483887, 1.0031094551086426, 1.0083059072494507, 1.0147418975830078, 1.0161170959472656, 1.009729027748108, 1.0142064094543457, 1.0101593732833862, 1.0138784646987915, 1.009729027748108, 1.0146456956863403, 1.014077067375183, 1.0059950351715088, 1.016469120979309, 1.0163729190826416, 1.0109597444534302, 1.0086970329284668, 1.0161411762237549, 1.0149495601654053, 1.0113117694854736, 1.0093531608581543, 1.0102075338363647, 1.0039007663726807, 1.0100089311599731, 1.0124552249908447, 1.0062508583068848, 1.0072346925735474, 1.0120790004730225, 1.0121994018554688, 1.007114291191101, 1.0153017044067383, 1.0135986804962158, 1.012527346611023, 1.0159156322479248, 1.0143898725509644, 1.0139747858047485, 1.013270616531372, 1.0143417119979858, 1.0100480318069458, 1.0129576921463013, 1.0182595252990723, 1.0161170959472656, 1.0088657140731812, 1.014486312866211, 1.0116307735443115, 1.0160208940505981, 1.016628623008728, 1.0124222040176392, 1.0088896751403809, 1.0111522674560547, 1.0138784646987915, 1.0153889656066895, 1.0166527032852173, 1.0155243873596191, 1.011823296546936, 1.0136618614196777, 1.0161652565002441, 1.014486312866211, 1.012431025505066, 1.0144622325897217, 1.0093770027160645, 1.013366937637329, 1.0110318660736084, 1.0071625709533691, 1.0062748193740845, 1.0096811056137085, 1.0102556943893433, 1.0091694593429565, 1.0159486532211304, 1.0152446031570435, 1.0141100883483887, 1.0089287757873535, 1.0127590894699097, 1.0085375308990479, 1.0163969993591309, 1.0084413290023804, 1.0142936706542969, 1.0135263204574585, 1.0141011476516724, 1.0166527032852173, 1.0135024785995483, 1.0158613920211792, 1.0158613920211792, 1.002525806427002, 1.0119435787200928, 1.0137580633163452, 1.0119587182998657, 1.0090640783309937, 1.0161563158035278, 1.0144622325897217, 1.0089137554168701, 1.0128072500228882, 1.0059950351715088, 1.007977843284607, 1.012527346611023, 1.0142215490341187, 1.0094162225723267, 1.012783169746399, 1.012382984161377, 1.0158854722976685, 1.014877438545227, 1.0157259702682495, 1.0077462196350098, 1.0085375308990479, 1.0144381523132324, 1.0161652565002441, 1.0155574083328247, 1.014022946357727, 1.0163969993591309, 1.0141100883483887, 1.0124220848083496, 1.013574481010437, 1.0094642639160156, 1.0074903964996338, 1.012223482131958, 1.0167008638381958, 1.0079538822174072, 1.0158613920211792, 1.0112004280090332, 1.0078094005584717, 1.0068104267120361, 1.0153889656066895, 1.010072112083435, 1.0107672214508057, 1.0165956020355225, 1.011335849761963, 1.0144139528274536, 1.0088895559310913, 1.0153017044067383, 1.0157650709152222, 1.0088896751403809, 1.0155333280563354, 1.0153498649597168, 1.0114561319351196, 1.0152926445007324, 1.0140860080718994, 1.0160449743270874, 1.0108002424240112, 1.0109206438064575, 1.0158132314682007, 1.0158283710479736, 1.0127983093261719, 1.0144140720367432, 1.0158854722976685, 1.0160930156707764, 1.0099518299102783, 1.0122385025024414, 1.0162525177001953, 1.0161170959472656, 1.010312795639038, 1.013014793395996, 1.0161652565002441, 1.0166287422180176, 1.0098164081573486, 1.013974666595459, 1.0163729190826416, 1.0127501487731934, 1.0080500841140747, 1.0163729190826416, 1.0137732028961182, 1.0093529224395752, 1.0095124244689941, 1.0055075883865356, 1.0109506845474243, 1.0065065622329712, 1.0138784646987915, 1.0096808671951294, 1.0085856914520264, 1.0095124244689941, 1.012485384941101, 1.0159095525741577, 1.0147480964660645, 1.018491268157959, 1.0096569061279297, 1.0118714570999146, 1.0157891511917114, 1.0094492435455322, 1.0087932348251343, 1.0083540678024292, 1.015629768371582, 1.0150699615478516, 1.006882667541504, 1.0146037340164185, 1.012783169746399, 1.0116639137268066, 1.015277624130249, 1.0111432075500488, 1.0117119550704956, 1.011823296546936, 1.0163969993591309, 1.0094010829925537, 1.0162043571472168, 1.0156055688858032, 1.0142064094543457, 1.0096569061279297, 1.013526439666748, 1.0144201517105103, 1.0151572227478027, 1.0154281854629517, 1.0133428573608398, 1.0097049474716187, 1.0163488388061523, 1.0142064094543457, 1.0107520818710327, 1.0155092477798462, 1.0102075338363647, 1.0134844779968262, 1.0131020545959473, 1.0056519508361816, 1.015437126159668, 1.0098555088043213, 1.0116397142410278, 1.0117751359939575, 1.015629768371582, 1.0145493745803833, 1.0161411762237549, 1.0161170959472656, 1.012638807296753, 1.016905426979065, 3.6169772148132324, 3.6333940029144287, 3.6327857971191406, 3.6495068073272705, 3.649203062057495, 3.648850917816162, 3.6480355262756348, 3.649203062057495, 3.6483631134033203, 3.64892315864563, 3.6488747596740723, 3.6491308212280273, 3.6490588188171387, 3.648658275604248, 3.6477224826812744, 3.6489291191101074, 3.648625135421753, 3.648080587387085, 3.6482551097869873, 3.6483511924743652, 3.647310495376587, 3.647686719894409, 3.6463565826416016, 3.6472201347351074, 3.6466996669769287, 3.6468348503112793, 3.6467480659484863, 3.646284341812134, 3.6456916332244873, 3.6466667652130127, 3.646411180496216, 3.646146297454834, 3.646690845489502, 3.645475149154663, 3.6458182334899902, 3.6456103324890137, 3.6459293365478516, 3.6463053226470947, 3.645625591278076, 3.6459293365478516, 3.6460015773773193, 3.6459054946899414, 3.6462814807891846, 3.6453607082366943, 3.64514422416687, 3.6461219787597656, 3.645312547683716, 3.6452012062072754, 3.6453700065612793, 3.6449458599090576, 3.6458816528320312, 3.645664691925049, 3.6454482078552246, 3.64550518989563, 3.645273447036743, 3.6460015773773193, 3.6457128524780273, 3.6457128524780273, 3.6456496715545654, 3.645153284072876, 3.6453607082366943, 3.645056962966919, 3.6451292037963867, 3.6458332538604736, 3.6451683044433594, 3.6450085639953613, 3.645153284072876, 3.6454243659973145, 3.645857095718384, 3.6454720497131348, 3.6456408500671387, 3.6450417041778564, 3.6455447673797607, 3.645625591278076, 3.6455838680267334, 3.6460015773773193, 3.6457366943359375, 3.6450960636138916, 3.645785093307495, 3.6446566581726074, 3.645240306854248, 3.6452648639678955, 3.64577579498291, 3.6449127197265625, 3.645689010620117, 3.645153284072876, 3.6444883346557617, 3.6454811096191406, 3.6457128524780273, 3.646137237548828, 3.644888401031494, 3.644801139831543, 3.645345687866211, 3.644888401031494, 3.6449756622314453, 3.645601749420166, 3.6452887058258057, 3.645625591278076, 3.6453607082366943, 3.6458816528320312, 3.6452648639678955, 3.6451683044433594, 3.646393060684204, 3.645409107208252, 3.6453607082366943, 3.6456408500671387, 3.645592451095581, 3.6457221508026123, 3.6452887058258057, 3.6457128524780273, 3.64550518989563, 3.6456408500671387, 3.645881414413452, 3.645857095718384, 3.6458816528320312, 3.645216464996338, 3.645216464996338, 3.6461853981018066], 'val_loss': []}}\n",
            "{'weights_path': '/content/my_drive/My Drive/EXJOBB/training_sessions/Session_1/session_1_weights.h5', 'config_path': '/content/my_drive/My Drive/EXJOBB/training_sessions/Session_1/config_1.json', 'samples_used': 1, 'keep_training': False, 'history': {'training_samples_used': 0, 'loss': [], 'val_loss': []}}\n"
          ],
          "name": "stdout"
        }
      ]
    },
    {
      "cell_type": "code",
      "metadata": {
        "id": "oFp9Vq4udUGo",
        "colab_type": "code",
        "outputId": "a48c9762-4060-4b82-adf0-3536e1a59855",
        "colab": {
          "base_uri": "https://localhost:8080/",
          "height": 173
        }
      },
      "source": [
        "# The path to where to save weights and initialize ModelCheckpoint\n",
        "weights_path = config['weights_path']\n",
        "from keras.callbacks import ModelCheckpoint\n",
        "MyModelCheckPoint = ModelCheckpoint(weights_path, verbose=0, save_weights_only=True)\n",
        "\n",
        "print(config['keep_training'])\n",
        "\n",
        "if config['keep_training'] == True:\n",
        "    # Keep training on the old weights\n",
        "    my_unet = unet(input_size = (240, 240, 4), num_classes = 4)\n",
        "    my_unet.load_weights(weights_path)\n",
        "else:\n",
        "    # Initialize network\n",
        "#    my_unet = unet(input_size = (240, 240, 4), num_classes = 4)\n",
        "#    config['keep_training'] = True\n",
        "    my_unet = unet(input_size = (240, 240, 4), num_classes = 4)\n",
        "    config['keep_training'] = True\n",
        "    \n",
        "samples_used = 155\n",
        "# i = 70 has all labels present in the image\n",
        "n = uncorrected_data.shape[0]\n",
        "#i = np.random.randint(n, size=[samples_used,])\n",
        "i = [70]\n",
        "x = uncorrected_data[i, :, :, :]\n",
        "y = uncorrected_OHE_labels[i, :, :, :]\n",
        "y = y.reshape(len(i), -1, 4)\n",
        "\n",
        "print_memory_use()\n",
        "\n",
        "#del uncorrected_data\n",
        "#del uncorrected_OHE_labels\n",
        "\n",
        "print_memory_use()\n",
        "\n",
        "assert not np.any(np.isnan(x)), 'Input contain nans'\n",
        "\n",
        "# Returns an object with accuracy and loss\n",
        "history = my_unet.fit(x=x, \n",
        "                      y=y, \n",
        "                      batch_size=None,\n",
        "                      epochs=500, \n",
        "                      verbose=1, \n",
        "                      callbacks=[CallbackJSON(config=config), MyModelCheckPoint],\n",
        "                      validation_split=0.0, \n",
        "                      #validation_data=(validation_data, validation_OHE_labels), \n",
        "                      shuffle=True, \n",
        "                      class_weight=None, \n",
        "                      sample_weight=None, \n",
        "                      initial_epoch=0, \n",
        "                      steps_per_epoch=None, \n",
        "                      validation_steps=None, \n",
        "                      validation_freq=1)\n"
      ],
      "execution_count": 0,
      "outputs": [
        {
          "output_type": "stream",
          "text": [
            "WARNING:tensorflow:From /usr/local/lib/python3.6/dist-packages/keras/backend/tensorflow_backend.py:66: The name tf.get_default_graph is deprecated. Please use tf.compat.v1.get_default_graph instead.\n",
            "\n",
            "WARNING:tensorflow:From /usr/local/lib/python3.6/dist-packages/keras/backend/tensorflow_backend.py:541: The name tf.placeholder is deprecated. Please use tf.compat.v1.placeholder instead.\n",
            "\n",
            "WARNING:tensorflow:From /usr/local/lib/python3.6/dist-packages/keras/backend/tensorflow_backend.py:4479: The name tf.truncated_normal is deprecated. Please use tf.random.truncated_normal instead.\n",
            "\n",
            "WARNING:tensorflow:From /usr/local/lib/python3.6/dist-packages/keras/backend/tensorflow_backend.py:4267: The name tf.nn.max_pool is deprecated. Please use tf.nn.max_pool2d instead.\n",
            "\n",
            "WARNING:tensorflow:From /usr/local/lib/python3.6/dist-packages/keras/backend/tensorflow_backend.py:148: The name tf.placeholder_with_default is deprecated. Please use tf.compat.v1.placeholder_with_default instead.\n",
            "\n",
            "WARNING:tensorflow:From /usr/local/lib/python3.6/dist-packages/keras/backend/tensorflow_backend.py:3733: calling dropout (from tensorflow.python.ops.nn_ops) with keep_prob is deprecated and will be removed in a future version.\n",
            "Instructions for updating:\n",
            "Please use `rate` instead of `keep_prob`. Rate should be set to `rate = 1 - keep_prob`.\n",
            "WARNING:tensorflow:From /usr/local/lib/python3.6/dist-packages/keras/backend/tensorflow_backend.py:2239: The name tf.image.resize_nearest_neighbor is deprecated. Please use tf.compat.v1.image.resize_nearest_neighbor instead.\n",
            "\n",
            "WARNING:tensorflow:From /usr/local/lib/python3.6/dist-packages/keras/optimizers.py:793: The name tf.train.Optimizer is deprecated. Please use tf.compat.v1.train.Optimizer instead.\n",
            "\n",
            "WARNING:tensorflow:From /usr/local/lib/python3.6/dist-packages/keras/backend/tensorflow_backend.py:3576: The name tf.log is deprecated. Please use tf.math.log instead.\n",
            "\n"
          ],
          "name": "stdout"
        },
        {
          "output_type": "stream",
          "text": [
            "/usr/local/lib/python3.6/dist-packages/ipykernel_launcher.py:61: UserWarning: Update your `Model` call to the Keras 2 API: `Model(inputs=Tensor(\"in..., outputs=Tensor(\"so...)`\n"
          ],
          "name": "stderr"
        },
        {
          "output_type": "stream",
          "text": [
            "WARNING:tensorflow:From /usr/local/lib/python3.6/dist-packages/tensorflow/python/ops/math_grad.py:1250: add_dispatch_support.<locals>.wrapper (from tensorflow.python.ops.array_ops) is deprecated and will be removed in a future version.\n",
            "Instructions for updating:\n",
            "Use tf.where in 2.0, which has the same broadcast rule as np.where\n",
            "Epoch 1/4\n"
          ],
          "name": "stdout"
        }
        {
          "output_type": "stream",
          "text": [
            "False\n",
            "5.6648704\n",
            "5.6648704\n",
            "WARNING:tensorflow:From /usr/local/lib/python3.6/dist-packages/tensorflow/python/ops/math_grad.py:1250: add_dispatch_support.<locals>.wrapper (from tensorflow.python.ops.array_ops) is deprecated and will be removed in a future version.\n",
            "Instructions for updating:\n",
            "Use tf.where in 2.0, which has the same broadcast rule as np.where\n"
          ],
          "name": "stdout"
        },
        {
          "output_type": "stream",
          "text": [
            "/usr/local/lib/python3.6/dist-packages/ipykernel_launcher.py:61: UserWarning: Update your `Model` call to the Keras 2 API: `Model(inputs=Tensor(\"in..., outputs=Tensor(\"so...)`\n"
          ],
          "name": "stderr"
        }
        },
      "source": [
        "#loss = config['history']['loss']\n",
        "print(history.history)\n",
        "\n",
        "plt.plot(history.history['loss'])"
      ],
      "execution_count": 0,
        {
          "output_type": "stream",
          "text": [
            "Epoch 1/500\n"
          ],
          "name": "stdout"
        }
            "\u001b[0;32m<ipython-input-1-ccc3fad5bbef>\u001b[0m in \u001b[0;36m<module>\u001b[0;34m()\u001b[0m\n\u001b[0;32m----> 1\u001b[0;31m \u001b[0mprint\u001b[0m\u001b[0;34m(\u001b[0m\u001b[0mhistory\u001b[0m\u001b[0;34m.\u001b[0m\u001b[0mhistory\u001b[0m\u001b[0;34m)\u001b[0m\u001b[0;34m\u001b[0m\u001b[0;34m\u001b[0m\u001b[0m\n\u001b[0m\u001b[1;32m      2\u001b[0m \u001b[0;34m\u001b[0m\u001b[0m\n\u001b[1;32m      3\u001b[0m \u001b[0mplt\u001b[0m\u001b[0;34m.\u001b[0m\u001b[0mplot\u001b[0m\u001b[0;34m(\u001b[0m\u001b[0mhistory\u001b[0m\u001b[0;34m.\u001b[0m\u001b[0mhistory\u001b[0m\u001b[0;34m[\u001b[0m\u001b[0;34m'loss'\u001b[0m\u001b[0;34m]\u001b[0m\u001b[0;34m)\u001b[0m\u001b[0;34m\u001b[0m\u001b[0;34m\u001b[0m\u001b[0m\n",
            "\u001b[0;31mNameError\u001b[0m: name 'history' is not defined"
          ]
        }
      ]
    },
    {
      "cell_type": "code",
      "metadata": {
        "id": "PdNTStvqbIFh",
        "colab_type": "code",
        "colab": {}
      },
      "source": [
        "import json\n",
        "import matplotlib.pyplot as plt\n",
        "'''\n",
        "config_path = \"/content/my_drive/My Drive/EXJOBB/training_sessions/Session_1/config_1.json\"\n",
        "with open(config_path, 'r') as config_file:\n",
        "    config = json.load(config_file)\n",
        "'''\n",
        "loss = config['history']['loss']\n",
        "\n",
        "plt.plot(loss)\n",
        "print(config)"
      ],
      "execution_count": 0,
      "outputs": []
    },
    {
      "cell_type": "code",
      "metadata": {
        "id": "AiDtqJXyc1r1",
        "colab_type": "code",
        "colab": {}
      },
      "execution_count": 0,
      "outputs": []
    },
    {
      "cell_type": "code",
      "metadata": {
        "id": "hri5mWChuswd",
        "colab_type": "code",
        "colab": {}
      },
      "source": [
        "my_unet = unet(input_size = (240, 240, 4), num_classes = 4)\n",
        "my_unet.load_weights(config['weights_path'])"
      ],
      "execution_count": 0,
      "outputs": []
    },
    {
      "cell_type": "code",
      "metadata": {
        "id": "HKUem8sIvCT7",
        "colab_type": "code",
        "colab": {}
      },
      "source": [
        "x_val = uncorrected_data[70,:,:,:]\n",
        "#plot_modalities(x_val)\n",
        "yhat = my_unet.predict(x_val.reshape(1,240,240,4))\n",
        "plot_OHE(yhat.reshape(240,240,4))\n",
        "#plot_OHE(uncorrected_OHE_labels[70,:,:,:])"
      ],
      "execution_count": 0,
      "outputs": []
    },
    {
      "cell_type": "code",
      "metadata": {
        "id": "GQ9rZQyFwMcz",
        "colab_type": "code",
        "colab": {}
      },
      "source": [
        ""
      ],
      "execution_count": 0,
      "outputs": []
    }
  ]
}