{
  "nbformat": 4,
  "nbformat_minor": 0,
  "metadata": {
    "kernelspec": {
      "name": "python3",
      "display_name": "Python 3"
    },
    "language_info": {
      "codemirror_mode": {
        "name": "ipython",
        "version": 3
      },
      "file_extension": ".py",
      "mimetype": "text/x-python",
      "name": "python",
      "nbconvert_exporter": "python",
      "pygments_lexer": "ipython3",
      "version": "3.6.9"
    },
    "colab": {
      "name": "segmentation_brats_colab.ipynb",
      "provenance": [],
      "collapsed_sections": []
    },
    "accelerator": "TPU"
  },
  "cells": [
    {
      "cell_type": "code",
      "metadata": {
        "id": "uDKIINKU_HFe",
        "colab_type": "code",
        "outputId": "44f720c9-9204-4b3e-b661-bd52f8317b82",
        "colab": {
          "base_uri": "https://localhost:8080/",
          "height": 88
        }
      },
      "source": [
        "# Install package to be able to save keras weights\n",
        "pip install h5py"
      ],
      "execution_count": 1,
      "outputs": [
        {
          "output_type": "stream",
          "text": [
            "Requirement already satisfied: h5py in /usr/local/lib/python3.6/dist-packages (2.8.0)\n",
            "Requirement already satisfied: six in /usr/local/lib/python3.6/dist-packages (from h5py) (1.12.0)\n",
            "Requirement already satisfied: numpy>=1.7 in /usr/local/lib/python3.6/dist-packages (from h5py) (1.16.5)\n"
          ],
          "name": "stdout"
        }
      ]
    },
    {
      "cell_type": "code",
      "metadata": {
        "id": "L06f9hdTEJVq",
        "colab_type": "code",
        "outputId": "4f8e88c4-e547-4d89-c6dd-5c4bb5009df1",
        "colab": {
          "base_uri": "https://localhost:8080/",
          "height": 105
        }
      },
      "source": [
        "pip install nibabel"
      ],
      "execution_count": 2,
      "outputs": [
        {
          "output_type": "stream",
          "text": [
            "Requirement already satisfied: nibabel in /usr/local/lib/python3.6/dist-packages (2.3.3)\n",
            "Requirement already satisfied: bz2file in /usr/local/lib/python3.6/dist-packages (from nibabel) (0.98)\n",
            "Requirement already satisfied: numpy>=1.7.1 in /usr/local/lib/python3.6/dist-packages (from nibabel) (1.16.5)\n",
            "Requirement already satisfied: six>=1.3 in /usr/local/lib/python3.6/dist-packages (from nibabel) (1.12.0)\n"
          ],
          "name": "stdout"
        }
      ]
    },
    {
      "cell_type": "code",
      "metadata": {
        "id": "5et-JeLXj3BG",
        "colab_type": "code",
        "outputId": "86e5e592-6003-4a02-a78c-c9b2ba00712e",
        "colab": {
          "base_uri": "https://localhost:8080/",
          "height": 122
        }
      },
      "source": [
        "# Mount google drive\n",
        "from google.colab import drive\n",
        "import os\n",
        "drive.mount('my_drive', force_remount=True)"
      ],
      "execution_count": 3,
      "outputs": [
        {
          "output_type": "stream",
          "text": [
            "Go to this URL in a browser: https://accounts.google.com/o/oauth2/auth?client_id=947318989803-6bn6qk8qdgf4n4g3pfee6491hc0brc4i.apps.googleusercontent.com&redirect_uri=urn%3Aietf%3Awg%3Aoauth%3A2.0%3Aoob&scope=email%20https%3A%2F%2Fwww.googleapis.com%2Fauth%2Fdocs.test%20https%3A%2F%2Fwww.googleapis.com%2Fauth%2Fdrive%20https%3A%2F%2Fwww.googleapis.com%2Fauth%2Fdrive.photos.readonly%20https%3A%2F%2Fwww.googleapis.com%2Fauth%2Fpeopleapi.readonly&response_type=code\n",
            "\n",
            "Enter your authorization code:\n",
            "··········\n",
            "Mounted at my_drive\n"
          ],
          "name": "stdout"
        }
      ]
    },
    {
      "cell_type": "code",
      "metadata": {
        "id": "pyBuiXMrbjPF",
        "colab_type": "code",
        "outputId": "30e4a254-d725-48b0-90b0-ff69b5288d67",
        "colab": {
          "base_uri": "https://localhost:8080/",
          "height": 34
        }
      },
      "source": [
        "from keras.callbacks import Callback\n",
        "\n",
        "# What value maps to what class\n",
        "mapping = {\n",
        "    0: \"Null class\",\n",
        "    1: \"Necrotic and non-enhancing tumor core\",\n",
        "    2: \"Edema\",\n",
        "    4: \"GD-enhancing tumor\"\n",
        "}\n",
        "\n",
        "# fixme: skulle gå att göra bättre igenom att skicka med en tex tuple med titlarna\n",
        "# och returnera ett matplotlib-objekt istället för då hade man inte behövt ha olika\n",
        "# funktioner för \"plot_modalities\" och \"plt_OHE\" och också kunna ha två stycken figurer med \n",
        "# 2*2 subplots i en cell.\n",
        "def plot_modalities(x):\n",
        "    # Make sure input data is of correct shape\n",
        "    assert x.shape == (240, 240, 4), 'Shape of input data is incorrect'\n",
        "    \n",
        "    plt.subplot('221')\n",
        "    plt.imshow(x[:,:,0])\n",
        "    plt.axis('off')\n",
        "    plt.title('T1')\n",
        "    plt.colorbar()\n",
        "\n",
        "    plt.subplot('222')\n",
        "    plt.imshow(x[:,:,1])\n",
        "    plt.axis('off')\n",
        "    plt.title('T1ce')\n",
        "    plt.colorbar()\n",
        "\n",
        "    plt.subplot('223')\n",
        "    plt.imshow(x[:,:,2])\n",
        "    plt.axis('off')\n",
        "    plt.title('T2')\n",
        "    plt.colorbar()\n",
        "\n",
        "    plt.subplot('224')\n",
        "    plt.imshow(x[:,:,3])\n",
        "    plt.axis('off')\n",
        "    plt.title('FLAIR')\n",
        "    plt.colorbar()\n",
        "\n",
        "def plot_OHE(y):\n",
        "    # Make sure input data is of correct shape\n",
        "    assert y.shape == (240, 240, 4), 'Shape of input data is incorrect'\n",
        "    \n",
        "    plt.subplot('221')\n",
        "    plt.imshow(y[:,:,0])\n",
        "    plt.axis('off')\n",
        "    plt.title('Null')\n",
        "    plt.colorbar()\n",
        "\n",
        "    plt.subplot('222')\n",
        "    plt.imshow(y[:,:,1])\n",
        "    plt.axis('off')\n",
        "    plt.title('\"Necrotic and non-enhancing tumor core\"')\n",
        "    plt.colorbar()\n",
        "\n",
        "    plt.subplot('223')\n",
        "    plt.imshow(y[:,:,2])\n",
        "    plt.axis('off')\n",
        "    plt.title('Edema')\n",
        "    plt.colorbar()\n",
        "\n",
        "    plt.subplot('224')\n",
        "    plt.imshow(y[:,:,3])\n",
        "    plt.axis('off')\n",
        "    plt.title('GD-enhancing tumor')\n",
        "    plt.colorbar()\n",
        "\n",
        "def shift_and_scale(x):\n",
        "    assert len(x.shape) == 2, 'The input must be 2 dimensional'\n",
        "    result = x - np.mean(x)\n",
        "    result /= np.std(x)\n",
        "    return result\n",
        "\n",
        "def OHE(Y, mapping):\n",
        "    '''\n",
        "    Takes in a picture as a matrix with labels and returns a one hot encoded tensor\n",
        "    \n",
        "    Parameters:\n",
        "    Y is the picture\n",
        "    Mapping is what value corresponds to what label\n",
        "    \n",
        "    Returns:\n",
        "    A tensor with a channel for each label.\n",
        "    '''\n",
        "    shape = Y.shape\n",
        "    labels = mapping.keys()\n",
        "    one_hot_enc = np.zeros(list(shape) + [len(labels)])\n",
        "    \n",
        "    for i, label in enumerate(labels):\n",
        "        temp = np.zeros(shape)\n",
        "        ind = Y == label\n",
        "        temp[ind] = 1\n",
        "        one_hot_enc[:, :, i] = temp\n",
        "    return one_hot_enc\n",
        "\n",
        "#fixme: I don't know if providing this mapping is necessary\n",
        "# probably could be provided inside function instead.\n",
        "def OHE_uncoding(y, mapping):\n",
        "    result = np.argmax(y, axis=2)\n",
        "    labels = mapping.keys()\n",
        "    temp = np.zeros(result.shape)\n",
        "    for i, label in enumerate(labels):\n",
        "        ind = result == i\n",
        "        temp[ind] = label\n",
        "    return temp\n",
        "\n",
        "def intersection_over_union(y_true, y_pred):\n",
        "    print(y_true.shape)\n",
        "    print(y_pred.shape)\n",
        "    \n",
        "    values = np.array([0., 1.])\n",
        "    unique_y_pred = np.unique(y_pred)\n",
        "    unique_y_true = np.unique(y_true)\n",
        "    assert np.array_equal(y_pred.shape, y_true.shape), 'Prediction and ground truth must have same shape'\n",
        "    assert np.array_equal(values, unique_y_pred), 'yhat and y must be one hot encodings'\n",
        "    assert np.array_equal(values, unique_y_true), 'yhat and y must be one hot encodings'\n",
        "    \n",
        "    # The slicing in the last index is because the null class bloats\n",
        "    # the intersection over union because there are so many pixels which\n",
        "    # have the value zero\n",
        "    y_pred[:,:,0] = y_pred[:,:,0] == False\n",
        "    y_true[:,:,0] = y_true[:,:,0] == False\n",
        "    #intersection = (yhat[:,:,1:3] + y[:,:,1:3]) == 2\n",
        "    #union = (yhat[:,:,1:3] + y[:,:,1:3]) > 0\n",
        "    \n",
        "    # Intersection is where there is 2 True values\n",
        "    intersection = (y_pred + y_true) == 2\n",
        "    # Union is where it is not zero\n",
        "    union = (y_pred + y_true) > 0\n",
        "    \n",
        "    size_int = np.count_nonzero(intersection)\n",
        "    size_uni = np.count_nonzero(union)\n",
        "    \n",
        "    return size_int/size_uni\n",
        "\n",
        "\n",
        "# Load config file to session here\n",
        "import json\n",
        "config_path = \"/content/my_drive/My Drive/EXJOBB/training_sessions/Session_0/config_0.json\"\n",
        "with open(config_path, 'r') as config_file:\n",
        "    config = json.load(config_file)\n",
        "\n",
        "class CallbackJSON(Callback):\n",
        "    \"\"\" CallbackJSON descends from Callback\n",
        "        and is used to write the number of training samples that the model has been trained on\n",
        "        and the loss for a epoch\n",
        "    \"\"\"\n",
        "    def __init__(self, config):\n",
        "        \"\"\"Save params in constructor\n",
        "        config: Is a dictionary loaded from a JSON file which is used to keep track of training\n",
        "        \"\"\"\n",
        "        self.config = config\n",
        "        self.config_path = config['config_path']\n",
        "\n",
        "    def on_epoch_end(self, epoch, logs):\n",
        "        \"\"\"\n",
        "        Updates the history of the config dict and saves it to a file\n",
        "        \"\"\"\n",
        "        # How many effective training samples have been used\n",
        "        self.config['history']['training_samples_used'] += self.config['samples_used']\n",
        "        \n",
        "        # Logs the loss of the current epoch\n",
        "        self.config['history']['loss'].append(logs['loss'])\n",
        "        #fixme: add the same code but for \"val_loss\"\n",
        "        # Save new config file\n",
        "        with open(self.config_path, \"w\") as f:\n",
        "            f.write(json.dumps(self.config))\n",
        "\n",
        "print('Finished')"
      ],
      "execution_count": 10,
      "outputs": [
        {
          "output_type": "stream",
          "text": [
            "Finished\n"
          ],
          "name": "stdout"
        }
      ]
    },
    {
      "cell_type": "code",
      "metadata": {
        "id": "oFoad5sFb_GU",
        "colab_type": "code",
        "colab": {
          "base_uri": "https://localhost:8080/",
          "height": 54
        },
        "outputId": "6f6a1fbb-3977-474b-b227-2a741e207dbb"
      },
      "source": [
        "print(config)"
      ],
      "execution_count": 5,
      "outputs": [
        {
          "output_type": "stream",
          "text": [
            "{'weights_path': '/content/my_drive/My Drive/EXJOBB/training_sessions/Session_0/session_0_weights.h5', 'config_path': '/content/my_drive/My Drive/EXJOBB/training_sessions/Session_0/config_0.json', 'samples_used': 1, 'keep_training': False, 'history': {'training_samples_used': 0, 'loss': [], 'val_loss': []}}\n"
          ],
          "name": "stdout"
        }
      ]
    },
    {
      "cell_type": "code",
      "metadata": {
        "id": "uQxVcTuGEDHc",
        "colab_type": "code",
        "outputId": "1375319b-4e49-405d-9767-f9903ee832c2",
        "colab": {
          "base_uri": "https://localhost:8080/",
          "height": 71
        }
      },
      "source": [
        "import nibabel as nib\n",
        "import matplotlib.pyplot as plt\n",
        "import numpy as np\n",
        "import glob\n",
        "from os import listdir\n",
        "\n",
        "path_t1 = \"/content/my_drive/My Drive/EXJOBB/MICCAI_BraTS_2019_Data_Training (1)/HGG/BraTS19_2013_18_1/BraTS19_2013_18_1_t1.nii.gz\"\n",
        "path_t1ce = \"/content/my_drive/My Drive/EXJOBB/MICCAI_BraTS_2019_Data_Training (1)/HGG/BraTS19_2013_18_1/BraTS19_2013_18_1_t1ce.nii.gz\"\n",
        "path_t2 = \"/content/my_drive/My Drive/EXJOBB/MICCAI_BraTS_2019_Data_Training (1)/HGG/BraTS19_2013_18_1/BraTS19_2013_18_1_t2.nii.gz\"\n",
        "path_flair = \"/content/my_drive/My Drive/EXJOBB/MICCAI_BraTS_2019_Data_Training (1)/HGG/BraTS19_2013_18_1/BraTS19_2013_18_1_flair.nii.gz\"\n",
        "path_gt = \"/content/my_drive/My Drive/EXJOBB/MICCAI_BraTS_2019_Data_Training (1)/HGG/BraTS19_2013_18_1/BraTS19_2013_18_1_seg.nii.gz\"\n",
        "img = (path_t1)\n",
        "\n",
        "img_t1 = nib.load(path_t1)\n",
        "img_t1ce = nib.load(path_t1ce)\n",
        "img_t2 = nib.load(path_t2)\n",
        "img_flair = nib.load(path_flair)\n",
        "img_gt = nib.load(path_gt)\n",
        "\n",
        "img_t1 = img_t1.get_fdata()\n",
        "img_t1ce = img_t1ce.get_fdata()\n",
        "img_t2 = img_t2.get_fdata()\n",
        "img_flair = img_flair.get_fdata()\n",
        "img_gt = img_gt.get_fdata()\n",
        "\n",
        "# I have here chosen to do shift and scale per image, which is not the only way to do it.\n",
        "for i in range(img_t1.shape[2]):\n",
        "    # shift and scale data\n",
        "    img_t1[:, :, i] = shift_and_scale(img_t1[:, :, i])\n",
        "    img_t1ce[:, :, i] = shift_and_scale(img_t1ce[:, :, i])\n",
        "    img_t2[:, :, i] = shift_and_scale(img_t2[:, :, i])\n",
        "    img_flair[:, :, i] = shift_and_scale(img_flair[:, :, i])\n",
        "    \n",
        "uncorrected_data = np.zeros((155, 240, 240, 4))\n",
        "\n",
        "# The last axis will become the first axis\n",
        "uncorrected_data[:, :, :, 0] = np.moveaxis(img_t1, -1, 0)\n",
        "uncorrected_data[:, :, :, 1] = np.moveaxis(img_t1ce, -1, 0)\n",
        "uncorrected_data[:, :, :, 2] = np.moveaxis(img_t2, -1, 0)\n",
        "uncorrected_data[:, :, :, 3] = np.moveaxis(img_flair, -1, 0)\n",
        "\n",
        "num_slices = 155\n",
        "uncorrected_OHE_labels = np.zeros((num_slices, 240, 240, 4))\n",
        "\n",
        "for j in range(num_slices):\n",
        "    uncorrected_OHE_labels[j, :, :, :] = OHE(img_gt[:, :, j], mapping)\n",
        "print('Finished')"
      ],
      "execution_count": 6,
      "outputs": [
        {
          "output_type": "stream",
          "text": [
            "/usr/local/lib/python3.6/dist-packages/ipykernel_launcher.py:74: RuntimeWarning: invalid value encountered in true_divide\n"
          ],
          "name": "stderr"
        },
        {
          "output_type": "stream",
          "text": [
            "Finished\n"
          ],
          "name": "stdout"
        }
      ]
    },
    {
      "cell_type": "code",
      "metadata": {
        "id": "0S7IhnjEHMWA",
        "colab_type": "code",
        "colab": {}
      },
      "source": [
        "# Load numpy data and necessary packages\n",
        "import matplotlib.pyplot as plt\n",
        "import numpy as np\n",
        "import pandas as pd\n",
        "\n",
        "#path_data = \"/content/my_drive/My Drive/Exjobb2/numpy_data.npy\"\n",
        "##path_labels = \"/content/my_drive/My Drive/Exjobb2/numpy_labels.npy\"\n",
        "#data = np.load(path_data)\n",
        "#OHE_labels = np.load(path_labels)"
      ],
      "execution_count": 0,
      "outputs": []
    },
    {
      "cell_type": "code",
      "metadata": {
        "id": "f8uUm5OMbjPQ",
        "colab_type": "code",
        "outputId": "626d8fc3-e0b5-40cf-febf-9e75a0403704",
        "colab": {
          "base_uri": "https://localhost:8080/",
          "height": 281
        }
      },
      "source": [
        "# This will show a slice of a patient\n",
        "ind = 70\n",
        "\n",
        "plot_modalities(uncorrected_data[ind, :, :, :])"
      ],
      "execution_count": 7,
      "outputs": [
        {
          "output_type": "display_data",
          "data": {
            "image/png": "[encoded data removed]",
            "text/plain": [
              "<Figure size 432x288 with 8 Axes>"
            ]
          },
          "metadata": {
            "tags": []
          }
        }
      ]
    },
    {
      "cell_type": "code",
      "metadata": {
        "id": "5zkievcDbjPc",
        "colab_type": "code",
        "colab": {}
      },
      "source": [
        "import numpy as np\n",
        "import os\n",
        "import skimage.io as io\n",
        "import skimage.transform as trans\n",
        "import numpy as np\n",
        "from keras.models import *\n",
        "from keras.layers import *\n",
        "from keras.activations import *\n",
        "from keras.optimizers import *\n",
        "from keras.callbacks import ModelCheckpoint, LearningRateScheduler\n",
        "from keras import backend as keras\n",
        "\n",
        "def unet(pretrained_weights = None, input_size = (256, 256, 1), num_classes=1):\n",
        "  inputs = Input(input_size)\n",
        "  conv1 = Conv2D(64, 3, activation = 'relu', padding = 'same', kernel_initializer = 'he_normal')(inputs)\n",
        "  conv1 = Conv2D(64, 3, activation = 'relu', padding = 'same', kernel_initializer = 'he_normal')(conv1)\n",
        "  pool1 = MaxPooling2D(pool_size = (2, 2))(conv1)\n",
        "  \n",
        "  conv2 = Conv2D(128, 3, activation = 'relu', padding = 'same', kernel_initializer = 'he_normal')(pool1)\n",
        "  conv2 = Conv2D(128, 3, activation = 'relu', padding = 'same', kernel_initializer = 'he_normal')(conv2)\n",
        "  pool2 = MaxPooling2D(pool_size = (2, 2))(conv2)\n",
        "  \n",
        "  conv3 = Conv2D(256, 3, activation = 'relu', padding = 'same', kernel_initializer = 'he_normal')(pool2)\n",
        "  conv3 = Conv2D(256, 3, activation = 'relu', padding = 'same', kernel_initializer = 'he_normal')(conv3)\n",
        "  pool3 = MaxPooling2D(pool_size = (2, 2))(conv3)\n",
        "  \n",
        "  conv4 = Conv2D(512, 3, activation = 'relu', padding = 'same', kernel_initializer = 'he_normal')(pool3)\n",
        "  conv4 = Conv2D(512, 3, activation = 'relu', padding = 'same', kernel_initializer = 'he_normal')(conv4)\n",
        "  drop4 = Dropout(0.5)(conv4)\n",
        "  pool4 = MaxPooling2D(pool_size = (2, 2))(drop4)\n",
        "  \n",
        "  conv5 = Conv2D(1024, 3, activation = 'relu', padding = 'same', kernel_initializer = 'he_normal')(pool4)\n",
        "  conv5 = Conv2D(1024, 3, activation = 'relu', padding = 'same', kernel_initializer = 'he_normal')(conv5)\n",
        "  drop5 = Dropout(0.5)(conv5)\n",
        "  \n",
        "  up6 = Conv2D(512, 2, activation = 'relu', padding = 'same', kernel_initializer = 'he_normal')(UpSampling2D(size = (2, 2))(drop5))\n",
        "  merge6 = concatenate([drop4, up6], axis = 3)\n",
        "  conv6 = Conv2D(512, 3, activation = 'relu', padding = 'same', kernel_initializer = 'he_normal')(merge6)\n",
        "  conv6 = Conv2D(512, 3, activation = 'relu', padding = 'same', kernel_initializer = 'he_normal')(conv6)\n",
        "  \n",
        "  up7 = Conv2D(256, 2, activation = 'relu', padding = 'same', kernel_initializer = 'he_normal')(UpSampling2D(size = (2, 2))(conv6))\n",
        "  merge7 = concatenate([conv3, up7], axis = 3)\n",
        "  conv7 = Conv2D(256, 3, activation = 'relu', padding = 'same', kernel_initializer = 'he_normal')(merge7)\n",
        "  conv7 = Conv2D(256, 3, activation = 'relu', padding = 'same', kernel_initializer = 'he_normal')(conv7)\n",
        "  \n",
        "  up8 = Conv2D(128, 2, activation = 'relu', padding = 'same', kernel_initializer = 'he_normal')(UpSampling2D(size = (2, 2))(conv7))\n",
        "  merge8 = concatenate([conv2, up8], axis = 3)\n",
        "  conv8 = Conv2D(128, 3, activation = 'relu', padding = 'same', kernel_initializer = 'he_normal')(merge8)\n",
        "  conv8 = Conv2D(128, 3, activation = 'relu', padding = 'same', kernel_initializer = 'he_normal')(conv8)\n",
        "  \n",
        "  up9 = Conv2D(64, 2, activation = 'relu', padding = 'same', kernel_initializer = 'he_normal')(UpSampling2D(size = (2, 2))(conv8))\n",
        "  merge9 = concatenate([conv1, up9], axis = 3)\n",
        "  conv9 = Conv2D(64, 3, activation = 'relu', padding = 'same', kernel_initializer = 'he_normal')(merge9)\n",
        "  conv9 = Conv2D(64, 3, activation = 'relu', padding = 'same', kernel_initializer = 'he_normal')(conv9)\n",
        "  conv9 = Conv2D(num_classes, 3, activation = 'relu', padding = 'same', kernel_initializer = 'he_normal')(conv9)\n",
        "  \n",
        "  reshape = Reshape((num_classes, input_size[0] * input_size[1]), input_shape = (num_classes, input_size[0], input_size[1]))(conv9)\n",
        "  permute = Permute((2, 1))(reshape)\n",
        "  activation = Softmax(axis=-1)(permute)\n",
        "  \n",
        "  model = Model(input = inputs, output = activation)\n",
        "  model.compile(optimizer = Adam(lr=0.001), loss = 'categorical_crossentropy')\n",
        "  if (pretrained_weights):\n",
        "    model.load_weights(pretrained_weights)\n",
        "  return model"
      ],
      "execution_count": 0,
      "outputs": []
    },
    {
      "cell_type": "code",
      "metadata": {
        "id": "5NUkOQUMbjPg",
        "colab_type": "code",
        "colab": {}
      },
      "source": [
        "# Initialise unet with untrained weights\n",
        "my_unet = unet(input_size = (240, 240, 4), num_classes = 4)\n",
        "\n",
        "# Train model\n",
        "# n is how many samples to use at any time\n",
        "n = 16\n",
        "N = 16\n",
        "epochs = 1\n",
        "my_history = []\n",
        "for e in range(epochs):\n",
        "  print('\\nEpoch: ' + str(e))\n",
        "  for i in range(N//n):\n",
        "#    if i % 5 == 0:\n",
        "#        print('%', end='')\n",
        "    # Pick n random slices\n",
        "    #slices = np.random.randint(N, size=(n,))\n",
        "    slices = 500\n",
        "    train_data = data[1:slices, :, :, :]\n",
        "    train_labels = OHE_labels[1:slices, :, :, :]\n",
        "\n",
        "    # You have to reshape the output in this hacky way for keras to be able to use softmax in last layer\n",
        "    train_labels = train_labels.reshape(slices, -1, 4)\n",
        "\n",
        "    # Returns an object with accuracy and loss\n",
        "    history = my_unet.fit(x=train_data, y=train_labels, batch_size=8, epochs=1, verbose=2, callbacks=None, validation_split=0.0, validation_data=None, shuffle=True, class_weight=None, sample_weight=None, initial_epoch=0, steps_per_epoch=None, validation_steps=None, validation_freq=1)\n",
        "    my_history.append(history.history['loss'])\n",
        "my_unet.save_weights(\"/content/my_drive/My Drive/Exjobb2/my_unet.h5\")"
      ],
      "execution_count": 0,
      "outputs": []
    },
    {
      "cell_type": "code",
      "metadata": {
        "colab_type": "code",
        "id": "itIwkB7TEvUX",
        "colab": {}
      },
      "source": [
        "# Initialise unet with untrained weights\n",
        "my_unet = unet(input_size = (240, 240, 4), num_classes = 4)\n",
        "\n",
        "print('data.shape: ' + str(data.shape))\n",
        "print('OHE_labels.shape: ' + str(OHE_labels.shape))\n",
        "labels = OHE_labels.reshape(775, -1, 4)\n",
        "print('labels.shape: ' + str(labels.shape))\n",
        "\n",
        "# If we want to save the model with val_loss in name\n",
        "#filepath = 'weights.{epoch:02d}-{val_loss:.2f}.hdf5'\n",
        "\n",
        "#path_to_weights_many_weights = \"/content/my_drive/My Drive/Exjobb2/weights{epoch:08d}.h5\"\n",
        "path_to_weights = \"/content/my_drive/My Drive/Exjobb2/unet_weights.h5\"\n",
        "mc = ModelCheckpoint(path_to_weights, save_weights_only=True, period=1)\n",
        "\n",
        "# Returns an object with accuracy and loss\n",
        "history = my_unet.fit(x=data, y=labels, batch_size=None, epochs=5, verbose=1, callbacks=[mc], validation_split=0.0, validation_data=None, shuffle=True, class_weight=None, sample_weight=None, initial_epoch=0, steps_per_epoch=None, validation_steps=None, validation_freq=1)\n",
        "\n",
        "# Save weights of model\n",
        "#my_unet.save_weights(\"/content/my_drive/My Drive/Exjobb2/my_unet.h5\")\n",
        "# convert the history.history dict to a pandas DataFrame:     \n",
        "hist_df = pd.DataFrame(history.history) \n",
        "# or save to csv: \n",
        "hist_csv_file = '/content/my_drive/My Drive/Exjobb2/history.csv'\n",
        "with open(hist_csv_file, mode='w') as f:\n",
        "    hist_df.to_csv(f)"
      ],
      "execution_count": 0,
      "outputs": []
    },
    {
      "cell_type": "markdown",
      "metadata": {
        "id": "3705e3NYZ5ln",
        "colab_type": "text"
      },
      "source": [
        "# New main training cell"
      ]
    },
    {
      "cell_type": "code",
      "metadata": {
        "id": "oFp9Vq4udUGo",
        "colab_type": "code",
        "colab": {}
      },
      "source": [
        "# The path to where to save weights and initialize ModelCheckpoint\n",
        "weights_path = config['weights_path']\n",
        "from keras.callbacks import ModelCheckpoint\n",
        "MyModelCheckPoint = ModelCheckpoint(weights_path, verbose=0, save_weights_only=True)\n",
        "\n",
        "if config['keep_training'] == True:\n",
        "    # Keep training on the old weights\n",
        "    my_unet.load_weights(weights_path)\n",
        "else:\n",
        "    # Initialize network\n",
        "    my_unet = unet(input_size = (240, 240, 4), num_classes = 4)\n",
        "    config['keep_training'] = True\n",
        "    \n",
        "samples_used = 100\n",
        "# i = 70 has all labels present in the image\n",
        "n = uncorrected_data.shape[0]\n",
        "i = np.random.randint(n, size=[samples_used,])\n",
        "x = uncorrected_data[i, :, :, :]\n",
        "y = uncorrected_OHE_labels[i, :, :, :]\n",
        "\n",
        "x = x[0, :, :, :].reshape(1, 240, 240, 4)\n",
        "# You have to reshape the output in this hacky way for keras to be able to use softmax in last layer\n",
        "y = y[0, :, :, :].reshape(1, -1, 4)\n",
        "\n",
        "# Returns an object with accuracy and loss\n",
        "history = my_unet.fit(x=x, \n",
        "                      y=y, \n",
        "                      batch_size=None,\n",
        "                      epochs=500, \n",
        "                      verbose=0, \n",
        "                      callbacks=[CallbackJSON(config=config), MyModelCheckPoint],\n",
        "                      validation_split=0.0, \n",
        "                      validation_data=None, \n",
        "                      shuffle=True, \n",
        "                      class_weight=None, \n",
        "                      sample_weight=None, \n",
        "                      initial_epoch=0, \n",
        "                      steps_per_epoch=1, \n",
        "                      validation_steps=None, \n",
        "                      validation_freq=1)\n"
      ],
      "execution_count": 0,
      "outputs": []
    },
    {
      "cell_type": "code",
      "metadata": {
        "id": "PdNTStvqbIFh",
        "colab_type": "code",
        "colab": {
          "base_uri": "https://localhost:8080/",
          "height": 286
        },
        "outputId": "98704c67-cca5-40cb-f261-c898f89ab3fc"
      },
      "source": [
        "loss = config['history']['loss']\n",
        "\n",
        "plt.plot(loss)"
      ],
      "execution_count": 12,
      "outputs": [
        {
          "output_type": "execute_result",
          "data": {
            "text/plain": [
              "[<matplotlib.lines.Line2D at 0x7f3e614cd7f0>]"
            ]
          },
          "metadata": {
            "tags": []
          },
          "execution_count": 12
        },
        {
          "output_type": "display_data",
          "data": {
            "image/png": "[encoded data removed]",
            "text/plain": [
              "<Figure size 432x288 with 1 Axes>"
            ]
          },
          "metadata": {
            "tags": []
          }
        }
      ]
    },
    {
      "cell_type": "code",
      "metadata": {
        "id": "AiDtqJXyc1r1",
        "colab_type": "code",
        "colab": {}
      },
      "source": [
        ""
      ],
      "execution_count": 0,
      "outputs": []
    }
  ]
}