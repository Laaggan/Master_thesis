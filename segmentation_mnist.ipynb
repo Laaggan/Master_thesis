{
 "cells": [
  {
   "cell_type": "markdown",
   "metadata": {},
   "source": [
    "Created some code to make the mnist-data into a segmentation problem. This was done by setting an semi-arbitrary threshold for the pixel intensity that we want to classify as belonging to the handwritten digit or not."
   ]
  },
  {
   "cell_type": "code",
   "execution_count": 1,
   "metadata": {},
   "outputs": [
    {
     "name": "stderr",
     "output_type": "stream",
     "text": [
      "Using TensorFlow backend.\n"
     ]
    },
    {
     "name": "stdout",
     "output_type": "stream",
     "text": [
      "0\n",
      "10000\n",
      "20000\n",
      "30000\n",
      "40000\n",
      "50000\n",
      "0\n"
     ]
    }
   ],
   "source": [
    "import numpy as np\n",
    "from keras.datasets import mnist\n",
    "import matplotlib.pyplot as plt\n",
    "\n",
    "# Define number of classes\n",
    "num_classes = 10\n",
    "\n",
    "(x_train, y_train), (x_test, y_test) = mnist.load_data()\n",
    "x_train = np.array(x_train)\n",
    "x_test = np.array(x_test)\n",
    "\n",
    "# Threshold is what intensity value we use to label pixel as beloning to letter or not\n",
    "threshold = 80\n",
    "# The segmented data is now the ground truth instead of just the label\n",
    "seg_train_data = np.zeros(x_train.shape)\n",
    "seg_test_data = np.zeros(x_test.shape)\n",
    "n_train = x_train.shape[0]\n",
    "n_test = x_test.shape[0]\n",
    "\n",
    "for i in range(n_train):\n",
    "    if i % 10000 == 0:\n",
    "        print(i)\n",
    "    # Get indices of where number is larger than threshold\n",
    "    ind = np.where(x_train[i] > threshold)\n",
    "    # Make a empty matrix to fill with the label value at the index locations\n",
    "    temp = np.zeros(x_train[i].shape)\n",
    "    # since we do one hot encoding we don't need the line below\n",
    "    #label = y_train[i]\n",
    "    #temp[ind] = label \n",
    "    temp[ind] = 1\n",
    "    seg_train_data[i] = temp\n",
    "\n",
    "# Do the same for the test data\n",
    "for i in range(n_test):\n",
    "    if i % 10000 == 0:\n",
    "        print(i)\n",
    "    ind = np.where(x_test[i] > threshold)\n",
    "    temp = np.zeros(x_test[i].shape)\n",
    "    temp[ind] = 1\n",
    "    seg_test_data[i] = temp\n"
   ]
  },
  {
   "cell_type": "markdown",
   "metadata": {},
   "source": [
    "Show that segmentation worked"
   ]
  },
  {
   "cell_type": "code",
   "execution_count": 2,
   "metadata": {},
   "outputs": [
    {
     "data": {
      "image/png": "[encoded data removed]",
      "text/plain": [
       "<Figure size 432x288 with 2 Axes>"
      ]
     },
     "metadata": {
      "needs_background": "light"
     },
     "output_type": "display_data"
    }
   ],
   "source": [
    "i = 2\n",
    "plt.subplot(121)\n",
    "plt.imshow(x_train[i], cmap='gray')\n",
    "plt.title('Picture')\n",
    "plt.subplot(122)\n",
    "plt.imshow(seg_train_data[i], cmap='gray')\n",
    "plt.title('Segmentation')\n",
    "plt.show()"
   ]
  },
  {
   "cell_type": "code",
   "execution_count": 3,
   "metadata": {},
   "outputs": [
    {
     "name": "stdout",
     "output_type": "stream",
     "text": [
      "0\n",
      "10000\n",
      "20000\n",
      "30000\n",
      "40000\n",
      "50000\n",
      "0\n"
     ]
    }
   ],
   "source": [
    "# Make one hot encoding\n",
    "one_hot_enc_seg_train = np.zeros([n_train, 28, 28, num_classes])\n",
    "one_hot_enc_seg_test = np.zeros([n_test, 28, 28, num_classes])\n",
    "\n",
    "# The shape of the ouput tensor of UNet\n",
    "pic_shape = list(x_train[i].shape) + [num_classes]\n",
    "\n",
    "for i in range(n_train):\n",
    "    if i % 10000 == 0:\n",
    "        print(i)\n",
    "    # Make a empty matrix to fill with the label value at the index locations\n",
    "    temp = np.zeros(pic_shape)\n",
    "    label = y_train[i]\n",
    "    # labels=[1,...,10] but index=[0,...,9] therefore the -1\n",
    "    temp[:,:,(label-1)] = seg_train_data[i]\n",
    "    one_hot_enc_seg_train[i, :, :, :] = temp\n",
    "\n",
    "for i in range(n_test):\n",
    "    if i % 10000 == 0:\n",
    "        print(i)\n",
    "    # Make a empty matrix to fill with the label value at the index locations\n",
    "    temp = np.zeros(pic_shape)\n",
    "    label = y_test[i]\n",
    "    temp[:,:,(label-1)] = seg_test_data[i]\n",
    "    one_hot_enc_seg_test[i, :, :, :] = temp"
   ]
  },
  {
   "cell_type": "code",
   "execution_count": 4,
   "metadata": {},
   "outputs": [
    {
     "name": "stdout",
     "output_type": "stream",
     "text": [
      "(28, 28, 10)\n"
     ]
    },
    {
     "data": {
      "image/png": "[encoded data removed]",
      "text/plain": [
       "<Figure size 432x288 with 10 Axes>"
      ]
     },
     "metadata": {
      "needs_background": "light"
     },
     "output_type": "display_data"
    }
   ],
   "source": [
    "# Visualise one hot encoding\n",
    "for i in range(num_classes):\n",
    "    # Really hacky solution with i>4 being false aka 0 first then being true aka 1 and using that as index\n",
    "    plt.subplot2grid((2,5), (i>4, i%5))\n",
    "    plt.imshow(one_hot_enc_seg_train[7, :, :, i])\n",
    "    plt.axis(\"off\")\n",
    "\n",
    "print(one_hot_enc_seg_train[7, :, :, :].shape)"
   ]
  },
  {
   "cell_type": "markdown",
   "metadata": {},
   "source": [
    "The artificially segmented mnist-data will serve as data to get UNet to work."
   ]
  },
  {
   "cell_type": "code",
   "execution_count": 5,
   "metadata": {},
   "outputs": [
    {
     "name": "stderr",
     "output_type": "stream",
     "text": [
      "WARNING: Logging before flag parsing goes to stderr.\n",
      "W0917 19:07:08.498348 4674860480 deprecation_wrapper.py:119] From /Users/linuslagergren/anaconda/lib/python3.6/site-packages/keras/backend/tensorflow_backend.py:66: The name tf.get_default_graph is deprecated. Please use tf.compat.v1.get_default_graph instead.\n",
      "\n",
      "W0917 19:07:08.523654 4674860480 deprecation_wrapper.py:119] From /Users/linuslagergren/anaconda/lib/python3.6/site-packages/keras/backend/tensorflow_backend.py:541: The name tf.placeholder is deprecated. Please use tf.compat.v1.placeholder instead.\n",
      "\n",
      "W0917 19:07:08.527161 4674860480 deprecation_wrapper.py:119] From /Users/linuslagergren/anaconda/lib/python3.6/site-packages/keras/backend/tensorflow_backend.py:4479: The name tf.truncated_normal is deprecated. Please use tf.random.truncated_normal instead.\n",
      "\n",
      "W0917 19:07:08.559196 4674860480 deprecation_wrapper.py:119] From /Users/linuslagergren/anaconda/lib/python3.6/site-packages/keras/backend/tensorflow_backend.py:4267: The name tf.nn.max_pool is deprecated. Please use tf.nn.max_pool2d instead.\n",
      "\n",
      "W0917 19:07:08.588024 4674860480 deprecation_wrapper.py:119] From /Users/linuslagergren/anaconda/lib/python3.6/site-packages/keras/backend/tensorflow_backend.py:148: The name tf.placeholder_with_default is deprecated. Please use tf.compat.v1.placeholder_with_default instead.\n",
      "\n",
      "W0917 19:07:08.595472 4674860480 deprecation.py:506] From /Users/linuslagergren/anaconda/lib/python3.6/site-packages/keras/backend/tensorflow_backend.py:3733: calling dropout (from tensorflow.python.ops.nn_ops) with keep_prob is deprecated and will be removed in a future version.\n",
      "Instructions for updating:\n",
      "Please use `rate` instead of `keep_prob`. Rate should be set to `rate = 1 - keep_prob`.\n",
      "W0917 19:07:08.658601 4674860480 deprecation_wrapper.py:119] From /Users/linuslagergren/anaconda/lib/python3.6/site-packages/keras/backend/tensorflow_backend.py:2239: The name tf.image.resize_nearest_neighbor is deprecated. Please use tf.compat.v1.image.resize_nearest_neighbor instead.\n",
      "\n",
      "/Users/linuslagergren/anaconda/lib/python3.6/site-packages/ipykernel_launcher.py:39: UserWarning: Update your `Model` call to the Keras 2 API: `Model(inputs=Tensor(\"in..., outputs=Tensor(\"co...)`\n",
      "W0917 19:07:08.770138 4674860480 deprecation_wrapper.py:119] From /Users/linuslagergren/anaconda/lib/python3.6/site-packages/keras/optimizers.py:793: The name tf.train.Optimizer is deprecated. Please use tf.compat.v1.train.Optimizer instead.\n",
      "\n",
      "W0917 19:07:08.786453 4674860480 deprecation_wrapper.py:119] From /Users/linuslagergren/anaconda/lib/python3.6/site-packages/keras/backend/tensorflow_backend.py:3657: The name tf.log is deprecated. Please use tf.math.log instead.\n",
      "\n",
      "W0917 19:07:08.791744 4674860480 deprecation.py:323] From /Users/linuslagergren/anaconda/lib/python3.6/site-packages/tensorflow/python/ops/nn_impl.py:180: add_dispatch_support.<locals>.wrapper (from tensorflow.python.ops.array_ops) is deprecated and will be removed in a future version.\n",
      "Instructions for updating:\n",
      "Use tf.where in 2.0, which has the same broadcast rule as np.where\n"
     ]
    },
    {
     "name": "stdout",
     "output_type": "stream",
     "text": [
      "Model: \"model_1\"\n",
      "__________________________________________________________________________________________________\n",
      "Layer (type)                    Output Shape         Param #     Connected to                     \n",
      "==================================================================================================\n",
      "input_1 (InputLayer)            (None, 28, 28, 1)    0                                            \n",
      "__________________________________________________________________________________________________\n",
      "conv2d_1 (Conv2D)               (None, 28, 28, 32)   320         input_1[0][0]                    \n",
      "__________________________________________________________________________________________________\n",
      "conv2d_2 (Conv2D)               (None, 28, 28, 32)   9248        conv2d_1[0][0]                   \n",
      "__________________________________________________________________________________________________\n",
      "max_pooling2d_1 (MaxPooling2D)  (None, 14, 14, 32)   0           conv2d_2[0][0]                   \n",
      "__________________________________________________________________________________________________\n",
      "conv2d_3 (Conv2D)               (None, 14, 14, 64)   18496       max_pooling2d_1[0][0]            \n",
      "__________________________________________________________________________________________________\n",
      "conv2d_4 (Conv2D)               (None, 14, 14, 64)   36928       conv2d_3[0][0]                   \n",
      "__________________________________________________________________________________________________\n",
      "dropout_1 (Dropout)             (None, 14, 14, 64)   0           conv2d_4[0][0]                   \n",
      "__________________________________________________________________________________________________\n",
      "max_pooling2d_2 (MaxPooling2D)  (None, 7, 7, 64)     0           dropout_1[0][0]                  \n",
      "__________________________________________________________________________________________________\n",
      "conv2d_5 (Conv2D)               (None, 7, 7, 128)    73856       max_pooling2d_2[0][0]            \n",
      "__________________________________________________________________________________________________\n",
      "conv2d_6 (Conv2D)               (None, 7, 7, 128)    147584      conv2d_5[0][0]                   \n",
      "__________________________________________________________________________________________________\n",
      "dropout_2 (Dropout)             (None, 7, 7, 128)    0           conv2d_6[0][0]                   \n",
      "__________________________________________________________________________________________________\n",
      "up_sampling2d_1 (UpSampling2D)  (None, 14, 14, 128)  0           dropout_2[0][0]                  \n",
      "__________________________________________________________________________________________________\n",
      "conv2d_7 (Conv2D)               (None, 14, 14, 64)   32832       up_sampling2d_1[0][0]            \n",
      "__________________________________________________________________________________________________\n",
      "concatenate_1 (Concatenate)     (None, 14, 14, 128)  0           dropout_1[0][0]                  \n",
      "                                                                 conv2d_7[0][0]                   \n",
      "__________________________________________________________________________________________________\n",
      "conv2d_8 (Conv2D)               (None, 14, 14, 64)   73792       concatenate_1[0][0]              \n",
      "__________________________________________________________________________________________________\n",
      "conv2d_9 (Conv2D)               (None, 14, 14, 64)   36928       conv2d_8[0][0]                   \n",
      "__________________________________________________________________________________________________\n",
      "up_sampling2d_2 (UpSampling2D)  (None, 28, 28, 64)   0           conv2d_9[0][0]                   \n",
      "__________________________________________________________________________________________________\n",
      "conv2d_10 (Conv2D)              (None, 28, 28, 32)   8224        up_sampling2d_2[0][0]            \n",
      "__________________________________________________________________________________________________\n",
      "concatenate_2 (Concatenate)     (None, 28, 28, 64)   0           conv2d_2[0][0]                   \n",
      "                                                                 conv2d_10[0][0]                  \n",
      "__________________________________________________________________________________________________\n",
      "conv2d_11 (Conv2D)              (None, 28, 28, 32)   18464       concatenate_2[0][0]              \n",
      "__________________________________________________________________________________________________\n",
      "conv2d_12 (Conv2D)              (None, 28, 28, 32)   9248        conv2d_11[0][0]                  \n",
      "__________________________________________________________________________________________________\n",
      "conv2d_13 (Conv2D)              (None, 28, 28, 10)   330         conv2d_12[0][0]                  \n",
      "==================================================================================================\n",
      "Total params: 466,250\n",
      "Trainable params: 466,250\n",
      "Non-trainable params: 0\n",
      "__________________________________________________________________________________________________\n"
     ]
    }
   ],
   "source": [
    "import numpy as np \n",
    "import os\n",
    "import skimage.io as io\n",
    "import skimage.transform as trans\n",
    "import numpy as np\n",
    "from keras.models import *\n",
    "from keras.layers import *\n",
    "from keras.optimizers import *\n",
    "from keras.callbacks import ModelCheckpoint, LearningRateScheduler\n",
    "from keras import backend as keras\n",
    "\n",
    "def unet_mnist(pretrained_weights = None, input_size = (28, 28, 1)):\n",
    "    inputs = Input(input_size)\n",
    "    conv1 = Conv2D(32, 3, activation = 'relu', padding = 'same', kernel_initializer = 'he_normal')(inputs)\n",
    "    conv1 = Conv2D(32, 3, activation = 'relu', padding = 'same', kernel_initializer = 'he_normal')(conv1)\n",
    "    pool1 = MaxPooling2D(pool_size=(2, 2))(conv1)\n",
    "    \n",
    "    conv2 = Conv2D(64, 3, activation = 'relu', padding = 'same', kernel_initializer = 'he_normal')(pool1)\n",
    "    conv2 = Conv2D(64, 3, activation = 'relu', padding = 'same', kernel_initializer = 'he_normal')(conv2)\n",
    "    drop2 = Dropout(0.5)(conv2)\n",
    "    pool2 = MaxPooling2D(pool_size=(2, 2))(drop2)\n",
    "    \n",
    "    conv3 = Conv2D(128, 3, activation = 'relu', padding = 'same', kernel_initializer = 'he_normal')(pool2)\n",
    "    conv3 = Conv2D(128, 3, activation = 'relu', padding = 'same', kernel_initializer = 'he_normal')(conv3)\n",
    "    drop3 = Dropout(0.5)(conv3)\n",
    "    \n",
    "    up4 = Conv2D(64, 2, activation = 'relu', padding = 'same', kernel_initializer = 'he_normal')(UpSampling2D(size = (2,2))(drop3))\n",
    "    merge4 = concatenate([drop2, up4], axis = 3)\n",
    "    conv4 = Conv2D(64, 3, activation = 'relu', padding = 'same', kernel_initializer = 'he_normal')(merge4)\n",
    "    conv4 = Conv2D(64, 3, activation = 'relu', padding = 'same', kernel_initializer = 'he_normal')(conv4)\n",
    "    \n",
    "    up5 = Conv2D(32, 2, activation = 'relu', padding = 'same', kernel_initializer = 'he_normal')(UpSampling2D(size = (2,2))(conv4))\n",
    "    merge5 = concatenate([conv1, up5], axis = 3)\n",
    "    conv5 = Conv2D(32, 3, activation = 'relu', padding = 'same', kernel_initializer = 'he_normal')(merge5)\n",
    "    conv5 = Conv2D(32, 3, activation = 'relu', padding = 'same', kernel_initializer = 'he_normal')(conv5)\n",
    "    \n",
    "    conv6 = Conv2D(num_classes, 1, activation = 'softmax', padding = 'same', kernel_initializer = 'he_normal')(conv5)\n",
    "\n",
    "    model = Model(input = inputs, output = conv6)\n",
    "    \n",
    "    model.compile(optimizer = Adam(lr = 1e-4), loss = 'binary_crossentropy', metrics = ['accuracy'])\n",
    "    \n",
    "    return model\n",
    "\n",
    "my_model = unet_mnist()\n",
    "my_model.summary()\n",
    "\n"
   ]
  },
  {
   "cell_type": "code",
   "execution_count": 6,
   "metadata": {},
   "outputs": [
    {
     "name": "stdout",
     "output_type": "stream",
     "text": [
      "Epoch 1/1\n",
      "60000/60000 [==============================] - 795s 13ms/step - loss: 0.1800 - acc: 0.9798\n"
     ]
    },
    {
     "data": {
      "text/plain": [
       "<keras.callbacks.History at 0x757816390>"
      ]
     },
     "execution_count": 6,
     "metadata": {},
     "output_type": "execute_result"
    }
   ],
   "source": [
    "# Train model\n",
    "x_train = x_train.reshape((60000, 28, 28, 1))\n",
    "my_model.fit(x=x_train, y=one_hot_enc_seg_train, batch_size=None, epochs=1, verbose=1, callbacks=None, validation_split=0.0, validation_data=None, shuffle=True, class_weight=None, sample_weight=None, initial_epoch=0, steps_per_epoch=None, validation_steps=None, validation_freq=1)\n"
   ]
  },
  {
   "cell_type": "code",
   "execution_count": 159,
   "metadata": {},
   "outputs": [
    {
     "name": "stdout",
     "output_type": "stream",
     "text": [
      "[[[[0.16049981 0.12203228 0.06114971 ... 0.1281078  0.0372082\n",
      "    0.02126056]\n",
      "   [0.1407519  0.10862114 0.06807805 ... 0.13003948 0.06439431\n",
      "    0.04098335]\n",
      "   [0.15310636 0.12810023 0.06870762 ... 0.13466834 0.04577941\n",
      "    0.02593979]\n",
      "   ...\n",
      "   [0.12798606 0.08670918 0.0586959  ... 0.11098132 0.07868593\n",
      "    0.04561461]\n",
      "   [0.10003818 0.10140906 0.0994684  ... 0.1006792  0.09891256\n",
      "    0.10011367]\n",
      "   [0.09242448 0.16078353 0.11251429 ... 0.094742   0.06361426\n",
      "    0.10496533]]\n",
      "\n",
      "  [[0.08956975 0.08534926 0.090573   ... 0.13650742 0.12265358\n",
      "    0.10320051]\n",
      "   [0.10003818 0.10140906 0.0994684  ... 0.1006792  0.09891256\n",
      "    0.10011367]\n",
      "   [0.10003818 0.10140906 0.0994684  ... 0.1006792  0.09891256\n",
      "    0.10011367]\n",
      "   ...\n",
      "   [0.04415923 0.12751362 0.05818722 ... 0.07635512 0.22444808\n",
      "    0.01848958]\n",
      "   [0.10292409 0.10391297 0.10560188 ... 0.09362184 0.09430819\n",
      "    0.09842195]\n",
      "   [0.09963188 0.10192695 0.0993089  ... 0.10074648 0.09993282\n",
      "    0.09894942]]\n",
      "\n",
      "  [[0.09671113 0.10584649 0.09298436 ... 0.10098382 0.10339412\n",
      "    0.10414252]\n",
      "   [0.10003818 0.10140906 0.0994684  ... 0.1006792  0.09891256\n",
      "    0.10011367]\n",
      "   [0.10003818 0.10140906 0.0994684  ... 0.1006792  0.09891256\n",
      "    0.10011367]\n",
      "   ...\n",
      "   [0.10003818 0.10140906 0.0994684  ... 0.1006792  0.09891256\n",
      "    0.10011367]\n",
      "   [0.10003818 0.10140906 0.0994684  ... 0.1006792  0.09891256\n",
      "    0.10011367]\n",
      "   [0.13094635 0.08386716 0.05391071 ... 0.11121424 0.07534483\n",
      "    0.04041198]]\n",
      "\n",
      "  ...\n",
      "\n",
      "  [[0.11734685 0.11569576 0.14472963 ... 0.05900713 0.06882439\n",
      "    0.08595172]\n",
      "   [0.10003818 0.10140906 0.0994684  ... 0.1006792  0.09891256\n",
      "    0.10011367]\n",
      "   [0.10003818 0.10140906 0.0994684  ... 0.1006792  0.09891256\n",
      "    0.10011367]\n",
      "   ...\n",
      "   [0.10333706 0.10426819 0.10651331 ... 0.09261836 0.09363903\n",
      "    0.09816207]\n",
      "   [0.10003818 0.10140906 0.0994684  ... 0.1006792  0.09891256\n",
      "    0.10011367]\n",
      "   [0.10003818 0.10140906 0.0994684  ... 0.1006792  0.09891256\n",
      "    0.10011367]]\n",
      "\n",
      "  [[0.10003818 0.10140906 0.0994684  ... 0.1006792  0.09891256\n",
      "    0.10011367]\n",
      "   [0.10003818 0.10140906 0.0994684  ... 0.1006792  0.09891256\n",
      "    0.10011367]\n",
      "   [0.10003818 0.10140906 0.0994684  ... 0.1006792  0.09891256\n",
      "    0.10011367]\n",
      "   ...\n",
      "   [0.09996046 0.1067535  0.10065711 ... 0.08694832 0.10306787\n",
      "    0.11499574]\n",
      "   [0.09758364 0.1186991  0.10141759 ... 0.05898095 0.11171784\n",
      "    0.1589653 ]\n",
      "   [0.1175275  0.08910079 0.09874231 ... 0.10465733 0.09614643\n",
      "    0.09263488]]\n",
      "\n",
      "  [[0.00417148 0.02854551 0.02318141 ... 0.10920924 0.02340215\n",
      "    0.09136409]\n",
      "   [0.0176278  0.1143088  0.01895955 ... 0.05258315 0.20437638\n",
      "    0.16487971]\n",
      "   [0.10003818 0.10140906 0.0994684  ... 0.1006792  0.09891256\n",
      "    0.10011367]\n",
      "   ...\n",
      "   [0.09842741 0.1052063  0.09567644 ... 0.09878595 0.10494969\n",
      "    0.10336942]\n",
      "   [0.09483502 0.10547964 0.1318192  ... 0.11897545 0.08932877\n",
      "    0.09472665]\n",
      "   [0.07816266 0.10379778 0.12609869 ... 0.1021972  0.10046247\n",
      "    0.12022598]]]]\n"
     ]
    }
   ],
   "source": [
    "# Make a prediction from the test set\n",
    "x = x_test[0].reshape((1,28,28,1))\n",
    "yhat = my_model.predict(x)"
   ]
  },
  {
   "cell_type": "code",
   "execution_count": 158,
   "metadata": {},
   "outputs": [
    {
     "data": {
      "image/png": "[encoded data removed]",
      "text/plain": [
       "<Figure size 432x288 with 10 Axes>"
      ]
     },
     "metadata": {
      "needs_background": "light"
     },
     "output_type": "display_data"
    }
   ],
   "source": [
    "# Visualise one hot encoding\n",
    "for i in range(num_classes):\n",
    "    # Really hacky solution with i>4 being false aka 0 first then being true aka 1 and using that as index\n",
    "    plt.subplot2grid((2,5), (i>4, i%5))\n",
    "    plt.imshow(yhat[0, :, :, i])\n",
    "    plt.axis(\"off\")\n",
    "\n",
    "#This does not seem like 95% accuracy as the training said"
   ]
  },
  {
   "cell_type": "code",
   "execution_count": null,
   "metadata": {},
   "outputs": [],
   "source": []
  }
 ],
 "metadata": {
  "kernelspec": {
   "display_name": "Python 3",
   "language": "python",
   "name": "python3"
  },
  "language_info": {
   "codemirror_mode": {
    "name": "ipython",
    "version": 3
   },
   "file_extension": ".py",
   "mimetype": "text/x-python",
   "name": "python",
   "nbconvert_exporter": "python",
   "pygments_lexer": "ipython3",
   "version": "3.6.9"
  }
 },
 "nbformat": 4,
 "nbformat_minor": 4
}
