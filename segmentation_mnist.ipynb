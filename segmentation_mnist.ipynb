{
 "cells": [
  {
   "cell_type": "markdown",
   "metadata": {},
   "source": [
    "Created some code to make the mnist-data into a segmentation problem. This was done by setting an semi-arbitrary threshold for the pixel intensity that we want to classify as belonging to the handwritten digit or not."
   ]
  },
  {
   "cell_type": "code",
   "execution_count": 2,
   "metadata": {},
   "outputs": [
    {
     "name": "stdout",
     "output_type": "stream",
     "text": [
      "Iteration: 0\n",
      "Iteration: 10000\n",
      "Iteration: 20000\n",
      "Iteration: 30000\n",
      "Iteration: 40000\n",
      "Iteration: 50000\n",
      "Iteration: 0\n"
     ]
    }
   ],
   "source": [
    "import numpy as np\n",
    "from keras.datasets import mnist\n",
    "import matplotlib.pyplot as plt\n",
    "\n",
    "# Define number of classes\n",
    "num_classes = 10\n",
    "\n",
    "(x_train, y_train), (x_test, y_test) = mnist.load_data()\n",
    "x_train = np.array(x_train)\n",
    "x_test = np.array(x_test)\n",
    "\n",
    "# Threshold is what intensity value we use to label pixel as beloning to letter or not\n",
    "threshold = 80\n",
    "# The segmented data is now the ground truth instead of just the label\n",
    "seg_train_data = np.zeros(x_train.shape)\n",
    "seg_test_data = np.zeros(x_test.shape)\n",
    "n_train = x_train.shape[0]\n",
    "n_test = x_test.shape[0]\n",
    "\n",
    "# This code creates a mask\n",
    "for i in range(n_train):\n",
    "    if i % 10000 == 0:\n",
    "        print(\"Iteration: \" + str(i))\n",
    "    # Get indices of where number is larger than threshold\n",
    "    ind = np.where(x_train[i] > threshold)\n",
    "    \n",
    "    # Make a empty matrix to fill with the label value at the index locations\n",
    "    temp = np.zeros(x_train[i].shape)\n",
    "    # since we do one hot encoding we don't need the line below\n",
    "    #label = y_train[i]\n",
    "    #temp[ind] = label \n",
    "    temp[ind] = 1\n",
    "    seg_train_data[i] = temp\n",
    "\n",
    "# Do the same for the test data\n",
    "for i in range(n_test):\n",
    "    if i % 10000 == 0:\n",
    "        print(\"Iteration: \" + str(i))\n",
    "    ind = np.where(x_test[i] > threshold)\n",
    "    \n",
    "    temp = np.zeros(x_test[i].shape)\n",
    "    temp[ind] = 1\n",
    "    seg_test_data[i] = temp\n",
    "\n",
    "# Normalize data\n",
    "x_train = np.divide(x_train, 255)\n",
    "x_test = np.divide(x_test, 255)"
   ]
  },
  {
   "cell_type": "markdown",
   "metadata": {},
   "source": [
    "Show that segmentation worked"
   ]
  },
  {
   "cell_type": "code",
   "execution_count": 3,
   "metadata": {},
   "outputs": [
    {
     "data": {
      "image/png": "[encoded data removed]",
      "text/plain": [
       "<Figure size 432x288 with 2 Axes>"
      ]
     },
     "metadata": {
      "needs_background": "light"
     },
     "output_type": "display_data"
    }
   ],
   "source": [
    "i = 0\n",
    "plt.subplot(121)\n",
    "plt.imshow(x_train[i], cmap='gray')\n",
    "plt.title('Picture')\n",
    "plt.subplot(122)\n",
    "plt.imshow(seg_train_data[i], cmap='gray')\n",
    "plt.title('Segmentation')\n",
    "plt.show()"
   ]
  },
  {
   "cell_type": "code",
   "execution_count": 4,
   "metadata": {},
   "outputs": [
    {
     "name": "stdout",
     "output_type": "stream",
     "text": [
      "Iteration: 0\n",
      "Iteration: 10000\n",
      "Iteration: 20000\n",
      "Iteration: 30000\n",
      "Iteration: 40000\n",
      "Iteration: 50000\n",
      "0\n"
     ]
    }
   ],
   "source": [
    "# Make one hot encoding\n",
    "one_hot_enc_seg_train = np.zeros([n_train, 28, 28, num_classes])\n",
    "one_hot_enc_seg_test = np.zeros([n_test, 28, 28, num_classes])\n",
    "\n",
    "# The shape of the ouput tensor of UNet\n",
    "pic_shape = list(x_train[i].shape) + [num_classes]\n",
    "\n",
    "for i in range(n_train):\n",
    "    if i % 10000 == 0:\n",
    "        print(\"Iteration: \" + str(i))\n",
    "    # Make a empty matrix to fill with the label value at the index locations\n",
    "    temp = np.zeros(pic_shape)\n",
    "    label = y_train[i]\n",
    "    # labels=[1,...,10] but index=[0,...,9] therefore the -1\n",
    "    temp[:,:,(label)] = seg_train_data[i]\n",
    "    one_hot_enc_seg_train[i, :, :, :] = temp\n",
    "\n",
    "for i in range(n_test):\n",
    "    if i % 10000 == 0:\n",
    "        print(i)\n",
    "    # Make a empty matrix to fill with the label value at the index locations\n",
    "    temp = np.zeros(pic_shape)\n",
    "    label = y_test[i]\n",
    "    temp[:,:,(label)] = seg_test_data[i]\n",
    "    one_hot_enc_seg_test[i, :, :, :] = temp"
   ]
  },
  {
   "cell_type": "code",
   "execution_count": 5,
   "metadata": {},
   "outputs": [
    {
     "name": "stdout",
     "output_type": "stream",
     "text": [
      "(28, 28, 10)\n",
      "3\n"
     ]
    },
    {
     "data": {
      "image/png": "[encoded data removed]",
      "text/plain": [
       "<Figure size 432x288 with 10 Axes>"
      ]
     },
     "metadata": {
      "needs_background": "light"
     },
     "output_type": "display_data"
    }
   ],
   "source": [
    "# Visualise one hot encoding\n",
    "for i in range(num_classes):\n",
    "    # Really hacky solution with i>4 being false aka 0 first then being true aka 1 and using that as index\n",
    "    plt.subplot2grid((2,5), (i>4, i%5))\n",
    "    plt.imshow(one_hot_enc_seg_train[7, :, :, i])\n",
    "    plt.axis(\"off\")\n",
    "\n",
    "print(one_hot_enc_seg_train[7, :, :, :].shape)\n",
    "print(y_train[7])"
   ]
  },
  {
   "cell_type": "markdown",
   "metadata": {},
   "source": [
    "The artificially segmented mnist-data will serve as data to get UNet to work."
   ]
  },
  {
   "cell_type": "code",
   "execution_count": 6,
   "metadata": {},
   "outputs": [
    {
     "name": "stderr",
     "output_type": "stream",
     "text": [
      "/Users/linuslagergren/anaconda/lib/python3.6/site-packages/ipykernel_launcher.py:39: UserWarning: Update your `Model` call to the Keras 2 API: `Model(inputs=Tensor(\"in..., outputs=Tensor(\"co...)`\n",
      "W0919 09:18:01.970280 4525954496 deprecation_wrapper.py:119] From /Users/linuslagergren/anaconda/lib/python3.6/site-packages/keras/optimizers.py:793: The name tf.train.Optimizer is deprecated. Please use tf.compat.v1.train.Optimizer instead.\n",
      "\n",
      "W0919 09:18:01.981379 4525954496 deprecation_wrapper.py:119] From /Users/linuslagergren/anaconda/lib/python3.6/site-packages/keras/backend/tensorflow_backend.py:3576: The name tf.log is deprecated. Please use tf.math.log instead.\n",
      "\n"
     ]
    },
    {
     "name": "stdout",
     "output_type": "stream",
     "text": [
      "Model: \"model_1\"\n",
      "__________________________________________________________________________________________________\n",
      "Layer (type)                    Output Shape         Param #     Connected to                     \n",
      "==================================================================================================\n",
      "input_2 (InputLayer)            (None, 28, 28, 1)    0                                            \n",
      "__________________________________________________________________________________________________\n",
      "conv2d_13 (Conv2D)              (None, 28, 28, 32)   320         input_2[0][0]                    \n",
      "__________________________________________________________________________________________________\n",
      "conv2d_14 (Conv2D)              (None, 28, 28, 32)   9248        conv2d_13[0][0]                  \n",
      "__________________________________________________________________________________________________\n",
      "max_pooling2d_3 (MaxPooling2D)  (None, 14, 14, 32)   0           conv2d_14[0][0]                  \n",
      "__________________________________________________________________________________________________\n",
      "conv2d_15 (Conv2D)              (None, 14, 14, 64)   18496       max_pooling2d_3[0][0]            \n",
      "__________________________________________________________________________________________________\n",
      "conv2d_16 (Conv2D)              (None, 14, 14, 64)   36928       conv2d_15[0][0]                  \n",
      "__________________________________________________________________________________________________\n",
      "dropout_3 (Dropout)             (None, 14, 14, 64)   0           conv2d_16[0][0]                  \n",
      "__________________________________________________________________________________________________\n",
      "max_pooling2d_4 (MaxPooling2D)  (None, 7, 7, 64)     0           dropout_3[0][0]                  \n",
      "__________________________________________________________________________________________________\n",
      "conv2d_17 (Conv2D)              (None, 7, 7, 128)    73856       max_pooling2d_4[0][0]            \n",
      "__________________________________________________________________________________________________\n",
      "conv2d_18 (Conv2D)              (None, 7, 7, 128)    147584      conv2d_17[0][0]                  \n",
      "__________________________________________________________________________________________________\n",
      "dropout_4 (Dropout)             (None, 7, 7, 128)    0           conv2d_18[0][0]                  \n",
      "__________________________________________________________________________________________________\n",
      "up_sampling2d_3 (UpSampling2D)  (None, 14, 14, 128)  0           dropout_4[0][0]                  \n",
      "__________________________________________________________________________________________________\n",
      "conv2d_19 (Conv2D)              (None, 14, 14, 64)   32832       up_sampling2d_3[0][0]            \n",
      "__________________________________________________________________________________________________\n",
      "concatenate_3 (Concatenate)     (None, 14, 14, 128)  0           dropout_3[0][0]                  \n",
      "                                                                 conv2d_19[0][0]                  \n",
      "__________________________________________________________________________________________________\n",
      "conv2d_20 (Conv2D)              (None, 14, 14, 64)   73792       concatenate_3[0][0]              \n",
      "__________________________________________________________________________________________________\n",
      "conv2d_21 (Conv2D)              (None, 14, 14, 64)   36928       conv2d_20[0][0]                  \n",
      "__________________________________________________________________________________________________\n",
      "up_sampling2d_4 (UpSampling2D)  (None, 28, 28, 64)   0           conv2d_21[0][0]                  \n",
      "__________________________________________________________________________________________________\n",
      "conv2d_22 (Conv2D)              (None, 28, 28, 32)   8224        up_sampling2d_4[0][0]            \n",
      "__________________________________________________________________________________________________\n",
      "concatenate_4 (Concatenate)     (None, 28, 28, 64)   0           conv2d_14[0][0]                  \n",
      "                                                                 conv2d_22[0][0]                  \n",
      "__________________________________________________________________________________________________\n",
      "conv2d_23 (Conv2D)              (None, 28, 28, 32)   18464       concatenate_4[0][0]              \n",
      "__________________________________________________________________________________________________\n",
      "conv2d_24 (Conv2D)              (None, 28, 28, 32)   9248        conv2d_23[0][0]                  \n",
      "__________________________________________________________________________________________________\n",
      "conv2d_25 (Conv2D)              (None, 28, 28, 10)   330         conv2d_24[0][0]                  \n",
      "==================================================================================================\n",
      "Total params: 466,250\n",
      "Trainable params: 466,250\n",
      "Non-trainable params: 0\n",
      "__________________________________________________________________________________________________\n"
     ]
    }
   ],
   "source": [
    "import numpy as np \n",
    "import os\n",
    "import skimage.io as io\n",
    "import skimage.transform as trans\n",
    "import numpy as np\n",
    "from keras.models import *\n",
    "from keras.layers import *\n",
    "from keras.optimizers import *\n",
    "from keras.callbacks import ModelCheckpoint, LearningRateScheduler\n",
    "from keras import backend as keras\n",
    "\n",
    "def unet_mnist(pretrained_weights = None, input_size = (28, 28, 1)):\n",
    "    inputs = Input(input_size)\n",
    "    conv1 = Conv2D(32, 3, activation = 'relu', padding = 'same', kernel_initializer = 'he_normal')(inputs)\n",
    "    conv1 = Conv2D(32, 3, activation = 'relu', padding = 'same', kernel_initializer = 'he_normal')(conv1)\n",
    "    pool1 = MaxPooling2D(pool_size=(2, 2))(conv1)\n",
    "    \n",
    "    conv2 = Conv2D(64, 3, activation = 'relu', padding = 'same', kernel_initializer = 'he_normal')(pool1)\n",
    "    conv2 = Conv2D(64, 3, activation = 'relu', padding = 'same', kernel_initializer = 'he_normal')(conv2)\n",
    "    drop2 = Dropout(0.5)(conv2)\n",
    "    pool2 = MaxPooling2D(pool_size=(2, 2))(drop2)\n",
    "    \n",
    "    conv3 = Conv2D(128, 3, activation = 'relu', padding = 'same', kernel_initializer = 'he_normal')(pool2)\n",
    "    conv3 = Conv2D(128, 3, activation = 'relu', padding = 'same', kernel_initializer = 'he_normal')(conv3)\n",
    "    drop3 = Dropout(0.5)(conv3)\n",
    "    \n",
    "    up4 = Conv2D(64, 2, activation = 'relu', padding = 'same', kernel_initializer = 'he_normal')(UpSampling2D(size = (2,2))(drop3))\n",
    "    merge4 = concatenate([drop2, up4], axis = 3)\n",
    "    conv4 = Conv2D(64, 3, activation = 'relu', padding = 'same', kernel_initializer = 'he_normal')(merge4)\n",
    "    conv4 = Conv2D(64, 3, activation = 'relu', padding = 'same', kernel_initializer = 'he_normal')(conv4)\n",
    "    \n",
    "    up5 = Conv2D(32, 2, activation = 'relu', padding = 'same', kernel_initializer = 'he_normal')(UpSampling2D(size = (2,2))(conv4))\n",
    "    merge5 = concatenate([conv1, up5], axis = 3)\n",
    "    conv5 = Conv2D(32, 3, activation = 'relu', padding = 'same', kernel_initializer = 'he_normal')(merge5)\n",
    "    conv5 = Conv2D(32, 3, activation = 'relu', padding = 'same', kernel_initializer = 'he_normal')(conv5)\n",
    "    \n",
    "    conv6 = Conv2D(num_classes, 1, activation = 'sigmoid', padding = 'same', kernel_initializer = 'he_normal')(conv5)\n",
    "\n",
    "    model = Model(input = inputs, output = conv6)\n",
    "    \n",
    "    model.compile(optimizer = Adam(lr = 1e-4), loss = 'categorical_crossentropy', metrics = ['accuracy'])\n",
    "    \n",
    "    return model\n",
    "\n",
    "my_model = unet_mnist()\n",
    "my_model.summary()\n",
    "\n"
   ]
  },
  {
   "cell_type": "code",
   "execution_count": 62,
   "metadata": {},
   "outputs": [
    {
     "name": "stdout",
     "output_type": "stream",
     "text": [
      "Epoch 1/2\n",
      "60000/60000 [==============================] - 778s 13ms/step - loss: 0.2864 - acc: 0.4136\n",
      "Epoch 2/2\n",
      "60000/60000 [==============================] - 723s 12ms/step - loss: 0.2319 - acc: 0.3539\n"
     ]
    }
   ],
   "source": [
    "# Train model\n",
    "samples_used = 60000\n",
    "x_train = x_train.reshape((60000, 28, 28, 1))\n",
    "x_train1 = x_train[0:samples_used, :, :, :]\n",
    "y_train1 = one_hot_enc_seg_train[0:samples_used, :, :, :]\n",
    "# Returns an object with accuracy and loss\n",
    "history = my_model.fit(x=x_train1, y=y_train1, batch_size=None, epochs=1, verbose=1, callbacks=None, validation_split=0.0, validation_data=None, shuffle=True, class_weight=None, sample_weight=None, initial_epoch=0, steps_per_epoch=None, validation_steps=None, validation_freq=1)\n"
   ]
  },
  {
   "cell_type": "code",
   "execution_count": 68,
   "metadata": {},
   "outputs": [
    {
     "name": "stdout",
     "output_type": "stream",
     "text": [
      "loss\n",
      "acc\n"
     ]
    }
   ],
   "source": [
    "for x in history.history:\n",
    "    print(x)\n",
    "#plt.plot(history.history['acc'])\n",
    "#plt.plot(history.history['val_acc'])\n",
    "#plt.title('Model accuracy')\n",
    "#plt.ylabel('Accuracy')\n",
    "#plt.xlabel('Epoch')\n",
    "#plt.legend(['Train', 'Test'], loc='upper left')"
   ]
  },
  {
   "cell_type": "code",
   "execution_count": 124,
   "metadata": {},
   "outputs": [
    {
     "name": "stdout",
     "output_type": "stream",
     "text": [
      "7\n"
     ]
    },
    {
     "data": {
      "image/png": "[encoded data removed]",
      "text/plain": [
       "<Figure size 432x288 with 10 Axes>"
      ]
     },
     "metadata": {
      "needs_background": "light"
     },
     "output_type": "display_data"
    }
   ],
   "source": [
    "# Load weights of model\n",
    "my_model.load_weights(\"my_model.h5\")\n",
    "\n",
    "# Make a prediction from the test set\n",
    "ind = 0\n",
    "x = x_test[ind].reshape((1,28,28,1))\n",
    "yhat = my_model.predict(x)\n",
    "\n",
    "# Visualise one hot encoding\n",
    "for i in range(num_classes):\n",
    "    # Really hacky solution with i>4 being false aka 0 first then being true aka 1 and using that as index\n",
    "    plt.subplot2grid((2,5), (i>4, i%5))\n",
    "    plt.imshow(yhat[0, :, :, i])\n",
    "    plt.axis(\"off\")\n",
    "\n",
    "#print(np.max(yhat[0, :, :, :]))\n",
    "print(y_test[ind])\n",
    "#This does not seem like 95% accuracy as the training said"
   ]
  },
  {
   "cell_type": "code",
   "execution_count": 16,
   "metadata": {},
   "outputs": [],
   "source": [
    "import numpy as np \n",
    "import os\n",
    "import skimage.io as io\n",
    "import skimage.transform as trans\n",
    "import numpy as np\n",
    "from keras.models import *\n",
    "from keras.layers import *\n",
    "from keras.optimizers import *\n",
    "from keras.callbacks import ModelCheckpoint, LearningRateScheduler\n",
    "from keras import backend as keras\n",
    "\n",
    "\n",
    "def unet(pretrained_weights = None,input_size = (256, 256, 1)):\n",
    "    inputs = Input(input_size)\n",
    "    conv1 = Conv2D(64, 3, activation = 'relu', padding = 'same', kernel_initializer = 'he_normal')(inputs)\n",
    "    conv1 = Conv2D(64, 3, activation = 'relu', padding = 'same', kernel_initializer = 'he_normal')(conv1)\n",
    "    pool1 = MaxPooling2D(pool_size=(2, 2))(conv1)\n",
    "    conv2 = Conv2D(128, 3, activation = 'relu', padding = 'same', kernel_initializer = 'he_normal')(pool1)\n",
    "    conv2 = Conv2D(128, 3, activation = 'relu', padding = 'same', kernel_initializer = 'he_normal')(conv2)\n",
    "    pool2 = MaxPooling2D(pool_size=(2, 2))(conv2)\n",
    "    conv3 = Conv2D(256, 3, activation = 'relu', padding = 'same', kernel_initializer = 'he_normal')(pool2)\n",
    "    conv3 = Conv2D(256, 3, activation = 'relu', padding = 'same', kernel_initializer = 'he_normal')(conv3)\n",
    "    pool3 = MaxPooling2D(pool_size=(2, 2))(conv3)\n",
    "    conv4 = Conv2D(512, 3, activation = 'relu', padding = 'same', kernel_initializer = 'he_normal')(pool3)\n",
    "    conv4 = Conv2D(512, 3, activation = 'relu', padding = 'same', kernel_initializer = 'he_normal')(conv4)\n",
    "    drop4 = Dropout(0.5)(conv4)\n",
    "    pool4 = MaxPooling2D(pool_size=(2, 2))(drop4)\n",
    "\n",
    "    conv5 = Conv2D(1024, 3, activation = 'relu', padding = 'same', kernel_initializer = 'he_normal')(pool4)\n",
    "    conv5 = Conv2D(1024, 3, activation = 'relu', padding = 'same', kernel_initializer = 'he_normal')(conv5)\n",
    "    drop5 = Dropout(0.5)(conv5)\n",
    "\n",
    "    up6 = Conv2D(512, 2, activation = 'relu', padding = 'same', kernel_initializer = 'he_normal')(UpSampling2D(size = (2,2))(drop5))\n",
    "    merge6 = concatenate([drop4,up6], axis = 3)\n",
    "    conv6 = Conv2D(512, 3, activation = 'relu', padding = 'same', kernel_initializer = 'he_normal')(merge6)\n",
    "    conv6 = Conv2D(512, 3, activation = 'relu', padding = 'same', kernel_initializer = 'he_normal')(conv6)\n",
    "\n",
    "    up7 = Conv2D(256, 2, activation = 'relu', padding = 'same', kernel_initializer = 'he_normal')(UpSampling2D(size = (2,2))(conv6))\n",
    "    merge7 = concatenate([conv3,up7], axis = 3)\n",
    "    conv7 = Conv2D(256, 3, activation = 'relu', padding = 'same', kernel_initializer = 'he_normal')(merge7)\n",
    "    conv7 = Conv2D(256, 3, activation = 'relu', padding = 'same', kernel_initializer = 'he_normal')(conv7)\n",
    "\n",
    "    up8 = Conv2D(128, 2, activation = 'relu', padding = 'same', kernel_initializer = 'he_normal')(UpSampling2D(size = (2,2))(conv7))\n",
    "    merge8 = concatenate([conv2,up8], axis = 3)\n",
    "    conv8 = Conv2D(128, 3, activation = 'relu', padding = 'same', kernel_initializer = 'he_normal')(merge8)\n",
    "    conv8 = Conv2D(128, 3, activation = 'relu', padding = 'same', kernel_initializer = 'he_normal')(conv8)\n",
    "\n",
    "    up9 = Conv2D(64, 2, activation = 'relu', padding = 'same', kernel_initializer = 'he_normal')(UpSampling2D(size = (2,2))(conv8))\n",
    "    merge9 = concatenate([conv1,up9], axis = 3)\n",
    "    conv9 = Conv2D(64, 3, activation = 'relu', padding = 'same', kernel_initializer = 'he_normal')(merge9)\n",
    "    conv9 = Conv2D(64, 3, activation = 'relu', padding = 'same', kernel_initializer = 'he_normal')(conv9)\n",
    "    conv9 = Conv2D(2, 3, activation = 'relu', padding = 'same', kernel_initializer = 'he_normal')(conv9)\n",
    "    conv10 = Conv2D(1, 1, activation = 'sigmoid')(conv9)\n",
    "\n",
    "    model = Model(input = inputs, output = conv10)\n",
    "\n",
    "    model.compile(optimizer = Adam(lr = 1e-4), loss = 'binary_crossentropy', metrics = ['accuracy'])\n",
    "    \n",
    "    #model.summary()\n",
    "\n",
    "    if(pretrained_weights):\n",
    "    \tmodel.load_weights(pretrained_weights)\n",
    "\n",
    "    return model\n",
    "\n"
   ]
  },
  {
   "cell_type": "code",
   "execution_count": 36,
   "metadata": {},
   "outputs": [
    {
     "name": "stderr",
     "output_type": "stream",
     "text": [
      "/Users/linuslagergren/anaconda/lib/python3.6/site-packages/ipykernel_launcher.py:55: UserWarning: Update your `Model` call to the Keras 2 API: `Model(inputs=Tensor(\"in..., outputs=Tensor(\"co...)`\n"
     ]
    }
   ],
   "source": [
    "my_unet = unet(input_size=(32, 32, 1))"
   ]
  },
  {
   "cell_type": "code",
   "execution_count": 37,
   "metadata": {},
   "outputs": [
    {
     "name": "stdout",
     "output_type": "stream",
     "text": [
      "(32, 32)\n"
     ]
    },
    {
     "data": {
      "image/png": "[encoded data removed]",
      "text/plain": [
       "<Figure size 432x288 with 1 Axes>"
      ]
     },
     "metadata": {
      "needs_background": "light"
     },
     "output_type": "display_data"
    }
   ],
   "source": [
    "# If you resize pictures from 28 to 32 it will work in the middle layer\n",
    "# 32*(1/2)**4 == 2.0\n",
    "# 28 * x = 32 -> zoom = 32/28\n",
    "import scipy\n",
    "zoom = 32/28\n",
    "x = x_train[0]\n",
    "y = scipy.ndimage.zoom(x, zoom=zoom, output=None, order=3, mode='constant', cval=0.0, prefilter=True)\n",
    "\n",
    "plt.imshow(y)\n",
    "print(y.shape)"
   ]
  },
  {
   "cell_type": "code",
   "execution_count": 41,
   "metadata": {},
   "outputs": [
    {
     "name": "stdout",
     "output_type": "stream",
     "text": [
      "Upscale train: 0\n",
      "Upscale train: 10000\n",
      "Upscale train: 20000\n",
      "Upscale train: 30000\n",
      "Upscale train: 40000\n",
      "Upscale train: 50000\n",
      "Upscale test: 0\n",
      "Create mask train: 0\n",
      "Create mask train: 10000\n",
      "Create mask train: 20000\n",
      "Create mask train: 30000\n",
      "Create mask train: 40000\n",
      "Create mask train: 50000\n",
      "Create mask test: 0\n",
      "OHE test0\n",
      "OHE test10000\n",
      "OHE test20000\n",
      "OHE test30000\n",
      "OHE test40000\n",
      "OHE test50000\n",
      "OHE test0\n"
     ]
    }
   ],
   "source": [
    "import numpy as np\n",
    "from keras.datasets import mnist\n",
    "import matplotlib.pyplot as plt\n",
    "######################################################################################################\n",
    "# This code loads the data\n",
    "\n",
    "# Define number of classes\n",
    "num_classes = 10\n",
    "(x_train, y_train), (x_test, y_test) = mnist.load_data()\n",
    "x_train = np.array(x_train)\n",
    "x_test = np.array(x_test)\n",
    "\n",
    "######################################################################################################\n",
    "# This code upscales images to fit UNet downsampling (28*28 -> 32*32)\n",
    "new_size = 32\n",
    "temp = np.zeros((n_train, 32, 32))\n",
    "# Factor to upscale with\n",
    "zoom = 32/28\n",
    "\n",
    "for i in range(n_train):\n",
    "    if i % 10000 == 0:\n",
    "        print(\"Upscale train: \" + str(i))\n",
    "    x = x_train[i]\n",
    "    temp[i] = scipy.ndimage.zoom(x, zoom=zoom, output=None, order=3, mode='constant', cval=0.0, prefilter=True)\n",
    "\n",
    "x_train = temp\n",
    "\n",
    "temp = np.zeros((n_test, 32, 32))\n",
    "# Make data fit UNet by upscaling 28*28 -> 32*32\n",
    "for i in range(n_test):\n",
    "    if i % 10000 == 0:\n",
    "        print(\"Upscale test: \" + str(i))\n",
    "    x = x_test[i]\n",
    "    temp[i] = scipy.ndimage.zoom(x, zoom=zoom, output=None, order=3, mode='constant', cval=0.0, prefilter=True)\n",
    "\n",
    "x_test = temp\n",
    "\n",
    "######################################################################################################\n",
    "# This code creates a mask\n",
    "# Threshold is what intensity value we use to label pixel as beloning to letter or not\n",
    "threshold = 80\n",
    "# The segmented data is now the ground truth instead of just the label\n",
    "seg_train_data = np.zeros(x_train.shape)\n",
    "seg_test_data = np.zeros(x_test.shape)\n",
    "n_train = x_train.shape[0]\n",
    "n_test = x_test.shape[0]\n",
    "\n",
    "for i in range(n_train):\n",
    "    if i % 10000 == 0:\n",
    "        print(\"Create mask train: \" + str(i))\n",
    "    # Get indices of where number is larger than threshold\n",
    "    ind = np.where(x_train[i] > threshold)\n",
    "    # Make a empty matrix to fill with the label value at the index locations\n",
    "    temp = np.zeros(x_train[i].shape)\n",
    "    temp[ind] = 1\n",
    "    seg_train_data[i] = temp\n",
    "\n",
    "# Do the same for the test data\n",
    "for i in range(n_test):\n",
    "    if i % 10000 == 0:\n",
    "        print(\"Create mask test: \" + str(i))\n",
    "    ind = np.where(x_test[i] > threshold)\n",
    "    \n",
    "    temp = np.zeros(x_test[i].shape)\n",
    "    temp[ind] = 1\n",
    "    seg_test_data[i] = temp\n",
    "\n",
    "# Normalize data\n",
    "x_train = np.divide(x_train, 255)\n",
    "x_test = np.divide(x_test, 255)\n",
    "\n",
    "# Make one hot encoding\n",
    "one_hot_enc_seg_train = np.zeros([n_train, new_size, new_size, num_classes])\n",
    "one_hot_enc_seg_test = np.zeros([n_test, new_size, new_size, num_classes])\n",
    "\n",
    "# The shape of the ouput tensor of UNet\n",
    "pic_shape = list(x_train[i].shape) + [num_classes]\n",
    "\n",
    "for i in range(n_train):\n",
    "    if i % 10000 == 0:\n",
    "        print(\"OHE test\" + str(i))\n",
    "    # Make a empty matrix to fill with the label value at the index locations\n",
    "    temp = np.zeros(pic_shape)\n",
    "    label = y_train[i]\n",
    "    # labels=[1,...,10] but index=[0,...,9] therefore the -1\n",
    "    temp[:,:,(label)] = seg_train_data[i]\n",
    "    one_hot_enc_seg_train[i, :, :, :] = temp\n",
    "\n",
    "for i in range(n_test):\n",
    "    if i % 10000 == 0:\n",
    "        print(\"OHE test: \" + str(i))\n",
    "    # Make a empty matrix to fill with the label value at the index locations\n",
    "    temp = np.zeros(pic_shape)\n",
    "    label = y_test[i]\n",
    "    temp[:,:,(label)] = seg_test_data[i]\n",
    "    one_hot_enc_seg_test[i, :, :, :] = temp"
   ]
  },
  {
   "cell_type": "code",
   "execution_count": null,
   "metadata": {},
   "outputs": [],
   "source": []
  }
 ],
 "metadata": {
  "kernelspec": {
   "display_name": "Python 3",
   "language": "python",
   "name": "python3"
  },
  "language_info": {
   "codemirror_mode": {
    "name": "ipython",
    "version": 3
   },
   "file_extension": ".py",
   "mimetype": "text/x-python",
   "name": "python",
   "nbconvert_exporter": "python",
   "pygments_lexer": "ipython3",
   "version": "3.6.9"
  }
 },
 "nbformat": 4,
 "nbformat_minor": 4
}
