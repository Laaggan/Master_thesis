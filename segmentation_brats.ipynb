{
 "cells": [
  {
   "cell_type": "markdown",
   "metadata": {},
   "source": [
    "# Load custom classes, functions and more\n",
    "First cell is some custom functions and classes for plotting and saving model performance"
   ]
  },
  {
   "cell_type": "code",
   "execution_count": 49,
   "metadata": {},
   "outputs": [
    {
     "name": "stdout",
     "output_type": "stream",
     "text": [
      "svmem(total=17179869184, available=9938690048, percent=42.1, used=5729566720, free=6872518656, active=3074891776, inactive=3051266048, wired=2654674944)\n"
     ]
    }
   ],
   "source": [
    "import os\n",
    "import psutil\n",
    "process = psutil.Process(os.getpid())\n",
    "\n",
    "def print_used_GB():\n",
    "        print(\"Used RAM(GB):\", process.memory_info().rss / 1e9, sep=\" \")  # in gigabytes"
   ]
  },
  {
   "cell_type": "code",
   "execution_count": 25,
   "metadata": {},
   "outputs": [
    {
     "name": "stdout",
     "output_type": "stream",
     "text": [
      "Finished\n",
      "Used RAM(GB): 2.617860096\n"
     ]
    }
   ],
   "source": [
    "from keras.callbacks import Callback\n",
    "import json\n",
    "\n",
    "# What value maps to what class\n",
    "mapping = {\n",
    "    0: \"Null class\",\n",
    "    1: \"Necrotic and non-enhancing tumor core\",\n",
    "    2: \"Edema\",\n",
    "    4: \"GD-enhancing tumor\"\n",
    "}\n",
    "\n",
    "# fixme: skulle gå att göra bättre igenom att skicka med en tex tuple med titlarna\n",
    "# och returnera ett matplotlib-objekt istället för då hade man inte behövt ha olika\n",
    "# funktioner för \"plot_modalities\" och \"plt_OHE\" och också kunna ha två stycken figurer med \n",
    "# 2*2 subplots i en cell.\n",
    "def plot_modalities(x):\n",
    "    # Make sure input data is of correct shape\n",
    "    assert x.shape == (240, 240, 4), 'Shape of input data is incorrect'\n",
    "    plt.subplot('221')\n",
    "    plt.imshow(x[:,:,0])\n",
    "    plt.axis('off')\n",
    "    plt.title('T1')\n",
    "    plt.colorbar()\n",
    "\n",
    "    plt.subplot('222')\n",
    "    plt.imshow(x[:,:,1])\n",
    "    plt.axis('off')\n",
    "    plt.title('T1ce')\n",
    "    plt.colorbar()\n",
    "\n",
    "    plt.subplot('223')\n",
    "    plt.imshow(x[:,:,2])\n",
    "    plt.axis('off')\n",
    "    plt.title('T2')\n",
    "    plt.colorbar()\n",
    "\n",
    "    plt.subplot('224')\n",
    "    plt.imshow(x[:,:,3])\n",
    "    plt.axis('off')\n",
    "    plt.title('FLAIR')\n",
    "    plt.colorbar()\n",
    "\n",
    "def plot_OHE(y):\n",
    "    # Make sure input data is of correct shape\n",
    "    assert y.shape == (240, 240, 4), 'Shape of input data is incorrect'\n",
    "    \n",
    "    plt.subplot('221')\n",
    "    plt.imshow(y[:,:,0])\n",
    "    plt.axis('off')\n",
    "    plt.title('Null')\n",
    "    plt.colorbar()\n",
    "\n",
    "    plt.subplot('222')\n",
    "    plt.imshow(y[:,:,1])\n",
    "    plt.axis('off')\n",
    "    plt.title('\"Necrotic and non-enhancing tumor core\"')\n",
    "    plt.colorbar()\n",
    "\n",
    "    plt.subplot('223')\n",
    "    plt.imshow(y[:,:,2])\n",
    "    plt.axis('off')\n",
    "    plt.title('Edema')\n",
    "    plt.colorbar()\n",
    "\n",
    "    plt.subplot('224')\n",
    "    plt.imshow(y[:,:,3])\n",
    "    plt.axis('off')\n",
    "    plt.title('GD-enhancing tumor')\n",
    "    plt.colorbar()\n",
    "\n",
    "def shift_and_scale(x):\n",
    "    assert len(x.shape) == 2, 'The input must be 2 dimensional'\n",
    "    result = x - np.mean(x)\n",
    "    result /= np.std(x)\n",
    "    return result\n",
    "\n",
    "def OHE(Y, mapping):\n",
    "    '''\n",
    "    Takes in a picture as a matrix with labels and returns a one hot encoded tensor\n",
    "    \n",
    "    Parameters:\n",
    "    Y is the picture\n",
    "    Mapping is what value corresponds to what label\n",
    "    \n",
    "    Returns:\n",
    "    A tensor with a channel for each label.\n",
    "    '''\n",
    "    shape = Y.shape\n",
    "    labels = mapping.keys()\n",
    "    one_hot_enc = np.zeros(list(shape) + [len(labels)])\n",
    "    \n",
    "    for i, label in enumerate(labels):\n",
    "        temp = np.zeros(shape)\n",
    "        ind = Y == label\n",
    "        temp[ind] = 1\n",
    "        one_hot_enc[:, :, i] = temp\n",
    "    return one_hot_enc\n",
    "\n",
    "#fixme: I don't know if providing this mapping is necessary\n",
    "# probably could be provided inside function instead.\n",
    "def OHE_uncoding(y, mapping):\n",
    "    result = np.argmax(y, axis=2)\n",
    "    labels = mapping.keys()\n",
    "    temp = np.zeros(result.shape)\n",
    "    for i, label in enumerate(labels):\n",
    "        ind = result == i\n",
    "        temp[ind] = label\n",
    "    return temp\n",
    "\n",
    "'''\n",
    "def intersection_over_union(y_true, y_pred):\n",
    "    y_true = K.eval(y_true)\n",
    "    y_pred = K.eval(y_pred)\n",
    "    \n",
    "    values = np.array([0., 1.])\n",
    "    unique_y_pred = np.unique(y_pred)\n",
    "    unique_y_true = np.unique(y_true)\n",
    "    assert np.array_equal(y_pred.shape, y_true.shape), 'Prediction and ground truth must have same shape'\n",
    "    assert np.array_equal(values, unique_y_pred), 'yhat and y must be one hot encodings'\n",
    "    assert np.array_equal(values, unique_y_true), 'yhat and y must be one hot encodings'\n",
    "    \n",
    "    # The slicing in the last index is because the null class bloats\n",
    "    # the intersection over union because there are so many pixels which\n",
    "    # have the value zero\n",
    "    y_pred[:,:,0] = y_pred[:,:,0] == False\n",
    "    y_true[:,:,0] = y_true[:,:,0] == False\n",
    "    \n",
    "    # Intersection is where there is 2 True values\n",
    "    intersection = (y_pred + y_true) == 2\n",
    "    # Union is where it is not zero\n",
    "    union = (y_pred + y_true) > 0\n",
    "    \n",
    "    size_int = np.count_nonzero(intersection)\n",
    "    size_uni = np.count_nonzero(union)\n",
    "    \n",
    "    return K.variable(value=size_int/size_uni)\n",
    "'''\n",
    "\n",
    "from keras import backend as K\n",
    "# IoU for all classes in tumor\n",
    "def IoU_T(y_true, y_pred):\n",
    "    values = np.array([0., 1.])\n",
    "    unique_y_pred = np.unique(y_pred)\n",
    "    unique_y_true = np.unique(y_true)\n",
    "    assert np.array_equal(y_pred.shape, y_true.shape), 'Prediction and ground truth must have same shape'\n",
    "    assert np.array_equal(values, unique_y_pred), 'yhat and y must be one hot encodings'\n",
    "    assert np.array_equal(values, unique_y_true), 'yhat and y must be one hot encodings'\n",
    "    \n",
    "    # The slicing in the last index is because the null class bloats\n",
    "    # the intersection over union because there are so many pixels which\n",
    "    # have the value zero\n",
    "    y_pred[:,:,0] = y_pred[:,:,0] == False\n",
    "    y_true[:,:,0] = y_true[:,:,0] == False\n",
    "    \n",
    "    # Intersection is where there is 2 True values\n",
    "    intersection = (y_pred[:,:,0] + y_true[:,:,0]) == 2\n",
    "    # Union is where it is not zero\n",
    "    union = (y_pred[:,:,0] + y_true[:,:,0]) > 0\n",
    "    \n",
    "    size_int = np.count_nonzero(intersection)\n",
    "    size_uni = np.count_nonzero(union)\n",
    "    \n",
    "    return size_int/size_uni\n",
    "\n",
    "'''\n",
    "# Load config file to session here\n",
    "import json\n",
    "config_path = \"Training_session_1/config.json\"\n",
    "with open(config_path, 'r') as config_file:\n",
    "    config = json.load(config_file)\n",
    "'''\n",
    "\n",
    "def reset_config(config, config_path=None, weights_path=None):\n",
    "    new_config = config\n",
    "    if weights_path:\n",
    "        assert type(weights_path) == str, 'The weight path must be a string'\n",
    "        new_config['weights_path'] = weights_path\n",
    "    if config_path:\n",
    "        assert type(config_path) == str, 'The config path must be a string'\n",
    "        new_config['config_path'] = config_path\n",
    "    new_config['history']['training_samples_used'] = 0\n",
    "    new_config['history']['loss'] = []\n",
    "    new_config['history']['val_loss'] = []\n",
    "    new_config['history']['IoU_T'] = []\n",
    "    new_config['keep_training'] = False\n",
    "    \n",
    "    with open(new_config['config_path'],'w') as f:\n",
    "        f.write(json.dumps(new_config))\n",
    "    \n",
    "class CallbackJSON(Callback):\n",
    "    \"\"\" CallbackJSON descends from Callback\n",
    "        and is used to write the number of training samples that the model has been trained on\n",
    "        and the loss for a epoch\n",
    "    \"\"\"\n",
    "        \n",
    "    def __init__(self, config):\n",
    "        \"\"\"Save params in constructor\n",
    "        config: Is a dictionary loaded from a JSON file which is used to keep track of training\n",
    "        \"\"\"\n",
    "        self.config = config\n",
    "        self.config_path = config['config_path']\n",
    "        self.config['history']['IoU_T'] = []\n",
    "\n",
    "    def on_epoch_end(self, epoch, logs):\n",
    "        \"\"\"\n",
    "        Updates the history of the config dict and saves it to a file\n",
    "        \"\"\"\n",
    "        # How many effective training samples have been used\n",
    "        self.config['history']['training_samples_used'] += self.config['samples_used']\n",
    "        # Logs the loss of the current epoch\n",
    "        self.config['history']['loss'].append(logs['loss'])\n",
    "        '''\n",
    "        X_val, y_val = self.validation_data[0], self.validation_data[1]\n",
    "        yhat = np.asarray(self.model.predict(X_val))\n",
    "        yhat = OHE_uncoding(yhat, mapping)\n",
    "        yhat = OHE(yhat, mapping)\n",
    "        #print('yhat shape:', yhat.shape, sep=\" \")\n",
    "        #print('yhat unique:', np.unique(yhat), sep=\" \")\n",
    "        self.config['history']['IoU_T'].append(IoU_T(y_val, yhat))\n",
    "        '''\n",
    "        print_used_GB()\n",
    "        \n",
    "        #fixme: add the same code but for \"val_loss\"\n",
    "        # Save new config file\n",
    "        with open(self.config_path, \"w\") as f:\n",
    "            f.write(json.dumps(self.config))\n",
    "\n",
    "print('Finished')\n",
    "print_used_GB()"
   ]
  },
  {
   "cell_type": "markdown",
   "metadata": {},
   "source": [
    "# Loading the corrected brats data"
   ]
  },
  {
   "cell_type": "code",
   "execution_count": null,
   "metadata": {},
   "outputs": [],
   "source": [
    "import ants\n",
    "import matplotlib.pyplot as plt\n",
    "import numpy as np\n",
    "import glob\n",
    "from os import listdir\n",
    "\n",
    "t1_path = \"brats/0_t1_corrected.nii.gz\"\n",
    "img = ants.image_read(t1_path)\n",
    "img = img.numpy()\n",
    "shape = img.shape\n",
    "num_patients = 5\n",
    "modalities = 4\n",
    "\n",
    "data = np.zeros((shape[2]*num_patients, shape[0], shape[1], modalities))\n",
    "OHE_labels = np.zeros((shape[2]*num_patients, shape[0], shape[1], len(mapping)))\n",
    "\n",
    "num_slices = shape[2]\n",
    "for i in range(num_patients):\n",
    "    print('Patient ' + str(i))\n",
    "    t1_path = \"brats/\" + str(i) + \"_t1_corrected.nii.gz\"\n",
    "    t1ce_path = \"brats/\" + str(i) + \"_t1ce_corrected.nii.gz\"\n",
    "    t2_path = \"brats/\" + str(i) + \"_t2_corrected.nii.gz\"\n",
    "    flair_path = \"brats/\" + str(i) + \"_flair_corrected.nii.gz\"\n",
    "    gt_path = \"brats/\" + str(i) + \"_seg.nii.gz\"\n",
    "\n",
    "    img_t1 = ants.image_read(t1_path)\n",
    "    img_t1ce = ants.image_read(t1ce_path)\n",
    "    img_t2 = ants.image_read(t2_path)\n",
    "    img_flair = ants.image_read(flair_path)\n",
    "    img_gt = ants.image_read(gt_path)\n",
    "\n",
    "    img_t1 = img_t1.numpy()\n",
    "    img_t1ce = img_t1ce.numpy()\n",
    "    img_t2 = img_t2.numpy()\n",
    "    img_flair = img_flair.numpy()\n",
    "    img_gt = img_gt.numpy()\n",
    "    \n",
    "    # Trying to normalize data\n",
    "    img_t1 = img_t1/np.max(img_t1)\n",
    "    img_t1ce = img_t1ce/np.max(img_t1ce)\n",
    "    img_t2 = img_t2/np.max(img_t2)\n",
    "    img_flair = img_flair/np.max(img_flair)\n",
    "    \n",
    "    # The last axis will become the first axis\n",
    "    data[(i*num_slices):((i+1)*num_slices), :, :, 0] = np.moveaxis(img_t1, -1, 0)\n",
    "    data[(i*num_slices):((i+1)*num_slices), :, :, 1] = np.moveaxis(img_t1ce, -1, 0)\n",
    "    data[(i*num_slices):((i+1)*num_slices), :, :, 2] = np.moveaxis(img_t2, -1, 0)\n",
    "    data[(i*num_slices):((i+1)*num_slices), :, :, 3] = np.moveaxis(img_flair, -1, 0)\n",
    "    \n",
    "    for j in range(num_slices):\n",
    "        OHE_labels[i*num_slices+j, :, :, :] = OHE(img_gt[:, :, j], mapping)"
   ]
  },
  {
   "cell_type": "code",
   "execution_count": null,
   "metadata": {},
   "outputs": [],
   "source": [
    "# This will show a slice of the last patient\n",
    "ind = 70\n",
    "plot_modalities(data[ind])"
   ]
  },
  {
   "cell_type": "code",
   "execution_count": null,
   "metadata": {},
   "outputs": [],
   "source": [
    "# Visualise one hot encoding\n",
    "my_OHE = OHE(img_gt[:, :, ind], mapping)\n",
    "test = 155 - 70\n",
    "my_OHE = OHE_labels[-test, :, :, :]\n",
    "plot_OHE(my_OHE)"
   ]
  },
  {
   "cell_type": "markdown",
   "metadata": {},
   "source": [
    "# Read raw data HGG\n",
    "Loads the first patient among the patients with HGG"
   ]
  },
  {
   "cell_type": "code",
   "execution_count": 9,
   "metadata": {},
   "outputs": [
    {
     "name": "stderr",
     "output_type": "stream",
     "text": [
      "/Users/linuslagergren/anaconda/lib/python3.6/site-packages/ipykernel_launcher.py:74: RuntimeWarning: invalid value encountered in true_divide\n"
     ]
    },
    {
     "name": "stdout",
     "output_type": "stream",
     "text": [
      "Finished\n",
      "Used RAM(GB): 1.461891072\n"
     ]
    }
   ],
   "source": [
    "import ants\n",
    "import matplotlib.pyplot as plt\n",
    "import numpy as np\n",
    "import glob\n",
    "from os import listdir\n",
    "\n",
    "t1_path = \"MICCAI_BraTS_2019_Data_Training/HGG/BraTS19_2013_10_1/BraTS19_2013_10_1_t1.nii.gz\"\n",
    "t1ce_path = \"MICCAI_BraTS_2019_Data_Training/HGG/BraTS19_2013_10_1/BraTS19_2013_10_1_t1ce.nii.gz\"\n",
    "t2_path = \"MICCAI_BraTS_2019_Data_Training/HGG/BraTS19_2013_10_1/BraTS19_2013_10_1_t2.nii.gz\"\n",
    "flair_path = \"MICCAI_BraTS_2019_Data_Training/HGG/BraTS19_2013_10_1/BraTS19_2013_10_1_flair.nii.gz\"\n",
    "gt_path = \"MICCAI_BraTS_2019_Data_Training/HGG/BraTS19_2013_10_1/BraTS19_2013_10_1_seg.nii.gz\"\n",
    "\n",
    "img_t1 = ants.image_read(t1_path)\n",
    "img_t1ce = ants.image_read(t1ce_path)\n",
    "img_t2 = ants.image_read(t2_path)\n",
    "img_flair = ants.image_read(flair_path)\n",
    "img_gt = ants.image_read(gt_path)\n",
    "\n",
    "img_t1 = img_t1.numpy()\n",
    "img_t1ce = img_t1ce.numpy()\n",
    "img_t2 = img_t2.numpy()\n",
    "img_flair = img_flair.numpy()\n",
    "img_gt = img_gt.numpy()\n",
    "\n",
    "# I have here chosen to do shift and scale per image, which is not the only way to do it.\n",
    "for i in range(img_t1.shape[2]):\n",
    "    # shift and scale data\n",
    "    img_t1[:, :, i] = shift_and_scale(img_t1[:, :, i])\n",
    "    img_t1ce[:, :, i] = shift_and_scale(img_t1ce[:, :, i])\n",
    "    img_t2[:, :, i] = shift_and_scale(img_t2[:, :, i])\n",
    "    img_flair[:, :, i] = shift_and_scale(img_flair[:, :, i])\n",
    "    \n",
    "uncorrected_data = np.zeros((155, 240, 240, 4))\n",
    "\n",
    "# The last axis will become the first axis\n",
    "uncorrected_data[:, :, :, 0] = np.moveaxis(img_t1, -1, 0)\n",
    "uncorrected_data[:, :, :, 1] = np.moveaxis(img_t1ce, -1, 0)\n",
    "uncorrected_data[:, :, :, 2] = np.moveaxis(img_t2, -1, 0)\n",
    "uncorrected_data[:, :, :, 3] = np.moveaxis(img_flair, -1, 0)\n",
    "\n",
    "num_slices = 155\n",
    "uncorrected_OHE_labels = np.zeros((num_slices, 240, 240, 4))\n",
    "\n",
    "for j in range(num_slices):\n",
    "    uncorrected_OHE_labels[j, :, :, :] = OHE(img_gt[:, :, j], mapping)\n",
    "print('Finished')\n",
    "print_used_GB()"
   ]
  },
  {
   "cell_type": "markdown",
   "metadata": {},
   "source": [
    "# Read raw data LGG"
   ]
  },
  {
   "cell_type": "code",
   "execution_count": null,
   "metadata": {},
   "outputs": [],
   "source": [
    "import ants\n",
    "import matplotlib.pyplot as plt\n",
    "import numpy as np\n",
    "import glob\n",
    "from os import listdir\n",
    "\n",
    "t1_path = \"MICCAI_BraTS_2019_Data_Training/LGG/BraTS19_2013_0_1/BraTS19_2013_0_1_t1.nii.gz\"\n",
    "t1ce_path = \"MICCAI_BraTS_2019_Data_Training/LGG/BraTS19_2013_0_1/BraTS19_2013_0_1_t1ce.nii.gz\"\n",
    "t2_path = \"MICCAI_BraTS_2019_Data_Training/LGG/BraTS19_2013_0_1/BraTS19_2013_0_1_t2.nii.gz\"\n",
    "flair_path = \"MICCAI_BraTS_2019_Data_Training/LGG/BraTS19_2013_0_1/BraTS19_2013_0_1_flair.nii.gz\"\n",
    "gt_path = \"MICCAI_BraTS_2019_Data_Training/LGG/BraTS19_2013_0_1/BraTS19_2013_0_1_seg.nii.gz\"\n",
    "\n",
    "img_t1 = ants.image_read(t1_path)\n",
    "img_t1ce = ants.image_read(t1ce_path)\n",
    "img_t2 = ants.image_read(t2_path)\n",
    "img_flair = ants.image_read(flair_path)\n",
    "img_gt = ants.image_read(gt_path)\n",
    "\n",
    "img_t1 = img_t1.numpy()\n",
    "img_t1ce = img_t1ce.numpy()\n",
    "img_t2 = img_t2.numpy()\n",
    "img_flair = img_flair.numpy()\n",
    "img_gt = img_gt.numpy()\n",
    "\n",
    "# I have here chosen to do shift and scale per image, which is not the only way to do it.\n",
    "for i in range(img_t1.shape[2]):\n",
    "    # shift and scale data\n",
    "    img_t1[:, :, i] = shift_and_scale(img_t1[:, :, i])\n",
    "    img_t1ce[:, :, i] = shift_and_scale(img_t1ce[:, :, i])\n",
    "    img_t2[:, :, i] = shift_and_scale(img_t2[:, :, i])\n",
    "    img_flair[:, :, i] = shift_and_scale(img_flair[:, :, i])\n",
    "    \n",
    "uncorrected_data = np.zeros((155, 240, 240, 4))\n",
    "\n",
    "# The last axis will become the first axis\n",
    "uncorrected_data[:, :, :, 0] = np.moveaxis(img_t1, -1, 0)\n",
    "uncorrected_data[:, :, :, 1] = np.moveaxis(img_t1ce, -1, 0)\n",
    "uncorrected_data[:, :, :, 2] = np.moveaxis(img_t2, -1, 0)\n",
    "uncorrected_data[:, :, :, 3] = np.moveaxis(img_flair, -1, 0)\n",
    "\n",
    "uncorrected_OHE_labels = np.zeros((155, 240, 240, 4))\n",
    "\n",
    "print(np.unique(img_gt))\n",
    "\n",
    "num_slices = 155\n",
    "for j in range(num_slices):\n",
    "    uncorrected_OHE_labels[j, :, :, :] = OHE(img_gt[:, :, j], mapping)"
   ]
  },
  {
   "cell_type": "code",
   "execution_count": 3,
   "metadata": {},
   "outputs": [
    {
     "data": {
      "image/png": "[encoded data removed]",
      "text/plain": [
       "<Figure size 432x288 with 8 Axes>"
      ]
     },
     "metadata": {
      "needs_background": "light"
     },
     "output_type": "display_data"
    }
   ],
   "source": [
    "x = uncorrected_data[70,:,:,:]\n",
    "plot_modalities(x)"
   ]
  },
  {
   "cell_type": "code",
   "execution_count": 4,
   "metadata": {},
   "outputs": [
    {
     "data": {
      "image/png": "[encoded data removed]",
      "text/plain": [
       "<Figure size 432x288 with 8 Axes>"
      ]
     },
     "metadata": {
      "needs_background": "light"
     },
     "output_type": "display_data"
    }
   ],
   "source": [
    "plot_OHE(uncorrected_OHE_labels[70, :, :, :])"
   ]
  },
  {
   "cell_type": "markdown",
   "metadata": {},
   "source": [
    "# UNet definition"
   ]
  },
  {
   "cell_type": "code",
   "execution_count": 14,
   "metadata": {},
   "outputs": [],
   "source": [
    "import numpy as np\n",
    "import os\n",
    "import skimage.io as io\n",
    "import skimage.transform as trans\n",
    "import numpy as np\n",
    "from keras.models import *\n",
    "from keras.layers import *\n",
    "from keras.optimizers import *\n",
    "from keras.callbacks import ModelCheckpoint, LearningRateScheduler\n",
    "from keras import metrics\n",
    "from keras import backend as keras\n",
    "\n",
    "def unet(pretrained_weights = None, input_size = (256, 256, 1), num_classes=1):\n",
    "  inputs = Input(input_size)\n",
    "  conv1 = Conv2D(64, 3, activation = 'relu', padding = 'same', kernel_initializer = 'he_normal')(inputs)\n",
    "  conv1 = Conv2D(64, 3, activation = 'relu', padding = 'same', kernel_initializer = 'he_normal')(conv1)\n",
    "  pool1 = MaxPooling2D(pool_size = (2, 2))(conv1)\n",
    "  \n",
    "  conv2 = Conv2D(128, 3, activation = 'relu', padding = 'same', kernel_initializer = 'he_normal')(pool1)\n",
    "  conv2 = Conv2D(128, 3, activation = 'relu', padding = 'same', kernel_initializer = 'he_normal')(conv2)\n",
    "  pool2 = MaxPooling2D(pool_size = (2, 2))(conv2)\n",
    "  \n",
    "  conv3 = Conv2D(256, 3, activation = 'relu', padding = 'same', kernel_initializer = 'he_normal')(pool2)\n",
    "  conv3 = Conv2D(256, 3, activation = 'relu', padding = 'same', kernel_initializer = 'he_normal')(conv3)\n",
    "  pool3 = MaxPooling2D(pool_size = (2, 2))(conv3)\n",
    "  \n",
    "  conv4 = Conv2D(512, 3, activation = 'relu', padding = 'same', kernel_initializer = 'he_normal')(pool3)\n",
    "  conv4 = Conv2D(512, 3, activation = 'relu', padding = 'same', kernel_initializer = 'he_normal')(conv4)\n",
    "  drop4 = Dropout(0.5)(conv4)\n",
    "  pool4 = MaxPooling2D(pool_size = (2, 2))(drop4)\n",
    "  \n",
    "  conv5 = Conv2D(1024, 3, activation = 'relu', padding = 'same', kernel_initializer = 'he_normal')(pool4)\n",
    "  conv5 = Conv2D(1024, 3, activation = 'relu', padding = 'same', kernel_initializer = 'he_normal')(conv5)\n",
    "  drop5 = Dropout(0.5)(conv5)\n",
    "  \n",
    "  up6 = Conv2D(512, 2, activation = 'relu', padding = 'same', kernel_initializer = 'he_normal')(UpSampling2D(size = (2, 2))(drop5))\n",
    "  merge6 = concatenate([drop4, up6], axis = 3)\n",
    "  conv6 = Conv2D(512, 3, activation = 'relu', padding = 'same', kernel_initializer = 'he_normal')(merge6)\n",
    "  conv6 = Conv2D(512, 3, activation = 'relu', padding = 'same', kernel_initializer = 'he_normal')(conv6)\n",
    "  \n",
    "  up7 = Conv2D(256, 2, activation = 'relu', padding = 'same', kernel_initializer = 'he_normal')(UpSampling2D(size = (2, 2))(conv6))\n",
    "  merge7 = concatenate([conv3, up7], axis = 3)\n",
    "  conv7 = Conv2D(256, 3, activation = 'relu', padding = 'same', kernel_initializer = 'he_normal')(merge7)\n",
    "  conv7 = Conv2D(256, 3, activation = 'relu', padding = 'same', kernel_initializer = 'he_normal')(conv7)\n",
    "  \n",
    "  up8 = Conv2D(128, 2, activation = 'relu', padding = 'same', kernel_initializer = 'he_normal')(UpSampling2D(size = (2, 2))(conv7))\n",
    "  merge8 = concatenate([conv2, up8], axis = 3)\n",
    "  conv8 = Conv2D(128, 3, activation = 'relu', padding = 'same', kernel_initializer = 'he_normal')(merge8)\n",
    "  conv8 = Conv2D(128, 3, activation = 'relu', padding = 'same', kernel_initializer = 'he_normal')(conv8)\n",
    "  \n",
    "  up9 = Conv2D(64, 2, activation = 'relu', padding = 'same', kernel_initializer = 'he_normal')(UpSampling2D(size = (2, 2))(conv8))\n",
    "  merge9 = concatenate([conv1, up9], axis = 3)\n",
    "  conv9 = Conv2D(64, 3, activation = 'relu', padding = 'same', kernel_initializer = 'he_normal')(merge9)\n",
    "  conv9 = Conv2D(64, 3, activation = 'relu', padding = 'same', kernel_initializer = 'he_normal')(conv9)\n",
    "  conv9 = Conv2D(num_classes, 3, activation = 'relu', padding = 'same', kernel_initializer = 'he_normal')(conv9)\n",
    "  \n",
    "  # Not sure what the three lines below are doing\n",
    "  reshape = Reshape((num_classes, input_size[0] * input_size[1]), input_shape = (num_classes, input_size[0], input_size[1]))(conv9)\n",
    "  permute = Permute((2, 1))(reshape)\n",
    "  activation = Softmax(axis=-1)(permute)\n",
    "  \n",
    "  model = Model(input = inputs, output = activation)\n",
    "  model.compile(\n",
    "      optimizer = Adam(lr=0.0001), \n",
    "      loss = 'categorical_crossentropy', \n",
    "      metrics = ['accuracy']\n",
    "  )\n",
    "    \n",
    "  if (pretrained_weights):\n",
    "    model.load_weights(pretrained_weights)\n",
    "  return model"
   ]
  },
  {
   "cell_type": "code",
   "execution_count": 16,
   "metadata": {},
   "outputs": [
    {
     "name": "stderr",
     "output_type": "stream",
     "text": [
      "WARNING: Logging before flag parsing goes to stderr.\n",
      "W1004 14:43:56.872013 4661622208 deprecation_wrapper.py:119] From /Users/linuslagergren/anaconda/lib/python3.6/site-packages/keras/backend/tensorflow_backend.py:66: The name tf.get_default_graph is deprecated. Please use tf.compat.v1.get_default_graph instead.\n",
      "\n",
      "W1004 14:43:56.904989 4661622208 deprecation_wrapper.py:119] From /Users/linuslagergren/anaconda/lib/python3.6/site-packages/keras/backend/tensorflow_backend.py:541: The name tf.placeholder is deprecated. Please use tf.compat.v1.placeholder instead.\n",
      "\n",
      "W1004 14:43:56.935176 4661622208 deprecation_wrapper.py:119] From /Users/linuslagergren/anaconda/lib/python3.6/site-packages/keras/backend/tensorflow_backend.py:4479: The name tf.truncated_normal is deprecated. Please use tf.random.truncated_normal instead.\n",
      "\n",
      "W1004 14:43:56.988606 4661622208 deprecation_wrapper.py:119] From /Users/linuslagergren/anaconda/lib/python3.6/site-packages/keras/backend/tensorflow_backend.py:4267: The name tf.nn.max_pool is deprecated. Please use tf.nn.max_pool2d instead.\n",
      "\n",
      "W1004 14:43:57.070499 4661622208 deprecation_wrapper.py:119] From /Users/linuslagergren/anaconda/lib/python3.6/site-packages/keras/backend/tensorflow_backend.py:148: The name tf.placeholder_with_default is deprecated. Please use tf.compat.v1.placeholder_with_default instead.\n",
      "\n"
     ]
    },
    {
     "name": "stdout",
     "output_type": "stream",
     "text": [
      "Used RAM(GB): 1.474838528\n"
     ]
    },
    {
     "name": "stderr",
     "output_type": "stream",
     "text": [
      "W1004 14:43:57.080463 4661622208 deprecation.py:506] From /Users/linuslagergren/anaconda/lib/python3.6/site-packages/keras/backend/tensorflow_backend.py:3733: calling dropout (from tensorflow.python.ops.nn_ops) with keep_prob is deprecated and will be removed in a future version.\n",
      "Instructions for updating:\n",
      "Please use `rate` instead of `keep_prob`. Rate should be set to `rate = 1 - keep_prob`.\n",
      "W1004 14:43:57.160099 4661622208 deprecation_wrapper.py:119] From /Users/linuslagergren/anaconda/lib/python3.6/site-packages/keras/backend/tensorflow_backend.py:2239: The name tf.image.resize_nearest_neighbor is deprecated. Please use tf.compat.v1.image.resize_nearest_neighbor instead.\n",
      "\n",
      "/Users/linuslagergren/anaconda/lib/python3.6/site-packages/ipykernel_launcher.py:62: UserWarning: Update your `Model` call to the Keras 2 API: `Model(inputs=Tensor(\"in..., outputs=Tensor(\"so...)`\n",
      "W1004 14:43:57.345816 4661622208 deprecation_wrapper.py:119] From /Users/linuslagergren/anaconda/lib/python3.6/site-packages/keras/optimizers.py:793: The name tf.train.Optimizer is deprecated. Please use tf.compat.v1.train.Optimizer instead.\n",
      "\n",
      "W1004 14:43:57.352839 4661622208 deprecation_wrapper.py:119] From /Users/linuslagergren/anaconda/lib/python3.6/site-packages/keras/backend/tensorflow_backend.py:3576: The name tf.log is deprecated. Please use tf.math.log instead.\n",
      "\n"
     ]
    },
    {
     "name": "stdout",
     "output_type": "stream",
     "text": [
      "Used RAM(GB): 1.483395072\n"
     ]
    }
   ],
   "source": [
    "print_used_GB()\n",
    "my_unet = unet()\n",
    "print_used_GB()"
   ]
  },
  {
   "cell_type": "markdown",
   "metadata": {},
   "source": [
    "# With custom callback\n",
    "Overfit model on 1 data point of uncorrected data"
   ]
  },
  {
   "cell_type": "code",
   "execution_count": 47,
   "metadata": {},
   "outputs": [
    {
     "name": "stdout",
     "output_type": "stream",
     "text": [
      "{'weights_path': 'testing_metric/session_0_weights.h5', 'config_path': 'testing_metric/config.json', 'samples_used': 1, 'keep_training': False, 'history': {'training_samples_used': 0, 'loss': [], 'val_loss': [], 'IoU_T': []}, 'IoU': []}\n",
      "Used RAM(GB): 1.856028672\n"
     ]
    }
   ],
   "source": [
    "import json\n",
    "# Set current training session\n",
    "config_path = \"testing_metric/config.json\"\n",
    "with open(config_path, 'r') as f:\n",
    "    config = json.loads(f.read())\n",
    "reset_config(config)\n",
    "print(config)\n",
    "del my_unet\n",
    "del x\n",
    "del y\n",
    "print_used_GB()\n"
   ]
  },
  {
   "cell_type": "code",
   "execution_count": 48,
   "metadata": {},
   "outputs": [
    {
     "name": "stderr",
     "output_type": "stream",
     "text": [
      "/Users/linuslagergren/anaconda/lib/python3.6/site-packages/ipykernel_launcher.py:62: UserWarning: Update your `Model` call to the Keras 2 API: `Model(inputs=Tensor(\"in..., outputs=Tensor(\"so...)`\n"
     ]
    },
    {
     "name": "stdout",
     "output_type": "stream",
     "text": [
      "Epoch 1/10\n",
      "155/155 [==============================] - 541s 3s/step - loss: nan - acc: 0.8840\n",
      "Used RAM(GB): 1.463697408\n",
      "Epoch 2/10\n",
      "155/155 [==============================] - 509s 3s/step - loss: nan - acc: 0.9875\n",
      "Used RAM(GB): 1.669402624\n",
      "Epoch 3/10\n",
      " 32/155 [=====>........................] - ETA: 6:34 - loss: nan - acc: 0.9859"
     ]
    },
    {
     "ename": "KeyboardInterrupt",
     "evalue": "",
     "output_type": "error",
     "traceback": [
      "\u001b[0;31m---------------------------------------------------------------------------\u001b[0m",
      "\u001b[0;31mKeyboardInterrupt\u001b[0m                         Traceback (most recent call last)",
      "\u001b[0;32m<ipython-input-48-a2abc8961b7d>\u001b[0m in \u001b[0;36m<module>\u001b[0;34m\u001b[0m\n\u001b[1;32m     46\u001b[0m                       \u001b[0msteps_per_epoch\u001b[0m\u001b[0;34m=\u001b[0m\u001b[0;32mNone\u001b[0m\u001b[0;34m,\u001b[0m\u001b[0;34m\u001b[0m\u001b[0;34m\u001b[0m\u001b[0m\n\u001b[1;32m     47\u001b[0m                       \u001b[0mvalidation_steps\u001b[0m\u001b[0;34m=\u001b[0m\u001b[0;32mNone\u001b[0m\u001b[0;34m,\u001b[0m\u001b[0;34m\u001b[0m\u001b[0;34m\u001b[0m\u001b[0m\n\u001b[0;32m---> 48\u001b[0;31m                       validation_freq=1)\n\u001b[0m",
      "\u001b[0;32m~/anaconda/lib/python3.6/site-packages/keras/engine/training.py\u001b[0m in \u001b[0;36mfit\u001b[0;34m(self, x, y, batch_size, epochs, verbose, callbacks, validation_split, validation_data, shuffle, class_weight, sample_weight, initial_epoch, steps_per_epoch, validation_steps, validation_freq, max_queue_size, workers, use_multiprocessing, **kwargs)\u001b[0m\n\u001b[1;32m   1176\u001b[0m                                         \u001b[0msteps_per_epoch\u001b[0m\u001b[0;34m=\u001b[0m\u001b[0msteps_per_epoch\u001b[0m\u001b[0;34m,\u001b[0m\u001b[0;34m\u001b[0m\u001b[0;34m\u001b[0m\u001b[0m\n\u001b[1;32m   1177\u001b[0m                                         \u001b[0mvalidation_steps\u001b[0m\u001b[0;34m=\u001b[0m\u001b[0mvalidation_steps\u001b[0m\u001b[0;34m,\u001b[0m\u001b[0;34m\u001b[0m\u001b[0;34m\u001b[0m\u001b[0m\n\u001b[0;32m-> 1178\u001b[0;31m                                         validation_freq=validation_freq)\n\u001b[0m\u001b[1;32m   1179\u001b[0m \u001b[0;34m\u001b[0m\u001b[0m\n\u001b[1;32m   1180\u001b[0m     def evaluate(self,\n",
      "\u001b[0;32m~/anaconda/lib/python3.6/site-packages/keras/engine/training_arrays.py\u001b[0m in \u001b[0;36mfit_loop\u001b[0;34m(model, fit_function, fit_inputs, out_labels, batch_size, epochs, verbose, callbacks, val_function, val_inputs, shuffle, callback_metrics, initial_epoch, steps_per_epoch, validation_steps, validation_freq)\u001b[0m\n\u001b[1;32m    202\u001b[0m                     \u001b[0mins_batch\u001b[0m\u001b[0;34m[\u001b[0m\u001b[0mi\u001b[0m\u001b[0;34m]\u001b[0m \u001b[0;34m=\u001b[0m \u001b[0mins_batch\u001b[0m\u001b[0;34m[\u001b[0m\u001b[0mi\u001b[0m\u001b[0;34m]\u001b[0m\u001b[0;34m.\u001b[0m\u001b[0mtoarray\u001b[0m\u001b[0;34m(\u001b[0m\u001b[0;34m)\u001b[0m\u001b[0;34m\u001b[0m\u001b[0;34m\u001b[0m\u001b[0m\n\u001b[1;32m    203\u001b[0m \u001b[0;34m\u001b[0m\u001b[0m\n\u001b[0;32m--> 204\u001b[0;31m                 \u001b[0mouts\u001b[0m \u001b[0;34m=\u001b[0m \u001b[0mfit_function\u001b[0m\u001b[0;34m(\u001b[0m\u001b[0mins_batch\u001b[0m\u001b[0;34m)\u001b[0m\u001b[0;34m\u001b[0m\u001b[0;34m\u001b[0m\u001b[0m\n\u001b[0m\u001b[1;32m    205\u001b[0m                 \u001b[0mouts\u001b[0m \u001b[0;34m=\u001b[0m \u001b[0mto_list\u001b[0m\u001b[0;34m(\u001b[0m\u001b[0mouts\u001b[0m\u001b[0;34m)\u001b[0m\u001b[0;34m\u001b[0m\u001b[0;34m\u001b[0m\u001b[0m\n\u001b[1;32m    206\u001b[0m                 \u001b[0;32mfor\u001b[0m \u001b[0ml\u001b[0m\u001b[0;34m,\u001b[0m \u001b[0mo\u001b[0m \u001b[0;32min\u001b[0m \u001b[0mzip\u001b[0m\u001b[0;34m(\u001b[0m\u001b[0mout_labels\u001b[0m\u001b[0;34m,\u001b[0m \u001b[0mouts\u001b[0m\u001b[0;34m)\u001b[0m\u001b[0;34m:\u001b[0m\u001b[0;34m\u001b[0m\u001b[0;34m\u001b[0m\u001b[0m\n",
      "\u001b[0;32m~/anaconda/lib/python3.6/site-packages/keras/backend/tensorflow_backend.py\u001b[0m in \u001b[0;36m__call__\u001b[0;34m(self, inputs)\u001b[0m\n\u001b[1;32m   2977\u001b[0m                     \u001b[0;32mreturn\u001b[0m \u001b[0mself\u001b[0m\u001b[0;34m.\u001b[0m\u001b[0m_legacy_call\u001b[0m\u001b[0;34m(\u001b[0m\u001b[0minputs\u001b[0m\u001b[0;34m)\u001b[0m\u001b[0;34m\u001b[0m\u001b[0;34m\u001b[0m\u001b[0m\n\u001b[1;32m   2978\u001b[0m \u001b[0;34m\u001b[0m\u001b[0m\n\u001b[0;32m-> 2979\u001b[0;31m             \u001b[0;32mreturn\u001b[0m \u001b[0mself\u001b[0m\u001b[0;34m.\u001b[0m\u001b[0m_call\u001b[0m\u001b[0;34m(\u001b[0m\u001b[0minputs\u001b[0m\u001b[0;34m)\u001b[0m\u001b[0;34m\u001b[0m\u001b[0;34m\u001b[0m\u001b[0m\n\u001b[0m\u001b[1;32m   2980\u001b[0m         \u001b[0;32melse\u001b[0m\u001b[0;34m:\u001b[0m\u001b[0;34m\u001b[0m\u001b[0;34m\u001b[0m\u001b[0m\n\u001b[1;32m   2981\u001b[0m             \u001b[0;32mif\u001b[0m \u001b[0mpy_any\u001b[0m\u001b[0;34m(\u001b[0m\u001b[0mis_tensor\u001b[0m\u001b[0;34m(\u001b[0m\u001b[0mx\u001b[0m\u001b[0;34m)\u001b[0m \u001b[0;32mfor\u001b[0m \u001b[0mx\u001b[0m \u001b[0;32min\u001b[0m \u001b[0minputs\u001b[0m\u001b[0;34m)\u001b[0m\u001b[0;34m:\u001b[0m\u001b[0;34m\u001b[0m\u001b[0;34m\u001b[0m\u001b[0m\n",
      "\u001b[0;32m~/anaconda/lib/python3.6/site-packages/keras/backend/tensorflow_backend.py\u001b[0m in \u001b[0;36m_call\u001b[0;34m(self, inputs)\u001b[0m\n\u001b[1;32m   2935\u001b[0m             \u001b[0mfetched\u001b[0m \u001b[0;34m=\u001b[0m \u001b[0mself\u001b[0m\u001b[0;34m.\u001b[0m\u001b[0m_callable_fn\u001b[0m\u001b[0;34m(\u001b[0m\u001b[0;34m*\u001b[0m\u001b[0marray_vals\u001b[0m\u001b[0;34m,\u001b[0m \u001b[0mrun_metadata\u001b[0m\u001b[0;34m=\u001b[0m\u001b[0mself\u001b[0m\u001b[0;34m.\u001b[0m\u001b[0mrun_metadata\u001b[0m\u001b[0;34m)\u001b[0m\u001b[0;34m\u001b[0m\u001b[0;34m\u001b[0m\u001b[0m\n\u001b[1;32m   2936\u001b[0m         \u001b[0;32melse\u001b[0m\u001b[0;34m:\u001b[0m\u001b[0;34m\u001b[0m\u001b[0;34m\u001b[0m\u001b[0m\n\u001b[0;32m-> 2937\u001b[0;31m             \u001b[0mfetched\u001b[0m \u001b[0;34m=\u001b[0m \u001b[0mself\u001b[0m\u001b[0;34m.\u001b[0m\u001b[0m_callable_fn\u001b[0m\u001b[0;34m(\u001b[0m\u001b[0;34m*\u001b[0m\u001b[0marray_vals\u001b[0m\u001b[0;34m)\u001b[0m\u001b[0;34m\u001b[0m\u001b[0;34m\u001b[0m\u001b[0m\n\u001b[0m\u001b[1;32m   2938\u001b[0m         \u001b[0;32mreturn\u001b[0m \u001b[0mfetched\u001b[0m\u001b[0;34m[\u001b[0m\u001b[0;34m:\u001b[0m\u001b[0mlen\u001b[0m\u001b[0;34m(\u001b[0m\u001b[0mself\u001b[0m\u001b[0;34m.\u001b[0m\u001b[0moutputs\u001b[0m\u001b[0;34m)\u001b[0m\u001b[0;34m]\u001b[0m\u001b[0;34m\u001b[0m\u001b[0;34m\u001b[0m\u001b[0m\n\u001b[1;32m   2939\u001b[0m \u001b[0;34m\u001b[0m\u001b[0m\n",
      "\u001b[0;32m~/anaconda/lib/python3.6/site-packages/tensorflow/python/client/session.py\u001b[0m in \u001b[0;36m__call__\u001b[0;34m(self, *args, **kwargs)\u001b[0m\n\u001b[1;32m   1456\u001b[0m         ret = tf_session.TF_SessionRunCallable(self._session._session,\n\u001b[1;32m   1457\u001b[0m                                                \u001b[0mself\u001b[0m\u001b[0;34m.\u001b[0m\u001b[0m_handle\u001b[0m\u001b[0;34m,\u001b[0m \u001b[0margs\u001b[0m\u001b[0;34m,\u001b[0m\u001b[0;34m\u001b[0m\u001b[0;34m\u001b[0m\u001b[0m\n\u001b[0;32m-> 1458\u001b[0;31m                                                run_metadata_ptr)\n\u001b[0m\u001b[1;32m   1459\u001b[0m         \u001b[0;32mif\u001b[0m \u001b[0mrun_metadata\u001b[0m\u001b[0;34m:\u001b[0m\u001b[0;34m\u001b[0m\u001b[0;34m\u001b[0m\u001b[0m\n\u001b[1;32m   1460\u001b[0m           \u001b[0mproto_data\u001b[0m \u001b[0;34m=\u001b[0m \u001b[0mtf_session\u001b[0m\u001b[0;34m.\u001b[0m\u001b[0mTF_GetBuffer\u001b[0m\u001b[0;34m(\u001b[0m\u001b[0mrun_metadata_ptr\u001b[0m\u001b[0;34m)\u001b[0m\u001b[0;34m\u001b[0m\u001b[0;34m\u001b[0m\u001b[0m\n",
      "\u001b[0;31mKeyboardInterrupt\u001b[0m: "
     ]
    }
   ],
   "source": [
    "# The path to where to save weights and initialize ModelCheckpoint\n",
    "weights_path = config['weights_path']\n",
    "from keras.callbacks import ModelCheckpoint\n",
    "MyModelCheckPoint = ModelCheckpoint(weights_path, verbose=0, save_weights_only=True)\n",
    "\n",
    "if config['keep_training'] == True:\n",
    "    # Keep training on the old weights\n",
    "    my_unet.load_weights(weights_path)\n",
    "else:\n",
    "    # Initialize network\n",
    "    my_unet = unet(\n",
    "        input_size = (240, 240, 4), \n",
    "        num_classes = 4\n",
    "    )\n",
    "    config['keep_training'] = True\n",
    "    \n",
    "#i = 70 has all labels present in the image\n",
    "n = uncorrected_data.shape[0]\n",
    "#i = np.random.randint(n, size=[samples_used,])\n",
    "i = np.arange(0, 155)\n",
    "x = uncorrected_data[i, :, :, :]\n",
    "y = uncorrected_OHE_labels[i, :, :, :]\n",
    "\n",
    "x_val = uncorrected_data[i, :, :, :]\n",
    "y_val = uncorrected_OHE_labels[i, :, :, :]\n",
    "\n",
    "x = x.reshape(len(i), 240, 240, 4)\n",
    "x_val = x.reshape(len(i), 240, 240, 4)\n",
    "# You have to reshape the output in this hacky way for keras to be able to use softmax in last layer\n",
    "y = y.reshape(len(i), -1, 4)\n",
    "y_val = y.reshape(len(i), -1, 4)\n",
    "\n",
    "# Returns an object with accuracy and loss\n",
    "history = my_unet.fit(x=x, \n",
    "                      y=y, \n",
    "                      batch_size=None,\n",
    "                      epochs=10, \n",
    "                      verbose=1, \n",
    "                      callbacks=[CallbackJSON(config=config), MyModelCheckPoint],\n",
    "                      validation_split=0.0, \n",
    "                      #validation_data=(x_val, y_val),\n",
    "                      shuffle=True, \n",
    "                      class_weight=None, \n",
    "                      sample_weight=None, \n",
    "                      initial_epoch=0, \n",
    "                      steps_per_epoch=None, \n",
    "                      validation_steps=None, \n",
    "                      validation_freq=1)\n"
   ]
  },
  {
   "cell_type": "code",
   "execution_count": 46,
   "metadata": {},
   "outputs": [
    {
     "name": "stdout",
     "output_type": "stream",
     "text": [
      "[<tf.Variable 'conv2d_185/kernel:0' shape=(3, 3, 4, 64) dtype=float32_ref>, <tf.Variable 'conv2d_185/bias:0' shape=(64,) dtype=float32_ref>, <tf.Variable 'conv2d_186/kernel:0' shape=(3, 3, 64, 64) dtype=float32_ref>, <tf.Variable 'conv2d_186/bias:0' shape=(64,) dtype=float32_ref>, <tf.Variable 'conv2d_187/kernel:0' shape=(3, 3, 64, 128) dtype=float32_ref>, <tf.Variable 'conv2d_187/bias:0' shape=(128,) dtype=float32_ref>, <tf.Variable 'conv2d_188/kernel:0' shape=(3, 3, 128, 128) dtype=float32_ref>, <tf.Variable 'conv2d_188/bias:0' shape=(128,) dtype=float32_ref>, <tf.Variable 'conv2d_189/kernel:0' shape=(3, 3, 128, 256) dtype=float32_ref>, <tf.Variable 'conv2d_189/bias:0' shape=(256,) dtype=float32_ref>, <tf.Variable 'conv2d_190/kernel:0' shape=(3, 3, 256, 256) dtype=float32_ref>, <tf.Variable 'conv2d_190/bias:0' shape=(256,) dtype=float32_ref>, <tf.Variable 'conv2d_191/kernel:0' shape=(3, 3, 256, 512) dtype=float32_ref>, <tf.Variable 'conv2d_191/bias:0' shape=(512,) dtype=float32_ref>, <tf.Variable 'conv2d_192/kernel:0' shape=(3, 3, 512, 512) dtype=float32_ref>, <tf.Variable 'conv2d_192/bias:0' shape=(512,) dtype=float32_ref>, <tf.Variable 'conv2d_193/kernel:0' shape=(3, 3, 512, 1024) dtype=float32_ref>, <tf.Variable 'conv2d_193/bias:0' shape=(1024,) dtype=float32_ref>, <tf.Variable 'conv2d_194/kernel:0' shape=(3, 3, 1024, 1024) dtype=float32_ref>, <tf.Variable 'conv2d_194/bias:0' shape=(1024,) dtype=float32_ref>, <tf.Variable 'conv2d_195/kernel:0' shape=(2, 2, 1024, 512) dtype=float32_ref>, <tf.Variable 'conv2d_195/bias:0' shape=(512,) dtype=float32_ref>, <tf.Variable 'conv2d_196/kernel:0' shape=(3, 3, 1024, 512) dtype=float32_ref>, <tf.Variable 'conv2d_196/bias:0' shape=(512,) dtype=float32_ref>, <tf.Variable 'conv2d_197/kernel:0' shape=(3, 3, 512, 512) dtype=float32_ref>, <tf.Variable 'conv2d_197/bias:0' shape=(512,) dtype=float32_ref>, <tf.Variable 'conv2d_198/kernel:0' shape=(2, 2, 512, 256) dtype=float32_ref>, <tf.Variable 'conv2d_198/bias:0' shape=(256,) dtype=float32_ref>, <tf.Variable 'conv2d_199/kernel:0' shape=(3, 3, 512, 256) dtype=float32_ref>, <tf.Variable 'conv2d_199/bias:0' shape=(256,) dtype=float32_ref>, <tf.Variable 'conv2d_200/kernel:0' shape=(3, 3, 256, 256) dtype=float32_ref>, <tf.Variable 'conv2d_200/bias:0' shape=(256,) dtype=float32_ref>, <tf.Variable 'conv2d_201/kernel:0' shape=(2, 2, 256, 128) dtype=float32_ref>, <tf.Variable 'conv2d_201/bias:0' shape=(128,) dtype=float32_ref>, <tf.Variable 'conv2d_202/kernel:0' shape=(3, 3, 256, 128) dtype=float32_ref>, <tf.Variable 'conv2d_202/bias:0' shape=(128,) dtype=float32_ref>, <tf.Variable 'conv2d_203/kernel:0' shape=(3, 3, 128, 128) dtype=float32_ref>, <tf.Variable 'conv2d_203/bias:0' shape=(128,) dtype=float32_ref>, <tf.Variable 'conv2d_204/kernel:0' shape=(2, 2, 128, 64) dtype=float32_ref>, <tf.Variable 'conv2d_204/bias:0' shape=(64,) dtype=float32_ref>, <tf.Variable 'conv2d_205/kernel:0' shape=(3, 3, 128, 64) dtype=float32_ref>, <tf.Variable 'conv2d_205/bias:0' shape=(64,) dtype=float32_ref>, <tf.Variable 'conv2d_206/kernel:0' shape=(3, 3, 64, 64) dtype=float32_ref>, <tf.Variable 'conv2d_206/bias:0' shape=(64,) dtype=float32_ref>, <tf.Variable 'conv2d_207/kernel:0' shape=(3, 3, 64, 4) dtype=float32_ref>, <tf.Variable 'conv2d_207/bias:0' shape=(4,) dtype=float32_ref>]\n"
     ]
    }
   ],
   "source": [
    "# %whos\n",
    "import sys\n",
    "sys.getsizeof(my_unet.weights)\n",
    "print(my_unet.weights)"
   ]
  },
  {
   "cell_type": "code",
   "execution_count": 100,
   "metadata": {},
   "outputs": [
    {
     "name": "stderr",
     "output_type": "stream",
     "text": [
      "/Users/linuslagergren/anaconda/lib/python3.6/site-packages/ipykernel_launcher.py:62: UserWarning: Update your `Model` call to the Keras 2 API: `Model(inputs=Tensor(\"in..., outputs=Tensor(\"so...)`\n"
     ]
    },
    {
     "data": {
      "image/png": "[encoded data removed]",
      "text/plain": [
       "<Figure size 432x288 with 8 Axes>"
      ]
     },
     "metadata": {
      "needs_background": "light"
     },
     "output_type": "display_data"
    }
   ],
   "source": [
    "# Make a prediction on the sample we overfitted on\n",
    "j = 70\n",
    "\n",
    "my_unet = unet(input_size = (240, 240, 4), num_classes = 4)\n",
    "my_unet.load_weights(config['weights_path'])\n",
    "\n",
    "yhat = my_unet.predict(x = uncorrected_data[j, :, : ,:].reshape(1, 240, 240, 4))\n",
    "y = uncorrected_OHE_labels[j, :, : ,:]\n",
    "plot_OHE(yhat.reshape(240, 240, 4))"
   ]
  },
  {
   "cell_type": "code",
   "execution_count": 103,
   "metadata": {},
   "outputs": [
    {
     "data": {
      "text/plain": [
       "<matplotlib.image.AxesImage at 0x1dcea42390>"
      ]
     },
     "execution_count": 103,
     "metadata": {},
     "output_type": "execute_result"
    },
    {
     "data": {
      "image/png": "[encoded data removed]",
      "text/plain": [
       "<Figure size 432x288 with 2 Axes>"
      ]
     },
     "metadata": {
      "needs_background": "light"
     },
     "output_type": "display_data"
    }
   ],
   "source": [
    "# Compare prediction with ground truth\n",
    "yhat1 = yhat.reshape(240, 240, 4)\n",
    "y1 = y.reshape(240, 240, 4)\n",
    "\n",
    "plt.subplot('121')\n",
    "#plt.imshow(uncorrected_data[j, :, :, 0])\n",
    "#plt.imshow(OHE_uncoding(yhat1, mapping),alpha=.5)\n",
    "plt.imshow(OHE_uncoding(yhat1, mapping))\n",
    "plt.subplot('122')\n",
    "#plt.imshow(uncorrected_data[j, :, :, 0])\n",
    "#plt.imshow(OHE_uncoding(y1, mapping),alpha=.5)\n",
    "plt.imshow(OHE_uncoding(y1, mapping))"
   ]
  },
  {
   "cell_type": "code",
   "execution_count": 74,
   "metadata": {},
   "outputs": [
    {
     "name": "stdout",
     "output_type": "stream",
     "text": [
      "[0.40612352630652826, 0.0008115126595974897, 0.4462474645030426, 0.039561129620261995, 0.25302663438256656, 0.0005220991988477811, 0.041107382550335574, 0.0012271931565934562, 0.1886945912972753, 0.008873161797393175, 0.30058479532163745, 0.0012042562369688691, 0.1517040731504572, 0.0025908124430467955, 0.3751962323390895, 0.0076073880121718205, 0.4143028365960847, 0.0013928820157502813, 0.39295831647106433, 0.004074648980455797, 0.6044340723453909, 0.003933813152695456, 0.3361788617886179, 0.005110823232950613, 0.5337023770758711, 0.011553273427471117, 0.4815390594636611, 0.001657045114389566, 0.3292181069958848, 0.0031464328643145017, 0.6217725052337753, 0.0059967642093415865, 0.46012024048096195, 0.0009443543645207847, 0.5866505830317652, 0.003328460983040699, 0.5560016057808109, 0.0012974779162149193, 0.42283822920976416, 0.0037314746365332487, 0.6799420709630702, 0.004657457204119653, 0.3920686835650041, 0.0008058306323084362, 0.38810900082576383, 0.0027558429169537335, 0.6411449016100179, 0.005807425082461927, 0.566734279918864, 0.0005710716516462925, 0.4289308176100629, 0.002884683036656582, 0.7175518818149842, 0.005342254606599874, 0.4645242070116861, 0.0005705727123600314, 0.5676338373518595, 0.0034104493354897686, 0.6759045419553503, 0.0023417966686621826, 0.5031133250311333, 0.0005182736127245108, 0.4391642769356821, 0.003451251078515962, 0.6348381941669996, 0.0009582283422649679, 0.45188284518828453, 0.000622100567000231, 0.5396759451599501, 0.001026893999752129, 0.5733387358184765, 0.0018254319893664156, 0.49794913863822804, 0.0008176469542650953, 0.5264462809917355, 0.0013295750678083286, 0.5940633774568793, 0.0020328436831592157, 0.5640194489465153, 0.000994865781946739, 0.5558312655086849, 0.0012020080605246411, 0.6599516518936341, 0.0016977328192975631, 0.485973597359736, 0.0006049283871541678, 0.5829909613804437, 0.0017802062219088746, 0.6831406935033878, 0.002307556808173331, 0.5569256062474311, 0.000852242462980718, 0.6128, 0.0029640607632456465, 0.570168404170008, 0.001227976508275494, 0.5482315112540193, 0.001890793426400424, 0.5817805383022774, 0.0006559469569379687]\n"
     ]
    },
    {
     "data": {
      "image/png": "[encoded data removed]",
      "text/plain": [
       "<Figure size 432x288 with 2 Axes>"
      ]
     },
     "metadata": {
      "needs_background": "light"
     },
     "output_type": "display_data"
    }
   ],
   "source": [
    "# Plot loss\n",
    "plt.subplot('121')\n",
    "plt.plot(config['history']['loss'])\n",
    "plt.subplot('122')\n",
    "plt.plot(config['history']['IoU_T'])"
   ]
  },
  {
   "cell_type": "code",
   "execution_count": null,
   "metadata": {},
   "outputs": [],
   "source": [
    "# Test on 100 samples which the network was not trained on\n",
    "test_data = data[samples_used:(samples_used+100), :, :, :]\n",
    "test_labels = OHE_labels[samples_used:(samples_used+100), :, :, :]\n",
    "test_labels = test_labels.reshape(100, -1, 4)\n",
    "print(my_unet.evaluate(x = test_data, y=test_labels))\n"
   ]
  },
  {
   "cell_type": "code",
   "execution_count": null,
   "metadata": {},
   "outputs": [],
   "source": [
    "# Save a smaller dataset for drive as well\n",
    "data_small = data[100:120, :, :, :]\n",
    "np.save('numpy_data_small', data_small)\n",
    "labels_small = OHE_labels[100:120, :, :, :]\n",
    "np.save('numpy_labels_small',  labels_small)"
   ]
  },
  {
   "cell_type": "code",
   "execution_count": null,
   "metadata": {},
   "outputs": [],
   "source": [
    "# Save data and labels to upload to drive\n",
    "np.save('numpy_data', data)\n",
    "np.save('numpy_labels', OHE_labels)"
   ]
  },
  {
   "cell_type": "code",
   "execution_count": null,
   "metadata": {},
   "outputs": [],
   "source": [
    "my_unet.save_weights('Training_session_1/my_unet_corrected_data.h5')"
   ]
  },
  {
   "cell_type": "code",
   "execution_count": null,
   "metadata": {},
   "outputs": [],
   "source": [
    "names = ('t1', 't2', 't1ce', 'flair')\n",
    "\n",
    "ground_truth = OHE_uncoding(uncorrected_OHE_labels[70, :, :, :], mapping)\n",
    "\n",
    "for i, name in enumerate(names):\n",
    "    plt.imshow(uncorrected_data[70,:,:,i])\n",
    "    plt.axis('off')\n",
    "    plt.savefig('figures/brain_example/'+name+'_example.png', transparent=True)\n",
    "\n",
    "plt.imshow(ground_truth)\n",
    "plt.legend(names)\n",
    "plt.axis('off')\n",
    "plt.savefig('figures/brain_example/gt.png', transparent=True)"
   ]
  },
  {
   "cell_type": "code",
   "execution_count": null,
   "metadata": {},
   "outputs": [],
   "source": []
  }
 ],
 "metadata": {
  "kernelspec": {
   "display_name": "Python 3",
   "language": "python",
   "name": "python3"
  },
  "language_info": {
   "codemirror_mode": {
    "name": "ipython",
    "version": 3
   },
   "file_extension": ".py",
   "mimetype": "text/x-python",
   "name": "python",
   "nbconvert_exporter": "python",
   "pygments_lexer": "ipython3",
   "version": "3.6.9"
  }
 },
 "nbformat": 4,
 "nbformat_minor": 4
}
